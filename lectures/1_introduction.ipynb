{
  "nbformat": 4,
  "nbformat_minor": 0,
  "metadata": {
    "colab": {
      "name": "1_text_analysis_tools.ipynb",
      "provenance": [],
      "collapsed_sections": [],
      "toc_visible": true
    },
    "kernelspec": {
      "name": "python3",
      "display_name": "Python 3"
    },
    "widgets": {
      "application/vnd.jupyter.widget-state+json": {
        "6c80b0cf60514dad96b7786b31c58da6": {
          "model_module": "@jupyter-widgets/controls",
          "model_name": "HBoxModel",
          "state": {
            "_view_name": "HBoxView",
            "_dom_classes": [],
            "_model_name": "HBoxModel",
            "_view_module": "@jupyter-widgets/controls",
            "_model_module_version": "1.5.0",
            "_view_count": null,
            "_view_module_version": "1.5.0",
            "box_style": "",
            "layout": "IPY_MODEL_c26ce3351ce54eb4be17da4cefc0ddac",
            "_model_module": "@jupyter-widgets/controls",
            "children": [
              "IPY_MODEL_3d013f93dd324f82a95d9750d40e2039",
              "IPY_MODEL_303886ea702e426b93b6854aca3878d1"
            ]
          }
        },
        "c26ce3351ce54eb4be17da4cefc0ddac": {
          "model_module": "@jupyter-widgets/base",
          "model_name": "LayoutModel",
          "state": {
            "_view_name": "LayoutView",
            "grid_template_rows": null,
            "right": null,
            "justify_content": null,
            "_view_module": "@jupyter-widgets/base",
            "overflow": null,
            "_model_module_version": "1.2.0",
            "_view_count": null,
            "flex_flow": null,
            "width": null,
            "min_width": null,
            "border": null,
            "align_items": null,
            "bottom": null,
            "_model_module": "@jupyter-widgets/base",
            "top": null,
            "grid_column": null,
            "overflow_y": null,
            "overflow_x": null,
            "grid_auto_flow": null,
            "grid_area": null,
            "grid_template_columns": null,
            "flex": null,
            "_model_name": "LayoutModel",
            "justify_items": null,
            "grid_row": null,
            "max_height": null,
            "align_content": null,
            "visibility": null,
            "align_self": null,
            "height": null,
            "min_height": null,
            "padding": null,
            "grid_auto_rows": null,
            "grid_gap": null,
            "max_width": null,
            "order": null,
            "_view_module_version": "1.2.0",
            "grid_template_areas": null,
            "object_position": null,
            "object_fit": null,
            "grid_auto_columns": null,
            "margin": null,
            "display": null,
            "left": null
          }
        },
        "3d013f93dd324f82a95d9750d40e2039": {
          "model_module": "@jupyter-widgets/controls",
          "model_name": "IntProgressModel",
          "state": {
            "_view_name": "ProgressView",
            "style": "IPY_MODEL_f12bcca536004e01adfe8fc46697a2ef",
            "_dom_classes": [],
            "description": "",
            "_model_name": "IntProgressModel",
            "bar_style": "success",
            "max": 1000,
            "_view_module": "@jupyter-widgets/controls",
            "_model_module_version": "1.5.0",
            "value": 1000,
            "_view_count": null,
            "_view_module_version": "1.5.0",
            "orientation": "horizontal",
            "min": 0,
            "description_tooltip": null,
            "_model_module": "@jupyter-widgets/controls",
            "layout": "IPY_MODEL_37ab6dd6c6a44d95b57f393695cd7aec"
          }
        },
        "303886ea702e426b93b6854aca3878d1": {
          "model_module": "@jupyter-widgets/controls",
          "model_name": "HTMLModel",
          "state": {
            "_view_name": "HTMLView",
            "style": "IPY_MODEL_6f139863f227447d86570ed64c2cd6df",
            "_dom_classes": [],
            "description": "",
            "_model_name": "HTMLModel",
            "placeholder": "​",
            "_view_module": "@jupyter-widgets/controls",
            "_model_module_version": "1.5.0",
            "value": "100% 1000/1000 [00:00&lt;00:00, 2785.29it/s]",
            "_view_count": null,
            "_view_module_version": "1.5.0",
            "description_tooltip": null,
            "_model_module": "@jupyter-widgets/controls",
            "layout": "IPY_MODEL_65d1dc024002486d8c5cdb02c745c825"
          }
        },
        "f12bcca536004e01adfe8fc46697a2ef": {
          "model_module": "@jupyter-widgets/controls",
          "model_name": "ProgressStyleModel",
          "state": {
            "_view_name": "StyleView",
            "_model_name": "ProgressStyleModel",
            "description_width": "",
            "_view_module": "@jupyter-widgets/base",
            "_model_module_version": "1.5.0",
            "_view_count": null,
            "_view_module_version": "1.2.0",
            "bar_color": null,
            "_model_module": "@jupyter-widgets/controls"
          }
        },
        "37ab6dd6c6a44d95b57f393695cd7aec": {
          "model_module": "@jupyter-widgets/base",
          "model_name": "LayoutModel",
          "state": {
            "_view_name": "LayoutView",
            "grid_template_rows": null,
            "right": null,
            "justify_content": null,
            "_view_module": "@jupyter-widgets/base",
            "overflow": null,
            "_model_module_version": "1.2.0",
            "_view_count": null,
            "flex_flow": null,
            "width": null,
            "min_width": null,
            "border": null,
            "align_items": null,
            "bottom": null,
            "_model_module": "@jupyter-widgets/base",
            "top": null,
            "grid_column": null,
            "overflow_y": null,
            "overflow_x": null,
            "grid_auto_flow": null,
            "grid_area": null,
            "grid_template_columns": null,
            "flex": null,
            "_model_name": "LayoutModel",
            "justify_items": null,
            "grid_row": null,
            "max_height": null,
            "align_content": null,
            "visibility": null,
            "align_self": null,
            "height": null,
            "min_height": null,
            "padding": null,
            "grid_auto_rows": null,
            "grid_gap": null,
            "max_width": null,
            "order": null,
            "_view_module_version": "1.2.0",
            "grid_template_areas": null,
            "object_position": null,
            "object_fit": null,
            "grid_auto_columns": null,
            "margin": null,
            "display": null,
            "left": null
          }
        },
        "6f139863f227447d86570ed64c2cd6df": {
          "model_module": "@jupyter-widgets/controls",
          "model_name": "DescriptionStyleModel",
          "state": {
            "_view_name": "StyleView",
            "_model_name": "DescriptionStyleModel",
            "description_width": "",
            "_view_module": "@jupyter-widgets/base",
            "_model_module_version": "1.5.0",
            "_view_count": null,
            "_view_module_version": "1.2.0",
            "_model_module": "@jupyter-widgets/controls"
          }
        },
        "65d1dc024002486d8c5cdb02c745c825": {
          "model_module": "@jupyter-widgets/base",
          "model_name": "LayoutModel",
          "state": {
            "_view_name": "LayoutView",
            "grid_template_rows": null,
            "right": null,
            "justify_content": null,
            "_view_module": "@jupyter-widgets/base",
            "overflow": null,
            "_model_module_version": "1.2.0",
            "_view_count": null,
            "flex_flow": null,
            "width": null,
            "min_width": null,
            "border": null,
            "align_items": null,
            "bottom": null,
            "_model_module": "@jupyter-widgets/base",
            "top": null,
            "grid_column": null,
            "overflow_y": null,
            "overflow_x": null,
            "grid_auto_flow": null,
            "grid_area": null,
            "grid_template_columns": null,
            "flex": null,
            "_model_name": "LayoutModel",
            "justify_items": null,
            "grid_row": null,
            "max_height": null,
            "align_content": null,
            "visibility": null,
            "align_self": null,
            "height": null,
            "min_height": null,
            "padding": null,
            "grid_auto_rows": null,
            "grid_gap": null,
            "max_width": null,
            "order": null,
            "_view_module_version": "1.2.0",
            "grid_template_areas": null,
            "object_position": null,
            "object_fit": null,
            "grid_auto_columns": null,
            "margin": null,
            "display": null,
            "left": null
          }
        },
        "984a0a077376407a8da53996cfd24f1f": {
          "model_module": "@jupyter-widgets/controls",
          "model_name": "HBoxModel",
          "state": {
            "_view_name": "HBoxView",
            "_dom_classes": [],
            "_model_name": "HBoxModel",
            "_view_module": "@jupyter-widgets/controls",
            "_model_module_version": "1.5.0",
            "_view_count": null,
            "_view_module_version": "1.5.0",
            "box_style": "",
            "layout": "IPY_MODEL_0375115326da43a08c06365f7b086444",
            "_model_module": "@jupyter-widgets/controls",
            "children": [
              "IPY_MODEL_cf70a9d25b5d4efd9ad7445a73622831",
              "IPY_MODEL_696620bf61064a65a51877ca51dc5e8c"
            ]
          }
        },
        "0375115326da43a08c06365f7b086444": {
          "model_module": "@jupyter-widgets/base",
          "model_name": "LayoutModel",
          "state": {
            "_view_name": "LayoutView",
            "grid_template_rows": null,
            "right": null,
            "justify_content": null,
            "_view_module": "@jupyter-widgets/base",
            "overflow": null,
            "_model_module_version": "1.2.0",
            "_view_count": null,
            "flex_flow": null,
            "width": null,
            "min_width": null,
            "border": null,
            "align_items": null,
            "bottom": null,
            "_model_module": "@jupyter-widgets/base",
            "top": null,
            "grid_column": null,
            "overflow_y": null,
            "overflow_x": null,
            "grid_auto_flow": null,
            "grid_area": null,
            "grid_template_columns": null,
            "flex": null,
            "_model_name": "LayoutModel",
            "justify_items": null,
            "grid_row": null,
            "max_height": null,
            "align_content": null,
            "visibility": null,
            "align_self": null,
            "height": null,
            "min_height": null,
            "padding": null,
            "grid_auto_rows": null,
            "grid_gap": null,
            "max_width": null,
            "order": null,
            "_view_module_version": "1.2.0",
            "grid_template_areas": null,
            "object_position": null,
            "object_fit": null,
            "grid_auto_columns": null,
            "margin": null,
            "display": null,
            "left": null
          }
        },
        "cf70a9d25b5d4efd9ad7445a73622831": {
          "model_module": "@jupyter-widgets/controls",
          "model_name": "IntProgressModel",
          "state": {
            "_view_name": "ProgressView",
            "style": "IPY_MODEL_6610385e24834a4d96f78932be02cb12",
            "_dom_classes": [],
            "description": "",
            "_model_name": "IntProgressModel",
            "bar_style": "success",
            "max": 10000,
            "_view_module": "@jupyter-widgets/controls",
            "_model_module_version": "1.5.0",
            "value": 10000,
            "_view_count": null,
            "_view_module_version": "1.5.0",
            "orientation": "horizontal",
            "min": 0,
            "description_tooltip": null,
            "_model_module": "@jupyter-widgets/controls",
            "layout": "IPY_MODEL_1cbed1cb675a4eb495ef319a744eac8d"
          }
        },
        "696620bf61064a65a51877ca51dc5e8c": {
          "model_module": "@jupyter-widgets/controls",
          "model_name": "HTMLModel",
          "state": {
            "_view_name": "HTMLView",
            "style": "IPY_MODEL_edb1875e3df54c77834953aa530ce4af",
            "_dom_classes": [],
            "description": "",
            "_model_name": "HTMLModel",
            "placeholder": "​",
            "_view_module": "@jupyter-widgets/controls",
            "_model_module_version": "1.5.0",
            "value": "100% 10000/10000 [00:05&lt;00:00, 1801.10it/s]",
            "_view_count": null,
            "_view_module_version": "1.5.0",
            "description_tooltip": null,
            "_model_module": "@jupyter-widgets/controls",
            "layout": "IPY_MODEL_e134afca1f7d42d8b3c86e89680d52e1"
          }
        },
        "6610385e24834a4d96f78932be02cb12": {
          "model_module": "@jupyter-widgets/controls",
          "model_name": "ProgressStyleModel",
          "state": {
            "_view_name": "StyleView",
            "_model_name": "ProgressStyleModel",
            "description_width": "",
            "_view_module": "@jupyter-widgets/base",
            "_model_module_version": "1.5.0",
            "_view_count": null,
            "_view_module_version": "1.2.0",
            "bar_color": null,
            "_model_module": "@jupyter-widgets/controls"
          }
        },
        "1cbed1cb675a4eb495ef319a744eac8d": {
          "model_module": "@jupyter-widgets/base",
          "model_name": "LayoutModel",
          "state": {
            "_view_name": "LayoutView",
            "grid_template_rows": null,
            "right": null,
            "justify_content": null,
            "_view_module": "@jupyter-widgets/base",
            "overflow": null,
            "_model_module_version": "1.2.0",
            "_view_count": null,
            "flex_flow": null,
            "width": null,
            "min_width": null,
            "border": null,
            "align_items": null,
            "bottom": null,
            "_model_module": "@jupyter-widgets/base",
            "top": null,
            "grid_column": null,
            "overflow_y": null,
            "overflow_x": null,
            "grid_auto_flow": null,
            "grid_area": null,
            "grid_template_columns": null,
            "flex": null,
            "_model_name": "LayoutModel",
            "justify_items": null,
            "grid_row": null,
            "max_height": null,
            "align_content": null,
            "visibility": null,
            "align_self": null,
            "height": null,
            "min_height": null,
            "padding": null,
            "grid_auto_rows": null,
            "grid_gap": null,
            "max_width": null,
            "order": null,
            "_view_module_version": "1.2.0",
            "grid_template_areas": null,
            "object_position": null,
            "object_fit": null,
            "grid_auto_columns": null,
            "margin": null,
            "display": null,
            "left": null
          }
        },
        "edb1875e3df54c77834953aa530ce4af": {
          "model_module": "@jupyter-widgets/controls",
          "model_name": "DescriptionStyleModel",
          "state": {
            "_view_name": "StyleView",
            "_model_name": "DescriptionStyleModel",
            "description_width": "",
            "_view_module": "@jupyter-widgets/base",
            "_model_module_version": "1.5.0",
            "_view_count": null,
            "_view_module_version": "1.2.0",
            "_model_module": "@jupyter-widgets/controls"
          }
        },
        "e134afca1f7d42d8b3c86e89680d52e1": {
          "model_module": "@jupyter-widgets/base",
          "model_name": "LayoutModel",
          "state": {
            "_view_name": "LayoutView",
            "grid_template_rows": null,
            "right": null,
            "justify_content": null,
            "_view_module": "@jupyter-widgets/base",
            "overflow": null,
            "_model_module_version": "1.2.0",
            "_view_count": null,
            "flex_flow": null,
            "width": null,
            "min_width": null,
            "border": null,
            "align_items": null,
            "bottom": null,
            "_model_module": "@jupyter-widgets/base",
            "top": null,
            "grid_column": null,
            "overflow_y": null,
            "overflow_x": null,
            "grid_auto_flow": null,
            "grid_area": null,
            "grid_template_columns": null,
            "flex": null,
            "_model_name": "LayoutModel",
            "justify_items": null,
            "grid_row": null,
            "max_height": null,
            "align_content": null,
            "visibility": null,
            "align_self": null,
            "height": null,
            "min_height": null,
            "padding": null,
            "grid_auto_rows": null,
            "grid_gap": null,
            "max_width": null,
            "order": null,
            "_view_module_version": "1.2.0",
            "grid_template_areas": null,
            "object_position": null,
            "object_fit": null,
            "grid_auto_columns": null,
            "margin": null,
            "display": null,
            "left": null
          }
        },
        "87b51ef8b07f41fe8080609ebfacfda0": {
          "model_module": "@jupyter-widgets/controls",
          "model_name": "HBoxModel",
          "state": {
            "_view_name": "HBoxView",
            "_dom_classes": [],
            "_model_name": "HBoxModel",
            "_view_module": "@jupyter-widgets/controls",
            "_model_module_version": "1.5.0",
            "_view_count": null,
            "_view_module_version": "1.5.0",
            "box_style": "",
            "layout": "IPY_MODEL_214d54ac085a4270b297679a542e2906",
            "_model_module": "@jupyter-widgets/controls",
            "children": [
              "IPY_MODEL_5bca5f94b94f4d0e9191a503793db0b1",
              "IPY_MODEL_581089a20c704a64aa24906aa5744361"
            ]
          }
        },
        "214d54ac085a4270b297679a542e2906": {
          "model_module": "@jupyter-widgets/base",
          "model_name": "LayoutModel",
          "state": {
            "_view_name": "LayoutView",
            "grid_template_rows": null,
            "right": null,
            "justify_content": null,
            "_view_module": "@jupyter-widgets/base",
            "overflow": null,
            "_model_module_version": "1.2.0",
            "_view_count": null,
            "flex_flow": null,
            "width": null,
            "min_width": null,
            "border": null,
            "align_items": null,
            "bottom": null,
            "_model_module": "@jupyter-widgets/base",
            "top": null,
            "grid_column": null,
            "overflow_y": null,
            "overflow_x": null,
            "grid_auto_flow": null,
            "grid_area": null,
            "grid_template_columns": null,
            "flex": null,
            "_model_name": "LayoutModel",
            "justify_items": null,
            "grid_row": null,
            "max_height": null,
            "align_content": null,
            "visibility": null,
            "align_self": null,
            "height": null,
            "min_height": null,
            "padding": null,
            "grid_auto_rows": null,
            "grid_gap": null,
            "max_width": null,
            "order": null,
            "_view_module_version": "1.2.0",
            "grid_template_areas": null,
            "object_position": null,
            "object_fit": null,
            "grid_auto_columns": null,
            "margin": null,
            "display": null,
            "left": null
          }
        },
        "5bca5f94b94f4d0e9191a503793db0b1": {
          "model_module": "@jupyter-widgets/controls",
          "model_name": "IntProgressModel",
          "state": {
            "_view_name": "ProgressView",
            "style": "IPY_MODEL_4450035a2b6a4519a0f8728f15f37f21",
            "_dom_classes": [],
            "description": "",
            "_model_name": "IntProgressModel",
            "bar_style": "success",
            "max": 10000,
            "_view_module": "@jupyter-widgets/controls",
            "_model_module_version": "1.5.0",
            "value": 10000,
            "_view_count": null,
            "_view_module_version": "1.5.0",
            "orientation": "horizontal",
            "min": 0,
            "description_tooltip": null,
            "_model_module": "@jupyter-widgets/controls",
            "layout": "IPY_MODEL_0fd5e8b91b5e4c2a9885f65375337c84"
          }
        },
        "581089a20c704a64aa24906aa5744361": {
          "model_module": "@jupyter-widgets/controls",
          "model_name": "HTMLModel",
          "state": {
            "_view_name": "HTMLView",
            "style": "IPY_MODEL_30743647cf5640e798c250f7af69317a",
            "_dom_classes": [],
            "description": "",
            "_model_name": "HTMLModel",
            "placeholder": "​",
            "_view_module": "@jupyter-widgets/controls",
            "_model_module_version": "1.5.0",
            "value": "100% 10000/10000 [00:05&lt;00:00, 1877.84it/s]",
            "_view_count": null,
            "_view_module_version": "1.5.0",
            "description_tooltip": null,
            "_model_module": "@jupyter-widgets/controls",
            "layout": "IPY_MODEL_b4b3ca8c6bce4dde9e05939a847cc84f"
          }
        },
        "4450035a2b6a4519a0f8728f15f37f21": {
          "model_module": "@jupyter-widgets/controls",
          "model_name": "ProgressStyleModel",
          "state": {
            "_view_name": "StyleView",
            "_model_name": "ProgressStyleModel",
            "description_width": "",
            "_view_module": "@jupyter-widgets/base",
            "_model_module_version": "1.5.0",
            "_view_count": null,
            "_view_module_version": "1.2.0",
            "bar_color": null,
            "_model_module": "@jupyter-widgets/controls"
          }
        },
        "0fd5e8b91b5e4c2a9885f65375337c84": {
          "model_module": "@jupyter-widgets/base",
          "model_name": "LayoutModel",
          "state": {
            "_view_name": "LayoutView",
            "grid_template_rows": null,
            "right": null,
            "justify_content": null,
            "_view_module": "@jupyter-widgets/base",
            "overflow": null,
            "_model_module_version": "1.2.0",
            "_view_count": null,
            "flex_flow": null,
            "width": null,
            "min_width": null,
            "border": null,
            "align_items": null,
            "bottom": null,
            "_model_module": "@jupyter-widgets/base",
            "top": null,
            "grid_column": null,
            "overflow_y": null,
            "overflow_x": null,
            "grid_auto_flow": null,
            "grid_area": null,
            "grid_template_columns": null,
            "flex": null,
            "_model_name": "LayoutModel",
            "justify_items": null,
            "grid_row": null,
            "max_height": null,
            "align_content": null,
            "visibility": null,
            "align_self": null,
            "height": null,
            "min_height": null,
            "padding": null,
            "grid_auto_rows": null,
            "grid_gap": null,
            "max_width": null,
            "order": null,
            "_view_module_version": "1.2.0",
            "grid_template_areas": null,
            "object_position": null,
            "object_fit": null,
            "grid_auto_columns": null,
            "margin": null,
            "display": null,
            "left": null
          }
        },
        "30743647cf5640e798c250f7af69317a": {
          "model_module": "@jupyter-widgets/controls",
          "model_name": "DescriptionStyleModel",
          "state": {
            "_view_name": "StyleView",
            "_model_name": "DescriptionStyleModel",
            "description_width": "",
            "_view_module": "@jupyter-widgets/base",
            "_model_module_version": "1.5.0",
            "_view_count": null,
            "_view_module_version": "1.2.0",
            "_model_module": "@jupyter-widgets/controls"
          }
        },
        "b4b3ca8c6bce4dde9e05939a847cc84f": {
          "model_module": "@jupyter-widgets/base",
          "model_name": "LayoutModel",
          "state": {
            "_view_name": "LayoutView",
            "grid_template_rows": null,
            "right": null,
            "justify_content": null,
            "_view_module": "@jupyter-widgets/base",
            "overflow": null,
            "_model_module_version": "1.2.0",
            "_view_count": null,
            "flex_flow": null,
            "width": null,
            "min_width": null,
            "border": null,
            "align_items": null,
            "bottom": null,
            "_model_module": "@jupyter-widgets/base",
            "top": null,
            "grid_column": null,
            "overflow_y": null,
            "overflow_x": null,
            "grid_auto_flow": null,
            "grid_area": null,
            "grid_template_columns": null,
            "flex": null,
            "_model_name": "LayoutModel",
            "justify_items": null,
            "grid_row": null,
            "max_height": null,
            "align_content": null,
            "visibility": null,
            "align_self": null,
            "height": null,
            "min_height": null,
            "padding": null,
            "grid_auto_rows": null,
            "grid_gap": null,
            "max_width": null,
            "order": null,
            "_view_module_version": "1.2.0",
            "grid_template_areas": null,
            "object_position": null,
            "object_fit": null,
            "grid_auto_columns": null,
            "margin": null,
            "display": null,
            "left": null
          }
        }
      }
    }
  },
  "cells": [
    {
      "cell_type": "code",
      "metadata": {
        "id": "iP2N3UpjarIA",
        "colab_type": "code",
        "outputId": "b8f32fa4-f168-492c-c8ef-7b3a53b4ca22",
        "colab": {
          "base_uri": "https://localhost:8080/",
          "height": 119
        }
      },
      "source": [
        "#@title <b><font color=\"red\" size=\"+1\">←</font><font color=\"black\" size=\"+1\"> prepare supplementary materials for the lesson</font></b>\n",
        "# prepare supplementary materials for the lesson\n",
        "!rm -rf harbour-space-text-mining-course\n",
        "!git clone https://github.com/horoshenkih/harbour-space-text-mining-course.git\n",
        "import sys\n",
        "sys.path.append('harbour-space-text-mining-course')\n",
        "\n",
        "from collections import Counter\n",
        "from math import exp\n",
        "from tabulate import tabulate\n",
        "from tqdm import tqdm_notebook\n",
        "from IPython.display import HTML, display"
      ],
      "execution_count": 0,
      "outputs": [
        {
          "output_type": "stream",
          "text": [
            "Cloning into 'harbour-space-text-mining-course'...\n",
            "remote: Enumerating objects: 70, done.\u001b[K\n",
            "remote: Counting objects: 100% (70/70), done.\u001b[K\n",
            "remote: Compressing objects: 100% (55/55), done.\u001b[K\n",
            "remote: Total 70 (delta 20), reused 57 (delta 10), pack-reused 0\n",
            "Unpacking objects: 100% (70/70), done.\n"
          ],
          "name": "stdout"
        }
      ]
    },
    {
      "cell_type": "markdown",
      "metadata": {
        "id": "TK92FbFeIpKD",
        "colab_type": "text"
      },
      "source": [
        "# Lesson 1"
      ]
    },
    {
      "cell_type": "markdown",
      "metadata": {
        "id": "FPGLCUx4cLGx",
        "colab_type": "text"
      },
      "source": [
        "В этом уроке мы будем исследовать [архив твитов Трампа](http://trumptwitterarchive.com/archive), который хранится в репозитории курса в виде json-файла."
      ]
    },
    {
      "cell_type": "code",
      "metadata": {
        "id": "vanZAFmHbEZM",
        "colab_type": "code",
        "colab": {}
      },
      "source": [
        "import json\n",
        "with open(\"harbour-space-text-mining-course/datasets/trump_twitter_archive/tweets.json\") as f:\n",
        "  tweets = json.load(f)"
      ],
      "execution_count": 0,
      "outputs": []
    },
    {
      "cell_type": "markdown",
      "metadata": {
        "id": "yKxmZEdJdVXu",
        "colab_type": "text"
      },
      "source": [
        "Твиты хранятся в виде списка словарей:"
      ]
    },
    {
      "cell_type": "code",
      "metadata": {
        "id": "1YnvLToJbcCo",
        "colab_type": "code",
        "outputId": "2ff82698-5907-4e63-c427-2fb28e650f40",
        "colab": {
          "base_uri": "https://localhost:8080/",
          "height": 170
        }
      },
      "source": [
        "from pprint import pprint\n",
        "print(\"type:\", type(tweets))\n",
        "print(\"num tweets:\", len(tweets))\n",
        "pprint(tweets[0])"
      ],
      "execution_count": 0,
      "outputs": [
        {
          "output_type": "stream",
          "text": [
            "type: <class 'list'>\n",
            "num tweets: 45868\n",
            "{'created_at': 'Sat Feb 22 04:17:45 +0000 2020',\n",
            " 'favorite_count': 47513,\n",
            " 'id_str': '1231070547607511040',\n",
            " 'is_retweet': False,\n",
            " 'retweet_count': 11327,\n",
            " 'source': 'Twitter for iPhone',\n",
            " 'text': 'Incredible people, great Rally! https://t.co/3i6tgfqrRl'}\n"
          ],
          "name": "stdout"
        }
      ]
    },
    {
      "cell_type": "markdown",
      "metadata": {
        "id": "4pHXU8USfBV3",
        "colab_type": "text"
      },
      "source": [
        "В этом уроке нам будут интересны тексты твитов и время их создания."
      ]
    },
    {
      "cell_type": "markdown",
      "metadata": {
        "id": "2KYCWi4UnEQs",
        "colab_type": "text"
      },
      "source": [
        "# Tokenization\n",
        "Как мы читаем письменный текст?\n",
        "Технически, текст -- это последовательность букв, но мы автоматически воспринимаем его как последовательность **токенов** -- слов, знаков препинания и прочих подстрок, несущих смысловую нагрузку.\n",
        "\n",
        "Простейший способ токенизации -- разбить по whitespace (это делает метод строк `.split()`):\n"
      ]
    },
    {
      "cell_type": "code",
      "metadata": {
        "id": "iojAS9fKnsQI",
        "colab_type": "code",
        "outputId": "4a6af29d-7487-4344-d7fb-ea68605d2dcd",
        "colab": {
          "base_uri": "https://localhost:8080/",
          "height": 51
        }
      },
      "source": [
        "text = tweets[0][\"text\"]\n",
        "print(\"Text:\")\n",
        "pprint(text)"
      ],
      "execution_count": 0,
      "outputs": [
        {
          "output_type": "stream",
          "text": [
            "Text:\n",
            "'Incredible people, great Rally! https://t.co/3i6tgfqrRl'\n"
          ],
          "name": "stdout"
        }
      ]
    },
    {
      "cell_type": "code",
      "metadata": {
        "id": "-vxtbDZNBq7U",
        "colab_type": "code",
        "outputId": "e60f97e2-6f7b-422b-899a-caae05f1f1d6",
        "colab": {
          "base_uri": "https://localhost:8080/",
          "height": 51
        }
      },
      "source": [
        "pprint(text.split(), compact=True)\n",
        "print()"
      ],
      "execution_count": 0,
      "outputs": [
        {
          "output_type": "stream",
          "text": [
            "['Incredible', 'people,', 'great', 'Rally!', 'https://t.co/3i6tgfqrRl']\n",
            "\n"
          ],
          "name": "stdout"
        }
      ]
    },
    {
      "cell_type": "markdown",
      "metadata": {
        "id": "OFXR8Es6BM6D",
        "colab_type": "text"
      },
      "source": [
        "Видно, что нужно отделить знаки препинания от слов, за которыми они следуют, при этом корректно обработав случаи, когда знак препинания является частью слова, url или логина Твиттера:"
      ]
    },
    {
      "cell_type": "code",
      "metadata": {
        "id": "hjZh432KCUzO",
        "colab_type": "code",
        "outputId": "65ba52e4-4767-48f9-9291-bf34e97e0f24",
        "colab": {
          "base_uri": "https://localhost:8080/",
          "height": 68
        }
      },
      "source": [
        "text_to_tokenize = None\n",
        "for i, tweet in enumerate(tweets):\n",
        "  special_chars = \"-'@/\"\n",
        "  tweet_chars = set(tweet[\"text\"])\n",
        "  if all([c in tweet_chars for c in special_chars]):\n",
        "    text_to_tokenize = tweet[\"text\"]\n",
        "    print(i)\n",
        "    pprint(tweet[\"text\"])\n",
        "    break"
      ],
      "execution_count": 0,
      "outputs": [
        {
          "output_type": "stream",
          "text": [
            "537\n",
            "(\"RT @nypost: Nancy Pelosi 'pre-ripped' pages of Trump's SOTU speech, video \"\n",
            " 'shows https://t.co/e4bItGSTPt https://t.co/Ef8YeIVGCx')\n"
          ],
          "name": "stdout"
        }
      ]
    },
    {
      "cell_type": "markdown",
      "metadata": {
        "id": "cj8ik1vDEXHM",
        "colab_type": "text"
      },
      "source": [
        "Не стоит решать задачу токенизации самостоятельно.\n",
        "Пришло время познакомиться с spaCy -- библиотекой для обработки естественного текста"
      ]
    },
    {
      "cell_type": "code",
      "metadata": {
        "id": "kDduMDHz9R8M",
        "colab_type": "code",
        "outputId": "81de3159-2fc2-4b6f-c8fd-bea42f0b45f1",
        "colab": {
          "base_uri": "https://localhost:8080/",
          "height": 102
        }
      },
      "source": [
        "# text to be tokenized\n",
        "pprint(text_to_tokenize)\n",
        "\n",
        "from spacy.lang.en import English\n",
        "\n",
        "# create text analyzer that includes rules of tokenization\n",
        "analyze_text = English()\n",
        "\n",
        "# spaCy has functional API\n",
        "analyzed_text = analyze_text(text_to_tokenize)\n",
        "\n",
        "# the resulting object is iterable, and tokens can be extracted by iteration\n",
        "pprint([token.text for token in analyzed_text], compact=True)"
      ],
      "execution_count": 0,
      "outputs": [
        {
          "output_type": "stream",
          "text": [
            "(\"RT @nypost: Nancy Pelosi 'pre-ripped' pages of Trump's SOTU speech, video \"\n",
            " 'shows https://t.co/e4bItGSTPt https://t.co/Ef8YeIVGCx')\n",
            "['RT', '@nypost', ':', 'Nancy', 'Pelosi', \"'\", 'pre', '-', 'ripped', \"'\",\n",
            " 'pages', 'of', 'Trump', \"'s\", 'SOTU', 'speech', ',', 'video', 'shows',\n",
            " 'https://t.co/e4bItGSTPt', 'https://t.co/Ef8YeIVGCx']\n"
          ],
          "name": "stdout"
        }
      ]
    },
    {
      "cell_type": "markdown",
      "metadata": {
        "id": "-_0QwNxDfb7o",
        "colab_type": "text"
      },
      "source": [
        "Let's find the most frequent tokens"
      ]
    },
    {
      "cell_type": "code",
      "metadata": {
        "id": "cXaF1roFfoRy",
        "colab_type": "code",
        "outputId": "fc0813a9-d625-4d48-d774-6745533f342f",
        "colab": {
          "base_uri": "https://localhost:8080/",
          "height": 406,
          "referenced_widgets": [
            "6c80b0cf60514dad96b7786b31c58da6",
            "c26ce3351ce54eb4be17da4cefc0ddac",
            "3d013f93dd324f82a95d9750d40e2039",
            "303886ea702e426b93b6854aca3878d1",
            "f12bcca536004e01adfe8fc46697a2ef",
            "37ab6dd6c6a44d95b57f393695cd7aec",
            "6f139863f227447d86570ed64c2cd6df",
            "65d1dc024002486d8c5cdb02c745c825"
          ]
        }
      },
      "source": [
        "from spacy.lang.en import English\n",
        "from tqdm import tqdm_notebook  # show progress bar\n",
        "\n",
        "nlp = English()\n",
        "token_counter = Counter()\n",
        "for tweet in tqdm_notebook(tweets[:1000]):\n",
        "  doc = nlp(tweet[\"text\"])\n",
        "  for token in doc:\n",
        "    token_counter[token.text] += 1\n",
        "pprint(token_counter.most_common()[:20])"
      ],
      "execution_count": 0,
      "outputs": [
        {
          "output_type": "display_data",
          "data": {
            "application/vnd.jupyter.widget-view+json": {
              "model_id": "6c80b0cf60514dad96b7786b31c58da6",
              "version_minor": 0,
              "version_major": 2
            },
            "text/plain": [
              "HBox(children=(IntProgress(value=0, max=1000), HTML(value='')))"
            ]
          },
          "metadata": {
            "tags": []
          }
        },
        {
          "output_type": "stream",
          "text": [
            "\n",
            "[(',', 960),\n",
            " ('the', 890),\n",
            " ('.', 760),\n",
            " (':', 709),\n",
            " ('RT', 590),\n",
            " ('to', 556),\n",
            " ('!', 435),\n",
            " ('…', 426),\n",
            " ('and', 387),\n",
            " ('of', 352),\n",
            " ('a', 327),\n",
            " ('is', 308),\n",
            " ('in', 289),\n",
            " ('for', 203),\n",
            " ('I', 161),\n",
            " ('that', 159),\n",
            " ('#', 159),\n",
            " ('@realDonaldTrump', 155),\n",
            " ('\\n\\n', 143),\n",
            " ('on', 142)]\n"
          ],
          "name": "stdout"
        }
      ]
    },
    {
      "cell_type": "markdown",
      "metadata": {
        "id": "HJmJL71yht-W",
        "colab_type": "text"
      },
      "source": [
        "Note that tokens \"The\" and \"the\" are treated as different words, but have the same meaning (there is also a token \"THE\").\n",
        "So it makes sense to convert most of the tokens to lowercase.\n",
        "It is called *normalization*.\n",
        "However, some tokens should preserve uppercase (for example, the `Trump` token should be in uppercase)."
      ]
    },
    {
      "cell_type": "markdown",
      "metadata": {
        "id": "iYw-tCjmc6ij",
        "colab_type": "text"
      },
      "source": [
        "# Lemmatization\n",
        "\n",
        "Иногда важно не только приводить слова к одному регистру, но и приводить разные формы слов к одной, *канонической* форме (грубо говоря, к той форме, по которой это слово можно найти в словаре).\n",
        "Эта форма называется *леммой*.\n",
        "Посмотрим, как получить леммы слов в spaCy.\n"
      ]
    },
    {
      "cell_type": "code",
      "metadata": {
        "id": "KeGuiKgsbEkv",
        "colab_type": "code",
        "outputId": "d6c7f8da-aad0-4fa4-a0c4-ee4e875c60c8",
        "colab": {
          "base_uri": "https://localhost:8080/",
          "height": 136
        }
      },
      "source": [
        "import spacy\n",
        "nlp = spacy.load(\"en\")  # load dictionaries for lemmatization\n",
        "for token in nlp(\"Don't mess with Donald Trump.\"):\n",
        "  print(\"'{}' -> '{}'\".format(token, token.lemma_))  # `lemma_` attribute contains the text of the token's lemma"
      ],
      "execution_count": 0,
      "outputs": [
        {
          "output_type": "stream",
          "text": [
            "'Do' -> 'do'\n",
            "'n't' -> 'not'\n",
            "'mess' -> 'mess'\n",
            "'with' -> 'with'\n",
            "'Donald' -> 'Donald'\n",
            "'Trump' -> 'Trump'\n",
            "'.' -> '.'\n"
          ],
          "name": "stdout"
        }
      ]
    },
    {
      "cell_type": "markdown",
      "metadata": {
        "id": "ZzugJbKHeuut",
        "colab_type": "text"
      },
      "source": [
        "Заметим, что `Don't` превращается в `do not`, т.е.\n",
        "- приводится к нижнему регистру;\n",
        "- сокращенная форма `n't` превращается в полную `not`.\n",
        "\n",
        "Также `Donald` и `Trump` не приводятся к нижнему регистру.\n",
        "А вот `Trump` (без предшествующего `Donald`) -- приводится."
      ]
    },
    {
      "cell_type": "code",
      "metadata": {
        "id": "EGguw4b2UNV5",
        "colab_type": "code",
        "outputId": "0138f584-1091-464e-e719-15daa5b0adf9",
        "colab": {
          "base_uri": "https://localhost:8080/",
          "height": 102
        }
      },
      "source": [
        "for token in nlp(\"Trump is a noun.\"):\n",
        "  print(\"'{}' -> '{}'\".format(token, token.lemma_))  # `lemma_` attribute contains the text of the token's lemma"
      ],
      "execution_count": 0,
      "outputs": [
        {
          "output_type": "stream",
          "text": [
            "'Trump' -> 'Trump'\n",
            "'is' -> 'be'\n",
            "'a' -> 'a'\n",
            "'noun' -> 'noun'\n",
            "'.' -> '.'\n"
          ],
          "name": "stdout"
        }
      ]
    },
    {
      "cell_type": "markdown",
      "metadata": {
        "id": "OPnDxP-Vnkko",
        "colab_type": "text"
      },
      "source": [
        "Как это работает? Под капотом spaCy определяет лемму в том числе на основе предсказанной части речи для этого слова. Именно \"предсказанной\", потому что в общем случае нельзя определить часть речи только по написанию.\n",
        "\n",
        "Часть речи токена можно получить с помощью атрибута `tag_`."
      ]
    },
    {
      "cell_type": "code",
      "metadata": {
        "id": "RnxCKkDem2vw",
        "colab_type": "code",
        "outputId": "a3a84a7c-0e05-4e4a-b3ad-8b26ce82ab47",
        "colab": {
          "base_uri": "https://localhost:8080/",
          "height": 153
        }
      },
      "source": [
        "for text in (\"Trump is a noun.\", \"Donald Trump.\"):\n",
        "  for token in nlp(text):\n",
        "    print(\"'{}' -> '{}'\".format(token, token.tag_))  # `tag_` attribute contains the text of the token's predicted part-of-speech tag"
      ],
      "execution_count": 0,
      "outputs": [
        {
          "output_type": "stream",
          "text": [
            "'Trump' -> 'NNP'\n",
            "'is' -> 'VBZ'\n",
            "'a' -> 'DT'\n",
            "'noun' -> 'NN'\n",
            "'.' -> '.'\n",
            "'Donald' -> 'NNP'\n",
            "'Trump' -> 'NNP'\n",
            "'.' -> '.'\n"
          ],
          "name": "stdout"
        }
      ]
    },
    {
      "cell_type": "markdown",
      "metadata": {
        "id": "sLUaRb93oDzh",
        "colab_type": "text"
      },
      "source": [
        "To make `tag_` human-readable, use `spacy.explain` function:"
      ]
    },
    {
      "cell_type": "code",
      "metadata": {
        "id": "c00OmaA5oedS",
        "colab_type": "code",
        "outputId": "2b1e103a-47b8-48c4-e7ba-9bdba25592f2",
        "colab": {
          "base_uri": "https://localhost:8080/",
          "height": 153
        }
      },
      "source": [
        "for text in (\"Trump is a noun.\", \"Donald Trump.\"):\n",
        "  for token in nlp(text):\n",
        "    print(\"'{}' -> '{}' ({})\".format(token, token.tag_, spacy.explain(token.tag_)))  # `spacy.explain` makes tag_ human-readable"
      ],
      "execution_count": 0,
      "outputs": [
        {
          "output_type": "stream",
          "text": [
            "'Trump' -> 'NNP' (noun, proper singular)\n",
            "'is' -> 'VBZ' (verb, 3rd person singular present)\n",
            "'a' -> 'DT' (determiner)\n",
            "'noun' -> 'NN' (noun, singular or mass)\n",
            "'.' -> '.' (punctuation mark, sentence closer)\n",
            "'Donald' -> 'NNP' (noun, proper singular)\n",
            "'Trump' -> 'NNP' (noun, proper singular)\n",
            "'.' -> '.' (punctuation mark, sentence closer)\n"
          ],
          "name": "stdout"
        }
      ]
    },
    {
      "cell_type": "markdown",
      "metadata": {
        "id": "YgOJMbkPnY2Z",
        "colab_type": "text"
      },
      "source": [
        "# NLP pipeline"
      ]
    },
    {
      "cell_type": "markdown",
      "metadata": {
        "id": "Bw6mpKwXsQ9j",
        "colab_type": "text"
      },
      "source": [
        "Кроме частей речи, `spacy` по умолчанию извлекает и другую информацию из текстов. Последовательность шагов по извлечению этой информации объединяется в так называемый _pipeline_.\n",
        "\n",
        "![NLP pipeline](https://spacy.io/pipeline-7a14d4edd18f3edfee8f34393bff2992.svg)\n",
        "\n",
        "Подробнее: https://spacy.io/usage/processing-pipelines"
      ]
    },
    {
      "cell_type": "code",
      "metadata": {
        "id": "M3R9hJE4xgso",
        "colab_type": "code",
        "outputId": "9a24360e-7951-4aea-dcbc-7d0f93077ba0",
        "colab": {
          "base_uri": "https://localhost:8080/",
          "height": 68
        }
      },
      "source": [
        "# `nlp` object has the attribute `pipeline`\n",
        "nlp.pipeline"
      ],
      "execution_count": 0,
      "outputs": [
        {
          "output_type": "execute_result",
          "data": {
            "text/plain": [
              "[('tagger', <spacy.pipeline.pipes.Tagger at 0x7f4e6c16d080>),\n",
              " ('parser', <spacy.pipeline.pipes.DependencyParser at 0x7f4e6c166b88>),\n",
              " ('ner', <spacy.pipeline.pipes.EntityRecognizer at 0x7f4e6c166be8>)]"
            ]
          },
          "metadata": {
            "tags": []
          },
          "execution_count": 13
        }
      ]
    },
    {
      "cell_type": "markdown",
      "metadata": {
        "id": "N__B9CE6xuMD",
        "colab_type": "text"
      },
      "source": [
        "`tagger` извлекает части речи.\n",
        "Давайте кратко ознакомимся с `parser` и `ner`."
      ]
    },
    {
      "cell_type": "markdown",
      "metadata": {
        "id": "3iu1XOdCykH2",
        "colab_type": "text"
      },
      "source": [
        "## parser\n",
        "Компонент `parser` (по умолчанию это объект класса `spacy.pipeline.pipes.DependencyParser`) извлекает зависимости между словами.\n",
        "Посмотрим на примере:"
      ]
    },
    {
      "cell_type": "code",
      "metadata": {
        "id": "rUXINc2kzHjm",
        "colab_type": "code",
        "outputId": "47be2bb9-b8c2-4b1a-cd44-ce894806339f",
        "colab": {
          "base_uri": "https://localhost:8080/",
          "height": 333
        }
      },
      "source": [
        "from spacy import displacy\n",
        "\n",
        "doc = nlp(\"This is a sentence.\")\n",
        "html = displacy.render(doc, style=\"dep\")\n",
        "HTML(html)"
      ],
      "execution_count": 0,
      "outputs": [
        {
          "output_type": "execute_result",
          "data": {
            "text/html": [
              "<svg xmlns=\"http://www.w3.org/2000/svg\" xmlns:xlink=\"http://www.w3.org/1999/xlink\" xml:lang=\"en\" id=\"ed95bb73d5844fbd923f29baf121385d-0\" class=\"displacy\" width=\"750\" height=\"312.0\" direction=\"ltr\" style=\"max-width: none; height: 312.0px; color: #000000; background: #ffffff; font-family: Arial; direction: ltr\">\n",
              "<text class=\"displacy-token\" fill=\"currentColor\" text-anchor=\"middle\" y=\"222.0\">\n",
              "    <tspan class=\"displacy-word\" fill=\"currentColor\" x=\"50\">This</tspan>\n",
              "    <tspan class=\"displacy-tag\" dy=\"2em\" fill=\"currentColor\" x=\"50\">DET</tspan>\n",
              "</text>\n",
              "\n",
              "<text class=\"displacy-token\" fill=\"currentColor\" text-anchor=\"middle\" y=\"222.0\">\n",
              "    <tspan class=\"displacy-word\" fill=\"currentColor\" x=\"225\">is</tspan>\n",
              "    <tspan class=\"displacy-tag\" dy=\"2em\" fill=\"currentColor\" x=\"225\">AUX</tspan>\n",
              "</text>\n",
              "\n",
              "<text class=\"displacy-token\" fill=\"currentColor\" text-anchor=\"middle\" y=\"222.0\">\n",
              "    <tspan class=\"displacy-word\" fill=\"currentColor\" x=\"400\">a</tspan>\n",
              "    <tspan class=\"displacy-tag\" dy=\"2em\" fill=\"currentColor\" x=\"400\">DET</tspan>\n",
              "</text>\n",
              "\n",
              "<text class=\"displacy-token\" fill=\"currentColor\" text-anchor=\"middle\" y=\"222.0\">\n",
              "    <tspan class=\"displacy-word\" fill=\"currentColor\" x=\"575\">sentence.</tspan>\n",
              "    <tspan class=\"displacy-tag\" dy=\"2em\" fill=\"currentColor\" x=\"575\">NOUN</tspan>\n",
              "</text>\n",
              "\n",
              "<g class=\"displacy-arrow\">\n",
              "    <path class=\"displacy-arc\" id=\"arrow-ed95bb73d5844fbd923f29baf121385d-0-0\" stroke-width=\"2px\" d=\"M70,177.0 C70,89.5 220.0,89.5 220.0,177.0\" fill=\"none\" stroke=\"currentColor\"/>\n",
              "    <text dy=\"1.25em\" style=\"font-size: 0.8em; letter-spacing: 1px\">\n",
              "        <textPath xlink:href=\"#arrow-ed95bb73d5844fbd923f29baf121385d-0-0\" class=\"displacy-label\" startOffset=\"50%\" side=\"left\" fill=\"currentColor\" text-anchor=\"middle\">nsubj</textPath>\n",
              "    </text>\n",
              "    <path class=\"displacy-arrowhead\" d=\"M70,179.0 L62,167.0 78,167.0\" fill=\"currentColor\"/>\n",
              "</g>\n",
              "\n",
              "<g class=\"displacy-arrow\">\n",
              "    <path class=\"displacy-arc\" id=\"arrow-ed95bb73d5844fbd923f29baf121385d-0-1\" stroke-width=\"2px\" d=\"M420,177.0 C420,89.5 570.0,89.5 570.0,177.0\" fill=\"none\" stroke=\"currentColor\"/>\n",
              "    <text dy=\"1.25em\" style=\"font-size: 0.8em; letter-spacing: 1px\">\n",
              "        <textPath xlink:href=\"#arrow-ed95bb73d5844fbd923f29baf121385d-0-1\" class=\"displacy-label\" startOffset=\"50%\" side=\"left\" fill=\"currentColor\" text-anchor=\"middle\">det</textPath>\n",
              "    </text>\n",
              "    <path class=\"displacy-arrowhead\" d=\"M420,179.0 L412,167.0 428,167.0\" fill=\"currentColor\"/>\n",
              "</g>\n",
              "\n",
              "<g class=\"displacy-arrow\">\n",
              "    <path class=\"displacy-arc\" id=\"arrow-ed95bb73d5844fbd923f29baf121385d-0-2\" stroke-width=\"2px\" d=\"M245,177.0 C245,2.0 575.0,2.0 575.0,177.0\" fill=\"none\" stroke=\"currentColor\"/>\n",
              "    <text dy=\"1.25em\" style=\"font-size: 0.8em; letter-spacing: 1px\">\n",
              "        <textPath xlink:href=\"#arrow-ed95bb73d5844fbd923f29baf121385d-0-2\" class=\"displacy-label\" startOffset=\"50%\" side=\"left\" fill=\"currentColor\" text-anchor=\"middle\">attr</textPath>\n",
              "    </text>\n",
              "    <path class=\"displacy-arrowhead\" d=\"M575.0,179.0 L583.0,167.0 567.0,167.0\" fill=\"currentColor\"/>\n",
              "</g>\n",
              "</svg>"
            ],
            "text/plain": [
              "<IPython.core.display.HTML object>"
            ]
          },
          "metadata": {
            "tags": []
          },
          "execution_count": 14
        }
      ]
    },
    {
      "cell_type": "markdown",
      "metadata": {
        "id": "65ucvMJ411PB",
        "colab_type": "text"
      },
      "source": [
        "## ner\n",
        "Компонент `ner` (что означает \"Named Entity Recognition\") распознает именованные сущности, которые соответствуют объектам реального мира.\n",
        "\n",
        "Подробнее: https://spacy.io/usage/linguistic-features#named-entities\n",
        "\n",
        "Рассмотрим примеры таких сущностей в твитах Трампа:"
      ]
    },
    {
      "cell_type": "code",
      "metadata": {
        "id": "A3icRm57NSk8",
        "colab_type": "code",
        "outputId": "88c182b0-bdfa-4e01-81e6-2a7584377973",
        "colab": {
          "base_uri": "https://localhost:8080/",
          "height": 103
        }
      },
      "source": [
        "from spacy import displacy\n",
        "\n",
        "for tweet in tweets:\n",
        "  doc = nlp(tweet[\"text\"])\n",
        "  entities = list(doc.ents)  # the `ents` attribute contains a sequence of found named entities (if any)\n",
        "  if entities:\n",
        "    break\n",
        "\n",
        "for ent in entities:\n",
        "  entity_text = ent.text\n",
        "  entity_label = ent.label_  # each entity is assigned a label, stored in the `label_` attribute\n",
        "  explained_entity_label = spacy.explain(ent.label_)  # spacy.explain() works with entity labels\n",
        "\n",
        "  print(\"Entity text: {}\\nEntity label: {} ({})\\n\".format(entity_text, entity_label, explained_entity_label))\n",
        "html = displacy.render(doc, style=\"ent\")\n",
        "HTML(html)"
      ],
      "execution_count": 0,
      "outputs": [
        {
          "output_type": "stream",
          "text": [
            "Entity text: Russia\n",
            "Entity label: GPE (Countries, cities, states)\n",
            "\n"
          ],
          "name": "stdout"
        },
        {
          "output_type": "execute_result",
          "data": {
            "text/html": [
              "<div class=\"entities\" style=\"line-height: 2.5; direction: ltr\">RT @johncardillo: Friend of mine, a JAG lawyer, just made an interesting point about \n",
              "<mark class=\"entity\" style=\"background: #feca74; padding: 0.45em 0.6em; margin: 0 0.25em; line-height: 1; border-radius: 0.35em;\">\n",
              "    Russia\n",
              "    <span style=\"font-size: 0.8em; font-weight: bold; line-height: 1; border-radius: 0.35em; text-transform: uppercase; vertical-align: middle; margin-left: 0.5rem\">GPE</span>\n",
              "</mark>\n",
              "/Sanders,\n",
              "\n",
              "“Wait, I thought the protocol was to…</div>"
            ],
            "text/plain": [
              "<IPython.core.display.HTML object>"
            ]
          },
          "metadata": {
            "tags": []
          },
          "execution_count": 15
        }
      ]
    },
    {
      "cell_type": "markdown",
      "metadata": {
        "id": "dEcoMT4S_8xu",
        "colab_type": "text"
      },
      "source": [
        "## Customizing pipelines\n",
        "Как мы видим, по умолчанию spaCy включает в себя много компонент для анализа текста.\n",
        "Однако, каждая компонента вносит некоторую задержку в скорость обработки текстов.\n",
        "Поэтому рекомендуется оставлять только нужные компоненты."
      ]
    },
    {
      "cell_type": "code",
      "metadata": {
        "id": "gRzqwameBRan",
        "colab_type": "code",
        "colab": {}
      },
      "source": [
        "nlp_all = spacy.load(\"en\")  # load tagger, parser, ner\n",
        "nlp_tagger = spacy.load(\"en\", disable=[\"parser\", \"ner\"])  # load only tagger\n",
        "nlp_none = spacy.load(\"en\", disable=[\"parser\", \"ner\", \"tagger\"])  # disable everything"
      ],
      "execution_count": 0,
      "outputs": []
    },
    {
      "cell_type": "code",
      "metadata": {
        "id": "OcMu0NoCBub5",
        "colab_type": "code",
        "outputId": "fbe27b96-cb70-4ba4-888b-d3cf75222478",
        "colab": {
          "base_uri": "https://localhost:8080/",
          "height": 34
        }
      },
      "source": [
        "%%timeit\n",
        "for tweet in tweets[:100]:\n",
        "  nlp_all(tweet[\"text\"])"
      ],
      "execution_count": 0,
      "outputs": [
        {
          "output_type": "stream",
          "text": [
            "1 loop, best of 3: 1.06 s per loop\n"
          ],
          "name": "stdout"
        }
      ]
    },
    {
      "cell_type": "code",
      "metadata": {
        "id": "nPAWGMz-B8Qa",
        "colab_type": "code",
        "outputId": "595d54bd-c8a7-4d74-b404-53d1a1241839",
        "colab": {
          "base_uri": "https://localhost:8080/",
          "height": 34
        }
      },
      "source": [
        "%%timeit\n",
        "for tweet in tweets[:100]:\n",
        "  nlp_tagger(tweet[\"text\"])"
      ],
      "execution_count": 0,
      "outputs": [
        {
          "output_type": "stream",
          "text": [
            "1 loop, best of 3: 290 ms per loop\n"
          ],
          "name": "stdout"
        }
      ]
    },
    {
      "cell_type": "code",
      "metadata": {
        "id": "dvcPlvgrCSBF",
        "colab_type": "code",
        "outputId": "937f36be-782a-42cd-ec02-b79a4be98b01",
        "colab": {
          "base_uri": "https://localhost:8080/",
          "height": 71
        }
      },
      "source": [
        "%%timeit\n",
        "for tweet in tweets[:100]:\n",
        "  nlp_none(tweet[\"text\"])"
      ],
      "execution_count": 0,
      "outputs": [
        {
          "output_type": "stream",
          "text": [
            "The slowest run took 32.96 times longer than the fastest. This could mean that an intermediate result is being cached.\n",
            "1000 loops, best of 3: 1.7 ms per loop\n"
          ],
          "name": "stdout"
        }
      ]
    },
    {
      "cell_type": "markdown",
      "metadata": {
        "id": "9x7viXufIDh0",
        "colab_type": "text"
      },
      "source": [
        "# \"Слово дня\"\n",
        "\n",
        "Ппоробуем решить такую задачу: для каждого дня найти слово, \"характеризующее\" этот день.\n",
        "Например, это могло бы быть название какого-нибудь события, страны или имя человека.\n",
        "\n",
        "Сперва попробуем найти за каждый день найти слово, которое упоминалось в этот день чаще всего."
      ]
    },
    {
      "cell_type": "code",
      "metadata": {
        "id": "ho9X-7DkCrqI",
        "colab_type": "code",
        "outputId": "f8b7d400-2858-40e3-d437-e5dd222beeb7",
        "colab": {
          "base_uri": "https://localhost:8080/",
          "height": 66,
          "referenced_widgets": [
            "984a0a077376407a8da53996cfd24f1f",
            "0375115326da43a08c06365f7b086444",
            "cf70a9d25b5d4efd9ad7445a73622831",
            "696620bf61064a65a51877ca51dc5e8c",
            "6610385e24834a4d96f78932be02cb12",
            "1cbed1cb675a4eb495ef319a744eac8d",
            "edb1875e3df54c77834953aa530ce4af",
            "e134afca1f7d42d8b3c86e89680d52e1"
          ]
        }
      },
      "source": [
        "from dateutil.parser import parse as parse_datetime  # convert a string in any format to a datetime object\n",
        "from collections import Counter, defaultdict\n",
        "\n",
        "nlp = spacy.load(\"en\", disable=[\"parser\", \"ner\", \"tagger\"])\n",
        "date_word_count = defaultdict(Counter)  # count words for each date\n",
        "for tweet in tqdm_notebook(tweets[:10000]):\n",
        "  tweet_date = parse_datetime(tweet[\"created_at\"]).date()\n",
        "  tweet_text = tweet[\"text\"]\n",
        "\n",
        "  for token in nlp(tweet_text):\n",
        "    date_word_count[tweet_date][token.lemma_] += 1  # here we count lemmas"
      ],
      "execution_count": 0,
      "outputs": [
        {
          "output_type": "display_data",
          "data": {
            "application/vnd.jupyter.widget-view+json": {
              "model_id": "984a0a077376407a8da53996cfd24f1f",
              "version_minor": 0,
              "version_major": 2
            },
            "text/plain": [
              "HBox(children=(IntProgress(value=0, max=10000), HTML(value='')))"
            ]
          },
          "metadata": {
            "tags": []
          }
        },
        {
          "output_type": "stream",
          "text": [
            "\n"
          ],
          "name": "stdout"
        }
      ]
    },
    {
      "cell_type": "code",
      "metadata": {
        "id": "a8_8htmsbTjg",
        "colab_type": "code",
        "outputId": "1654b318-014b-4134-9cf0-67fe8a0ec5eb",
        "colab": {
          "base_uri": "https://localhost:8080/",
          "height": 1000
        }
      },
      "source": [
        "# visualize\n",
        "from tmcourse.utils import calendar_table  # supplementary code for the course\n",
        "\n",
        "times = []\n",
        "values = []\n",
        "weights = []\n",
        "\n",
        "for d in sorted(date_word_count):\n",
        "  # Counter.most_common(n) returns a list of n most frequent pairs (element, frequency)\n",
        "  times.append(d)\n",
        "  word, count = date_word_count[d].most_common(1)[0]\n",
        "  values.append(word)\n",
        "  weights.append(count)\n",
        "\n",
        "html = calendar_table(times, values, weights)\n",
        "display(HTML(html))"
      ],
      "execution_count": 0,
      "outputs": [
        {
          "output_type": "display_data",
          "data": {
            "text/html": [
              "<style>\n",
              "    th, td {\n",
              "      padding: 8px;\n",
              "      text-align: center;\n",
              "      border-bottom: 1px solid #ddd;\n",
              "    }\n",
              "    </style><table><tr><th>week</th><th>Mon</th><th>Tue</th><th>Wed</th><th>Thu</th><th>Fri</th><th>Sat</th><th>Sun</th></tr><tr><td>2018-11-05 - 2018-11-11</td><td></td><td></td><td><div style=\"color:rgba(0, 0, 255, 0.15789473684210528);font-weight:bold\">Attorney</div></td><td><div style=\"color:rgba(0, 0, 255, 0.2280701754385965);font-weight:bold\">.</div></td><td><div style=\"color:rgba(0, 0, 255, 0.29824561403508776);font-weight:bold\">to</div></td><td><div style=\"color:rgba(0, 0, 255, 0.34035087719298246);font-weight:bold\">,</div></td><td><div style=\"color:rgba(0, 0, 255, 0.27017543859649124);font-weight:bold\">the</div></td></tr><tr><td>2018-11-12 - 2018-11-18</td><td><div style=\"color:rgba(0, 0, 255, 0.368421052631579);font-weight:bold\">,</div></td><td><div style=\"color:rgba(0, 0, 255, 0.6210526315789473);font-weight:bold\">the</div></td><td><div style=\"color:rgba(0, 0, 255, 0.256140350877193);font-weight:bold\">,</div></td><td><div style=\"color:rgba(0, 0, 255, 0.4385964912280702);font-weight:bold\">the</div></td><td><div style=\"color:rgba(0, 0, 255, 0.27017543859649124);font-weight:bold\">the</div></td><td><div style=\"color:rgba(0, 0, 255, 0.3824561403508772);font-weight:bold\">be</div></td><td><div style=\"color:rgba(0, 0, 255, 0.3263157894736842);font-weight:bold\">be</div></td></tr><tr><td>2018-11-19 - 2018-11-25</td><td><div style=\"color:rgba(0, 0, 255, 0.21403508771929824);font-weight:bold\">be</div></td><td><div style=\"color:rgba(0, 0, 255, 0.2);font-weight:bold\">the</div></td><td><div style=\"color:rgba(0, 0, 255, 0.3543859649122807);font-weight:bold\">.</div></td><td><div style=\"color:rgba(0, 0, 255, 0.3824561403508772);font-weight:bold\">,</div></td><td><div style=\"color:rgba(0, 0, 255, 0.28421052631578947);font-weight:bold\">.</div></td><td><div style=\"color:rgba(0, 0, 255, 0.2);font-weight:bold\">.</div></td><td><div style=\"color:rgba(0, 0, 255, 0.4105263157894737);font-weight:bold\">.</div></td></tr><tr><td>2018-11-26 - 2018-12-02</td><td><div style=\"color:rgba(0, 0, 255, 0.49473684210526314);font-weight:bold\">,</div></td><td><div style=\"color:rgba(0, 0, 255, 0.3263157894736842);font-weight:bold\">,</div></td><td><div style=\"color:rgba(0, 0, 255, 0.45263157894736844);font-weight:bold\">be</div></td><td><div style=\"color:rgba(0, 0, 255, 0.5228070175438597);font-weight:bold\">,</div></td><td><div style=\"color:rgba(0, 0, 255, 0.45263157894736844);font-weight:bold\">.</div></td><td><div style=\"color:rgba(0, 0, 255, 0.2280701754385965);font-weight:bold\">and</div></td><td><div style=\"color:rgba(0, 0, 255, 0.14385964912280702);font-weight:bold\">the</div></td></tr><tr><td>2018-12-03 - 2018-12-09</td><td><div style=\"color:rgba(0, 0, 255, 0.4385964912280702);font-weight:bold\">.</div></td><td><div style=\"color:rgba(0, 0, 255, 0.4105263157894737);font-weight:bold\">.</div></td><td><div style=\"color:rgba(0, 0, 255, 0.3543859649122807);font-weight:bold\">be</div></td><td><div style=\"color:rgba(0, 0, 255, 0.256140350877193);font-weight:bold\">,</div></td><td><div style=\"color:rgba(0, 0, 255, 0.8736842105263158);font-weight:bold\">the</div></td><td><div style=\"color:rgba(0, 0, 255, 0.3824561403508772);font-weight:bold\">be</div></td><td><div style=\"color:rgba(0, 0, 255, 0.2280701754385965);font-weight:bold\">not</div></td></tr><tr><td>2018-12-10 - 2018-12-16</td><td><div style=\"color:rgba(0, 0, 255, 0.27017543859649124);font-weight:bold\">be</div></td><td><div style=\"color:rgba(0, 0, 255, 0.4666666666666667);font-weight:bold\">.</div></td><td><div style=\"color:rgba(0, 0, 255, 0.17192982456140352);font-weight:bold\">and</div></td><td><div style=\"color:rgba(0, 0, 255, 0.4385964912280702);font-weight:bold\">,</div></td><td><div style=\"color:rgba(0, 0, 255, 0.28421052631578947);font-weight:bold\">be</div></td><td><div style=\"color:rgba(0, 0, 255, 0.368421052631579);font-weight:bold\">,</div></td><td><div style=\"color:rgba(0, 0, 255, 0.4807017543859649);font-weight:bold\">the</div></td></tr><tr><td>2018-12-17 - 2018-12-23</td><td><div style=\"color:rgba(0, 0, 255, 0.29824561403508776);font-weight:bold\">,</div></td><td><div style=\"color:rgba(0, 0, 255, 0.4245614035087719);font-weight:bold\">,</div></td><td><div style=\"color:rgba(0, 0, 255, 0.6350877192982456);font-weight:bold\">,</div></td><td><div style=\"color:rgba(0, 0, 255, 0.6350877192982456);font-weight:bold\">,</div></td><td><div style=\"color:rgba(0, 0, 255, 0.6771929824561403);font-weight:bold\">the</div></td><td><div style=\"color:rgba(0, 0, 255, 0.3263157894736842);font-weight:bold\">be</div></td><td><div style=\"color:rgba(0, 0, 255, 0.5087719298245614);font-weight:bold\">,</div></td></tr><tr><td>2018-12-24 - 2018-12-30</td><td><div style=\"color:rgba(0, 0, 255, 0.7052631578947368);font-weight:bold\">be</div></td><td><div style=\"color:rgba(0, 0, 255, 0.18596491228070178);font-weight:bold\">be</div></td><td><div style=\"color:rgba(0, 0, 255, 0.1298245614035088);font-weight:bold\">.@FLOTUS</div></td><td><div style=\"color:rgba(0, 0, 255, 0.4385964912280702);font-weight:bold\">the</div></td><td><div style=\"color:rgba(0, 0, 255, 0.29824561403508776);font-weight:bold\">the</div></td><td><div style=\"color:rgba(0, 0, 255, 0.3543859649122807);font-weight:bold\">the</div></td><td><div style=\"color:rgba(0, 0, 255, 0.28421052631578947);font-weight:bold\">.</div></td></tr><tr><td>2018-12-31 - 2019-01-06</td><td><div style=\"color:rgba(0, 0, 255, 0.6070175438596492);font-weight:bold\">be</div></td><td><div style=\"color:rgba(0, 0, 255, 0.4385964912280702);font-weight:bold\">be</div></td><td><div style=\"color:rgba(0, 0, 255, 0.27017543859649124);font-weight:bold\">.</div></td><td><div style=\"color:rgba(0, 0, 255, 0.256140350877193);font-weight:bold\">and</div></td><td><div style=\"color:rgba(0, 0, 255, 0.3263157894736842);font-weight:bold\">,</div></td><td><div style=\"color:rgba(0, 0, 255, 0.4666666666666667);font-weight:bold\">,</div></td><td><div style=\"color:rgba(0, 0, 255, 0.4385964912280702);font-weight:bold\">.</div></td></tr><tr><td>2019-01-07 - 2019-01-13</td><td><div style=\"color:rgba(0, 0, 255, 0.3263157894736842);font-weight:bold\">the</div></td><td><div style=\"color:rgba(0, 0, 255, 0.27017543859649124);font-weight:bold\">the</div></td><td><div style=\"color:rgba(0, 0, 255, 0.34035087719298246);font-weight:bold\">,</div></td><td><div style=\"color:rgba(0, 0, 255, 0.4666666666666667);font-weight:bold\">the</div></td><td><div style=\"color:rgba(0, 0, 255, 0.4807017543859649);font-weight:bold\">,</div></td><td><div style=\"color:rgba(0, 0, 255, 0.6070175438596492);font-weight:bold\">,</div></td><td><div style=\"color:rgba(0, 0, 255, 0.368421052631579);font-weight:bold\">the</div></td></tr><tr><td>2019-01-14 - 2019-01-20</td><td><div style=\"color:rgba(0, 0, 255, 0.6912280701754386);font-weight:bold\">,</div></td><td><div style=\"color:rgba(0, 0, 255, 0.4807017543859649);font-weight:bold\">the</div></td><td><div style=\"color:rgba(0, 0, 255, 0.18596491228070178);font-weight:bold\">be</div></td><td><div style=\"color:rgba(0, 0, 255, 0.15789473684210528);font-weight:bold\">They</div></td><td><div style=\"color:rgba(0, 0, 255, 0.45263157894736844);font-weight:bold\">,</div></td><td><div style=\"color:rgba(0, 0, 255, 0.5789473684210527);font-weight:bold\">the</div></td><td><div style=\"color:rgba(0, 0, 255, 0.5649122807017544);font-weight:bold\">the</div></td></tr><tr><td>2019-01-21 - 2019-01-27</td><td><div style=\"color:rgba(0, 0, 255, 0.49473684210526314);font-weight:bold\">the</div></td><td><div style=\"color:rgba(0, 0, 255, 0.4807017543859649);font-weight:bold\">the</div></td><td><div style=\"color:rgba(0, 0, 255, 0.29824561403508776);font-weight:bold\">the</div></td><td><div style=\"color:rgba(0, 0, 255, 0.49473684210526314);font-weight:bold\">,</div></td><td><div style=\"color:rgba(0, 0, 255, 0.17192982456140352);font-weight:bold\">of</div></td><td><div style=\"color:rgba(0, 0, 255, 0.5087719298245614);font-weight:bold\">,</div></td><td><div style=\"color:rgba(0, 0, 255, 0.34035087719298246);font-weight:bold\">the</div></td></tr><tr><td>2019-01-28 - 2019-02-03</td><td><div style=\"color:rgba(0, 0, 255, 0.3543859649122807);font-weight:bold\">the</div></td><td><div style=\"color:rgba(0, 0, 255, 0.21403508771929824);font-weight:bold\">.</div></td><td><div style=\"color:rgba(0, 0, 255, 0.4385964912280702);font-weight:bold\">.</div></td><td><div style=\"color:rgba(0, 0, 255, 0.6912280701754386);font-weight:bold\">be</div></td><td><div style=\"color:rgba(0, 0, 255, 0.4385964912280702);font-weight:bold\">,</div></td><td><div style=\"color:rgba(0, 0, 255, 0.1298245614035088);font-weight:bold\">Great</div></td><td><div style=\"color:rgba(0, 0, 255, 0.368421052631579);font-weight:bold\">be</div></td></tr><tr><td>2019-02-04 - 2019-02-10</td><td><div style=\"color:rgba(0, 0, 255, 0.15789473684210528);font-weight:bold\">,</div></td><td><div style=\"color:rgba(0, 0, 255, 0.256140350877193);font-weight:bold\">the</div></td><td><div style=\"color:rgba(0, 0, 255, 0.15789473684210528);font-weight:bold\">#</div></td><td><div style=\"color:rgba(0, 0, 255, 0.27017543859649124);font-weight:bold\">be</div></td><td><div style=\"color:rgba(0, 0, 255, 0.3543859649122807);font-weight:bold\">,</div></td><td><div style=\"color:rgba(0, 0, 255, 0.4385964912280702);font-weight:bold\">the</div></td><td><div style=\"color:rgba(0, 0, 255, 0.6070175438596492);font-weight:bold\">,</div></td></tr><tr><td>2019-02-11 - 2019-02-17</td><td><div style=\"color:rgba(0, 0, 255, 0.312280701754386);font-weight:bold\">.</div></td><td><div style=\"color:rgba(0, 0, 255, 0.27017543859649124);font-weight:bold\">,</div></td><td><div style=\"color:rgba(0, 0, 255, 0.27017543859649124);font-weight:bold\">and</div></td><td><div style=\"color:rgba(0, 0, 255, 0.256140350877193);font-weight:bold\">the</div></td><td><div style=\"color:rgba(0, 0, 255, 0.21403508771929824);font-weight:bold\">.</div></td><td><div style=\"color:rgba(0, 0, 255, 0.1298245614035088);font-weight:bold\">https://t.co/nJORBjwint</div></td><td><div style=\"color:rgba(0, 0, 255, 0.5368421052631579);font-weight:bold\">be</div></td></tr><tr><td>2019-02-18 - 2019-02-24</td><td><div style=\"color:rgba(0, 0, 255, 0.368421052631579);font-weight:bold\">be</div></td><td><div style=\"color:rgba(0, 0, 255, 0.5368421052631579);font-weight:bold\">,</div></td><td><div style=\"color:rgba(0, 0, 255, 0.3263157894736842);font-weight:bold\">.</div></td><td><div style=\"color:rgba(0, 0, 255, 0.256140350877193);font-weight:bold\">the</div></td><td><div style=\"color:rgba(0, 0, 255, 0.3263157894736842);font-weight:bold\">,</div></td><td><div style=\"color:rgba(0, 0, 255, 0.21403508771929824);font-weight:bold\">the</div></td><td><div style=\"color:rgba(0, 0, 255, 0.49473684210526314);font-weight:bold\">,</div></td></tr><tr><td>2019-02-25 - 2019-03-03</td><td><div style=\"color:rgba(0, 0, 255, 0.5368421052631579);font-weight:bold\">,</div></td><td><div style=\"color:rgba(0, 0, 255, 0.2);font-weight:bold\">the</div></td><td><div style=\"color:rgba(0, 0, 255, 0.4385964912280702);font-weight:bold\">.</div></td><td><div style=\"color:rgba(0, 0, 255, 0.18596491228070178);font-weight:bold\">,</div></td><td><div style=\"color:rgba(0, 0, 255, 0.4807017543859649);font-weight:bold\">.</div></td><td><div style=\"color:rgba(0, 0, 255, 0.24210526315789474);font-weight:bold\">the</div></td><td><div style=\"color:rgba(0, 0, 255, 0.368421052631579);font-weight:bold\">be</div></td></tr><tr><td>2019-03-04 - 2019-03-10</td><td><div style=\"color:rgba(0, 0, 255, 0.6210526315789473);font-weight:bold\">the</div></td><td><div style=\"color:rgba(0, 0, 255, 0.4807017543859649);font-weight:bold\">the</div></td><td><div style=\"color:rgba(0, 0, 255, 0.29824561403508776);font-weight:bold\">be</div></td><td><div style=\"color:rgba(0, 0, 255, 0.27017543859649124);font-weight:bold\">the</div></td><td><div style=\"color:rgba(0, 0, 255, 0.49473684210526314);font-weight:bold\">the</div></td><td><div style=\"color:rgba(0, 0, 255, 0.3263157894736842);font-weight:bold\">be</div></td><td><div style=\"color:rgba(0, 0, 255, 0.29824561403508776);font-weight:bold\">be</div></td></tr><tr><td>2019-03-11 - 2019-03-17</td><td><div style=\"color:rgba(0, 0, 255, 0.34035087719298246);font-weight:bold\">a</div></td><td><div style=\"color:rgba(0, 0, 255, 0.3543859649122807);font-weight:bold\">.</div></td><td><div style=\"color:rgba(0, 0, 255, 0.6210526315789473);font-weight:bold\">be</div></td><td><div style=\"color:rgba(0, 0, 255, 0.3543859649122807);font-weight:bold\">be</div></td><td><div style=\"color:rgba(0, 0, 255, 0.45263157894736844);font-weight:bold\">the</div></td><td><div style=\"color:rgba(0, 0, 255, 0.45263157894736844);font-weight:bold\">the</div></td><td><div style=\"color:rgba(0, 0, 255, 0.6771929824561403);font-weight:bold\">,</div></td></tr><tr><td>2019-03-18 - 2019-03-24</td><td><div style=\"color:rgba(0, 0, 255, 0.4245614035087719);font-weight:bold\">the</div></td><td><div style=\"color:rgba(0, 0, 255, 0.28421052631578947);font-weight:bold\">,</div></td><td><div style=\"color:rgba(0, 0, 255, 0.4245614035087719);font-weight:bold\">the</div></td><td><div style=\"color:rgba(0, 0, 255, 0.2280701754385965);font-weight:bold\">the</div></td><td><div style=\"color:rgba(0, 0, 255, 0.368421052631579);font-weight:bold\">be</div></td><td></td><td><div style=\"color:rgba(0, 0, 255, 0.15789473684210528);font-weight:bold\">,</div></td></tr><tr><td>2019-03-25 - 2019-03-31</td><td><div style=\"color:rgba(0, 0, 255, 0.256140350877193);font-weight:bold\">,</div></td><td><div style=\"color:rgba(0, 0, 255, 0.4245614035087719);font-weight:bold\">the</div></td><td><div style=\"color:rgba(0, 0, 255, 0.28421052631578947);font-weight:bold\">the</div></td><td><div style=\"color:rgba(0, 0, 255, 0.5087719298245614);font-weight:bold\">,</div></td><td><div style=\"color:rgba(0, 0, 255, 0.5508771929824561);font-weight:bold\">,</div></td><td><div style=\"color:rgba(0, 0, 255, 0.312280701754386);font-weight:bold\">the</div></td><td><div style=\"color:rgba(0, 0, 255, 0.24210526315789474);font-weight:bold\">to</div></td></tr><tr><td>2019-04-01 - 2019-04-07</td><td><div style=\"color:rgba(0, 0, 255, 0.29824561403508776);font-weight:bold\">the</div></td><td><div style=\"color:rgba(0, 0, 255, 0.5649122807017544);font-weight:bold\">,</div></td><td><div style=\"color:rgba(0, 0, 255, 0.27017543859649124);font-weight:bold\">the</div></td><td><div style=\"color:rgba(0, 0, 255, 0.28421052631578947);font-weight:bold\">the</div></td><td><div style=\"color:rgba(0, 0, 255, 0.5087719298245614);font-weight:bold\">the</div></td><td><div style=\"color:rgba(0, 0, 255, 0.6070175438596492);font-weight:bold\">,</div></td><td><div style=\"color:rgba(0, 0, 255, 0.27017543859649124);font-weight:bold\">be</div></td></tr><tr><td>2019-04-08 - 2019-04-14</td><td><div style=\"color:rgba(0, 0, 255, 0.28421052631578947);font-weight:bold\">the</div></td><td><div style=\"color:rgba(0, 0, 255, 0.368421052631579);font-weight:bold\">,</div></td><td><div style=\"color:rgba(0, 0, 255, 0.312280701754386);font-weight:bold\">be</div></td><td><div style=\"color:rgba(0, 0, 255, 0.29824561403508776);font-weight:bold\">the</div></td><td><div style=\"color:rgba(0, 0, 255, 0.3263157894736842);font-weight:bold\">,</div></td><td><div style=\"color:rgba(0, 0, 255, 0.49473684210526314);font-weight:bold\">the</div></td><td><div style=\"color:rgba(0, 0, 255, 0.312280701754386);font-weight:bold\">,</div></td></tr><tr><td>2019-04-15 - 2019-04-21</td><td><div style=\"color:rgba(0, 0, 255, 0.7192982456140351);font-weight:bold\">,</div></td><td><div style=\"color:rgba(0, 0, 255, 0.2280701754385965);font-weight:bold\">.</div></td><td><div style=\"color:rgba(0, 0, 255, 0.39649122807017545);font-weight:bold\">the</div></td><td><div style=\"color:rgba(0, 0, 255, 0.4245614035087719);font-weight:bold\">be</div></td><td><div style=\"color:rgba(0, 0, 255, 0.4105263157894737);font-weight:bold\">,</div></td><td><div style=\"color:rgba(0, 0, 255, 0.312280701754386);font-weight:bold\">the</div></td><td><div style=\"color:rgba(0, 0, 255, 0.4105263157894737);font-weight:bold\">the</div></td></tr><tr><td>2019-04-22 - 2019-04-28</td><td><div style=\"color:rgba(0, 0, 255, 0.6631578947368422);font-weight:bold\">:</div></td><td><div style=\"color:rgba(0, 0, 255, 0.6631578947368422);font-weight:bold\">,</div></td><td><div style=\"color:rgba(0, 0, 255, 0.6210526315789473);font-weight:bold\">,</div></td><td><div style=\"color:rgba(0, 0, 255, 0.49473684210526314);font-weight:bold\">,</div></td><td><div style=\"color:rgba(0, 0, 255, 0.39649122807017545);font-weight:bold\">.</div></td><td><div style=\"color:rgba(0, 0, 255, 0.312280701754386);font-weight:bold\">.</div></td><td><div style=\"color:rgba(0, 0, 255, 0.27017543859649124);font-weight:bold\">,</div></td></tr><tr><td>2019-04-29 - 2019-05-05</td><td><div style=\"color:rgba(0, 0, 255, 0.4666666666666667);font-weight:bold\">,</div></td><td><div style=\"color:rgba(0, 0, 255, 0.4245614035087719);font-weight:bold\">,</div></td><td><div style=\"color:rgba(0, 0, 255, 1.0140350877192983);font-weight:bold\">be</div></td><td><div style=\"color:rgba(0, 0, 255, 0.4666666666666667);font-weight:bold\">:</div></td><td><div style=\"color:rgba(0, 0, 255, 0.6491228070175439);font-weight:bold\">,</div></td><td><div style=\"color:rgba(0, 0, 255, 0.5087719298245614);font-weight:bold\">be</div></td><td><div style=\"color:rgba(0, 0, 255, 0.6070175438596492);font-weight:bold\">,</div></td></tr><tr><td>2019-05-06 - 2019-05-12</td><td><div style=\"color:rgba(0, 0, 255, 0.5087719298245614);font-weight:bold\">,</div></td><td><div style=\"color:rgba(0, 0, 255, 0.17192982456140352);font-weight:bold\">the</div></td><td><div style=\"color:rgba(0, 0, 255, 0.9157894736842105);font-weight:bold\">,</div></td><td><div style=\"color:rgba(0, 0, 255, 0.21403508771929824);font-weight:bold\">the</div></td><td><div style=\"color:rgba(0, 0, 255, 1.0140350877192983);font-weight:bold\">,</div></td><td><div style=\"color:rgba(0, 0, 255, 1.3087719298245615);font-weight:bold\">:</div></td><td><div style=\"color:rgba(0, 0, 255, 0.7614035087719297);font-weight:bold\">the</div></td></tr><tr><td>2019-05-13 - 2019-05-19</td><td><div style=\"color:rgba(0, 0, 255, 0.8736842105263158);font-weight:bold\">the</div></td><td><div style=\"color:rgba(0, 0, 255, 0.6631578947368422);font-weight:bold\">,</div></td><td><div style=\"color:rgba(0, 0, 255, 0.368421052631579);font-weight:bold\">,</div></td><td><div style=\"color:rgba(0, 0, 255, 0.3263157894736842);font-weight:bold\">,</div></td><td><div style=\"color:rgba(0, 0, 255, 0.5368421052631579);font-weight:bold\">be</div></td><td><div style=\"color:rgba(0, 0, 255, 0.27017543859649124);font-weight:bold\">:</div></td><td><div style=\"color:rgba(0, 0, 255, 0.8736842105263158);font-weight:bold\">,</div></td></tr><tr><td>2019-05-20 - 2019-05-26</td><td><div style=\"color:rgba(0, 0, 255, 0.49473684210526314);font-weight:bold\">be</div></td><td><div style=\"color:rgba(0, 0, 255, 0.4245614035087719);font-weight:bold\">,</div></td><td><div style=\"color:rgba(0, 0, 255, 0.8315789473684212);font-weight:bold\">the</div></td><td><div style=\"color:rgba(0, 0, 255, 0.49473684210526314);font-weight:bold\">be</div></td><td><div style=\"color:rgba(0, 0, 255, 0.6210526315789473);font-weight:bold\">the</div></td><td><div style=\"color:rgba(0, 0, 255, 0.4105263157894737);font-weight:bold\">.</div></td><td><div style=\"color:rgba(0, 0, 255, 0.39649122807017545);font-weight:bold\">,</div></td></tr><tr><td>2019-05-27 - 2019-06-02</td><td><div style=\"color:rgba(0, 0, 255, 0.4245614035087719);font-weight:bold\">,</div></td><td><div style=\"color:rgba(0, 0, 255, 0.28421052631578947);font-weight:bold\">the</div></td><td><div style=\"color:rgba(0, 0, 255, 0.256140350877193);font-weight:bold\">the</div></td><td><div style=\"color:rgba(0, 0, 255, 0.6631578947368422);font-weight:bold\">,</div></td><td><div style=\"color:rgba(0, 0, 255, 0.45263157894736844);font-weight:bold\">,</div></td><td><div style=\"color:rgba(0, 0, 255, 0.5368421052631579);font-weight:bold\">the</div></td><td><div style=\"color:rgba(0, 0, 255, 0.5929824561403509);font-weight:bold\">,</div></td></tr><tr><td>2019-06-03 - 2019-06-09</td><td><div style=\"color:rgba(0, 0, 255, 0.6350877192982456);font-weight:bold\">,</div></td><td><div style=\"color:rgba(0, 0, 255, 0.2);font-weight:bold\">of</div></td><td><div style=\"color:rgba(0, 0, 255, 0.7473684210526317);font-weight:bold\">the</div></td><td><div style=\"color:rgba(0, 0, 255, 0.34035087719298246);font-weight:bold\">,</div></td><td><div style=\"color:rgba(0, 0, 255, 0.5087719298245614);font-weight:bold\">be</div></td><td><div style=\"color:rgba(0, 0, 255, 0.6491228070175439);font-weight:bold\">,</div></td><td><div style=\"color:rgba(0, 0, 255, 1.056140350877193);font-weight:bold\">,</div></td></tr><tr><td>2019-06-10 - 2019-06-16</td><td><div style=\"color:rgba(0, 0, 255, 0.49473684210526314);font-weight:bold\">the</div></td><td><div style=\"color:rgba(0, 0, 255, 0.6070175438596492);font-weight:bold\">the</div></td><td><div style=\"color:rgba(0, 0, 255, 0.4245614035087719);font-weight:bold\">,</div></td><td><div style=\"color:rgba(0, 0, 255, 1.0701754385964912);font-weight:bold\">the</div></td><td><div style=\"color:rgba(0, 0, 255, 0.29824561403508776);font-weight:bold\">.</div></td><td><div style=\"color:rgba(0, 0, 255, 0.5789473684210527);font-weight:bold\">the</div></td><td><div style=\"color:rgba(0, 0, 255, 0.7192982456140351);font-weight:bold\">the</div></td></tr><tr><td>2019-06-17 - 2019-06-23</td><td><div style=\"color:rgba(0, 0, 255, 0.28421052631578947);font-weight:bold\">.</div></td><td><div style=\"color:rgba(0, 0, 255, 0.4807017543859649);font-weight:bold\">,</div></td><td><div style=\"color:rgba(0, 0, 255, 0.5368421052631579);font-weight:bold\">the</div></td><td><div style=\"color:rgba(0, 0, 255, 0.2);font-weight:bold\">have</div></td><td><div style=\"color:rgba(0, 0, 255, 0.368421052631579);font-weight:bold\">,</div></td><td><div style=\"color:rgba(0, 0, 255, 0.4245614035087719);font-weight:bold\">the</div></td><td><div style=\"color:rgba(0, 0, 255, 0.2);font-weight:bold\">,</div></td></tr><tr><td>2019-06-24 - 2019-06-30</td><td><div style=\"color:rgba(0, 0, 255, 0.4105263157894737);font-weight:bold\">,</div></td><td><div style=\"color:rgba(0, 0, 255, 0.4245614035087719);font-weight:bold\">the</div></td><td><div style=\"color:rgba(0, 0, 255, 1.4210526315789476);font-weight:bold\">,</div></td><td><div style=\"color:rgba(0, 0, 255, 0.29824561403508776);font-weight:bold\">the</div></td><td><div style=\"color:rgba(0, 0, 255, 0.3263157894736842);font-weight:bold\">the</div></td><td><div style=\"color:rgba(0, 0, 255, 0.39649122807017545);font-weight:bold\">.</div></td><td><div style=\"color:rgba(0, 0, 255, 0.2);font-weight:bold\">the</div></td></tr><tr><td>2019-07-01 - 2019-07-07</td><td><div style=\"color:rgba(0, 0, 255, 0.5508771929824561);font-weight:bold\">be</div></td><td><div style=\"color:rgba(0, 0, 255, 0.5789473684210527);font-weight:bold\">,</div></td><td><div style=\"color:rgba(0, 0, 255, 0.6491228070175439);font-weight:bold\">the</div></td><td><div style=\"color:rgba(0, 0, 255, 0.5228070175438597);font-weight:bold\">the</div></td><td><div style=\"color:rgba(0, 0, 255, 0.5649122807017544);font-weight:bold\">:</div></td><td><div style=\"color:rgba(0, 0, 255, 0.4385964912280702);font-weight:bold\">,</div></td><td><div style=\"color:rgba(0, 0, 255, 0.5368421052631579);font-weight:bold\">,</div></td></tr><tr><td>2019-07-08 - 2019-07-14</td><td><div style=\"color:rgba(0, 0, 255, 0.34035087719298246);font-weight:bold\">the</div></td><td><div style=\"color:rgba(0, 0, 255, 0.5228070175438597);font-weight:bold\">be</div></td><td><div style=\"color:rgba(0, 0, 255, 0.6210526315789473);font-weight:bold\">,</div></td><td><div style=\"color:rgba(0, 0, 255, 1.280701754385965);font-weight:bold\">,</div></td><td><div style=\"color:rgba(0, 0, 255, 0.9017543859649122);font-weight:bold\">the</div></td><td><div style=\"color:rgba(0, 0, 255, 0.7192982456140351);font-weight:bold\">:</div></td><td><div style=\"color:rgba(0, 0, 255, 0.5368421052631579);font-weight:bold\">!</div></td></tr><tr><td>2019-07-15 - 2019-07-21</td><td><div style=\"color:rgba(0, 0, 255, 0.7894736842105263);font-weight:bold\">,</div></td><td><div style=\"color:rgba(0, 0, 255, 0.4807017543859649);font-weight:bold\">,</div></td><td><div style=\"color:rgba(0, 0, 255, 0.6491228070175439);font-weight:bold\">,</div></td><td><div style=\"color:rgba(0, 0, 255, 0.5508771929824561);font-weight:bold\">the</div></td><td><div style=\"color:rgba(0, 0, 255, 0.7473684210526317);font-weight:bold\">the</div></td><td><div style=\"color:rgba(0, 0, 255, 0.5087719298245614);font-weight:bold\">:</div></td><td><div style=\"color:rgba(0, 0, 255, 0.3263157894736842);font-weight:bold\">,</div></td></tr><tr><td>2019-07-22 - 2019-07-28</td><td><div style=\"color:rgba(0, 0, 255, 0.6491228070175439);font-weight:bold\">,</div></td><td><div style=\"color:rgba(0, 0, 255, 0.6771929824561403);font-weight:bold\">,</div></td><td><div style=\"color:rgba(0, 0, 255, 0.6491228070175439);font-weight:bold\">the</div></td><td><div style=\"color:rgba(0, 0, 255, 0.5368421052631579);font-weight:bold\">!</div></td><td><div style=\"color:rgba(0, 0, 255, 0.4245614035087719);font-weight:bold\">the</div></td><td><div style=\"color:rgba(0, 0, 255, 0.45263157894736844);font-weight:bold\">,</div></td><td><div style=\"color:rgba(0, 0, 255, 0.775438596491228);font-weight:bold\">,</div></td></tr><tr><td>2019-07-29 - 2019-08-04</td><td><div style=\"color:rgba(0, 0, 255, 0.6912280701754386);font-weight:bold\">,</div></td><td><div style=\"color:rgba(0, 0, 255, 0.6912280701754386);font-weight:bold\">,</div></td><td><div style=\"color:rgba(0, 0, 255, 0.5649122807017544);font-weight:bold\">the</div></td><td><div style=\"color:rgba(0, 0, 255, 0.5087719298245614);font-weight:bold\">,</div></td><td><div style=\"color:rgba(0, 0, 255, 0.45263157894736844);font-weight:bold\">,</div></td><td><div style=\"color:rgba(0, 0, 255, 0.3543859649122807);font-weight:bold\">be</div></td><td><div style=\"color:rgba(0, 0, 255, 0.3263157894736842);font-weight:bold\">,</div></td></tr><tr><td>2019-08-05 - 2019-08-11</td><td><div style=\"color:rgba(0, 0, 255, 0.4105263157894737);font-weight:bold\">,</div></td><td><div style=\"color:rgba(0, 0, 255, 0.5368421052631579);font-weight:bold\">the</div></td><td><div style=\"color:rgba(0, 0, 255, 0.775438596491228);font-weight:bold\">,</div></td><td><div style=\"color:rgba(0, 0, 255, 0.8175438596491229);font-weight:bold\">,</div></td><td><div style=\"color:rgba(0, 0, 255, 0.3263157894736842);font-weight:bold\">the</div></td><td><div style=\"color:rgba(0, 0, 255, 0.4666666666666667);font-weight:bold\">,</div></td><td><div style=\"color:rgba(0, 0, 255, 0.28421052631578947);font-weight:bold\">,</div></td></tr><tr><td>2019-08-12 - 2019-08-18</td><td><div style=\"color:rgba(0, 0, 255, 0.3824561403508772);font-weight:bold\">:</div></td><td><div style=\"color:rgba(0, 0, 255, 0.6771929824561403);font-weight:bold\">.</div></td><td><div style=\"color:rgba(0, 0, 255, 0.6771929824561403);font-weight:bold\">.</div></td><td><div style=\"color:rgba(0, 0, 255, 0.775438596491228);font-weight:bold\">be</div></td><td><div style=\"color:rgba(0, 0, 255, 0.4245614035087719);font-weight:bold\">,</div></td><td><div style=\"color:rgba(0, 0, 255, 0.5649122807017544);font-weight:bold\">:</div></td><td><div style=\"color:rgba(0, 0, 255, 0.3824561403508772);font-weight:bold\">be</div></td></tr><tr><td>2019-08-19 - 2019-08-25</td><td><div style=\"color:rgba(0, 0, 255, 0.5649122807017544);font-weight:bold\">.</div></td><td><div style=\"color:rgba(0, 0, 255, 0.5228070175438597);font-weight:bold\">,</div></td><td><div style=\"color:rgba(0, 0, 255, 0.6771929824561403);font-weight:bold\">,</div></td><td><div style=\"color:rgba(0, 0, 255, 0.39649122807017545);font-weight:bold\">,</div></td><td><div style=\"color:rgba(0, 0, 255, 1.0842105263157895);font-weight:bold\">,</div></td><td><div style=\"color:rgba(0, 0, 255, 0.6491228070175439);font-weight:bold\">,</div></td><td><div style=\"color:rgba(0, 0, 255, 0.6771929824561403);font-weight:bold\">,</div></td></tr><tr><td>2019-08-26 - 2019-09-01</td><td><div style=\"color:rgba(0, 0, 255, 0.256140350877193);font-weight:bold\">!</div></td><td><div style=\"color:rgba(0, 0, 255, 0.5368421052631579);font-weight:bold\">be</div></td><td><div style=\"color:rgba(0, 0, 255, 0.5087719298245614);font-weight:bold\">the</div></td><td><div style=\"color:rgba(0, 0, 255, 0.6491228070175439);font-weight:bold\">,</div></td><td><div style=\"color:rgba(0, 0, 255, 0.5087719298245614);font-weight:bold\">.</div></td><td><div style=\"color:rgba(0, 0, 255, 0.9298245614035088);font-weight:bold\">,</div></td><td><div style=\"color:rgba(0, 0, 255, 0.7052631578947368);font-weight:bold\">,</div></td></tr><tr><td>2019-09-02 - 2019-09-08</td><td><div style=\"color:rgba(0, 0, 255, 1.056140350877193);font-weight:bold\">,</div></td><td><div style=\"color:rgba(0, 0, 255, 0.5789473684210527);font-weight:bold\">,</div></td><td><div style=\"color:rgba(0, 0, 255, 0.8035087719298246);font-weight:bold\">the</div></td><td><div style=\"color:rgba(0, 0, 255, 0.7052631578947368);font-weight:bold\">be</div></td><td><div style=\"color:rgba(0, 0, 255, 0.6631578947368422);font-weight:bold\">.</div></td><td><div style=\"color:rgba(0, 0, 255, 0.7052631578947368);font-weight:bold\">,</div></td><td><div style=\"color:rgba(0, 0, 255, 0.256140350877193);font-weight:bold\">,</div></td></tr><tr><td>2019-09-09 - 2019-09-15</td><td><div style=\"color:rgba(0, 0, 255, 1.2666666666666666);font-weight:bold\">,</div></td><td><div style=\"color:rgba(0, 0, 255, 0.4245614035087719);font-weight:bold\">!</div></td><td><div style=\"color:rgba(0, 0, 255, 0.9578947368421054);font-weight:bold\">,</div></td><td><div style=\"color:rgba(0, 0, 255, 0.4385964912280702);font-weight:bold\">,</div></td><td><div style=\"color:rgba(0, 0, 255, 0.4807017543859649);font-weight:bold\">,</div></td><td><div style=\"color:rgba(0, 0, 255, 0.3543859649122807);font-weight:bold\">.</div></td><td><div style=\"color:rgba(0, 0, 255, 0.6210526315789473);font-weight:bold\">,</div></td></tr><tr><td>2019-09-16 - 2019-09-22</td><td><div style=\"color:rgba(0, 0, 255, 0.9859649122807017);font-weight:bold\">,</div></td><td><div style=\"color:rgba(0, 0, 255, 0.34035087719298246);font-weight:bold\">the</div></td><td><div style=\"color:rgba(0, 0, 255, 0.7052631578947368);font-weight:bold\">the</div></td><td><div style=\"color:rgba(0, 0, 255, 0.28421052631578947);font-weight:bold\">,</div></td><td><div style=\"color:rgba(0, 0, 255, 0.3824561403508772);font-weight:bold\">,</div></td><td><div style=\"color:rgba(0, 0, 255, 0.4245614035087719);font-weight:bold\">be</div></td><td><div style=\"color:rgba(0, 0, 255, 0.4245614035087719);font-weight:bold\">.</div></td></tr><tr><td>2019-09-23 - 2019-09-29</td><td><div style=\"color:rgba(0, 0, 255, 0.34035087719298246);font-weight:bold\">the</div></td><td><div style=\"color:rgba(0, 0, 255, 0.3824561403508772);font-weight:bold\">the</div></td><td><div style=\"color:rgba(0, 0, 255, 0.5649122807017544);font-weight:bold\">the</div></td><td><div style=\"color:rgba(0, 0, 255, 0.7333333333333334);font-weight:bold\">:</div></td><td><div style=\"color:rgba(0, 0, 255, 0.45263157894736844);font-weight:bold\">,</div></td><td><div style=\"color:rgba(0, 0, 255, 0.4245614035087719);font-weight:bold\">,</div></td><td><div style=\"color:rgba(0, 0, 255, 1.0701754385964912);font-weight:bold\">:</div></td></tr><tr><td>2019-09-30 - 2019-10-06</td><td><div style=\"color:rgba(0, 0, 255, 1.0280701754385966);font-weight:bold\">the</div></td><td><div style=\"color:rgba(0, 0, 255, 0.7473684210526317);font-weight:bold\">,</div></td><td><div style=\"color:rgba(0, 0, 255, 0.6631578947368422);font-weight:bold\">,</div></td><td><div style=\"color:rgba(0, 0, 255, 0.4385964912280702);font-weight:bold\">the</div></td><td><div style=\"color:rgba(0, 0, 255, 0.8035087719298246);font-weight:bold\">,</div></td><td><div style=\"color:rgba(0, 0, 255, 0.7192982456140351);font-weight:bold\">the</div></td><td><div style=\"color:rgba(0, 0, 255, 0.7192982456140351);font-weight:bold\">,</div></td></tr><tr><td>2019-10-07 - 2019-10-13</td><td><div style=\"color:rgba(0, 0, 255, 1.0);font-weight:bold\">,</div></td><td><div style=\"color:rgba(0, 0, 255, 0.775438596491228);font-weight:bold\">be</div></td><td><div style=\"color:rgba(0, 0, 255, 0.8456140350877193);font-weight:bold\">,</div></td><td><div style=\"color:rgba(0, 0, 255, 0.6070175438596492);font-weight:bold\">the</div></td><td><div style=\"color:rgba(0, 0, 255, 0.6070175438596492);font-weight:bold\">:</div></td><td><div style=\"color:rgba(0, 0, 255, 0.45263157894736844);font-weight:bold\">the</div></td><td><div style=\"color:rgba(0, 0, 255, 0.7894736842105263);font-weight:bold\">.</div></td></tr><tr><td>2019-10-14 - 2019-10-20</td><td><div style=\"color:rgba(0, 0, 255, 0.8175438596491229);font-weight:bold\">the</div></td><td><div style=\"color:rgba(0, 0, 255, 0.5087719298245614);font-weight:bold\">,</div></td><td><div style=\"color:rgba(0, 0, 255, 0.49473684210526314);font-weight:bold\">,</div></td><td><div style=\"color:rgba(0, 0, 255, 0.6631578947368422);font-weight:bold\">be</div></td><td><div style=\"color:rgba(0, 0, 255, 0.6070175438596492);font-weight:bold\">the</div></td><td><div style=\"color:rgba(0, 0, 255, 0.7333333333333334);font-weight:bold\">be</div></td><td><div style=\"color:rgba(0, 0, 255, 0.7473684210526317);font-weight:bold\">,</div></td></tr><tr><td>2019-10-21 - 2019-10-27</td><td><div style=\"color:rgba(0, 0, 255, 0.39649122807017545);font-weight:bold\">the</div></td><td><div style=\"color:rgba(0, 0, 255, 0.6210526315789473);font-weight:bold\">:</div></td><td><div style=\"color:rgba(0, 0, 255, 0.7333333333333334);font-weight:bold\">be</div></td><td><div style=\"color:rgba(0, 0, 255, 0.4245614035087719);font-weight:bold\">the</div></td><td><div style=\"color:rgba(0, 0, 255, 0.9157894736842105);font-weight:bold\">the</div></td><td><div style=\"color:rgba(0, 0, 255, 0.7192982456140351);font-weight:bold\">be</div></td><td><div style=\"color:rgba(0, 0, 255, 0.18596491228070178);font-weight:bold\">the</div></td></tr><tr><td>2019-10-28 - 2019-11-03</td><td><div style=\"color:rgba(0, 0, 255, 0.28421052631578947);font-weight:bold\">,</div></td><td><div style=\"color:rgba(0, 0, 255, 0.8596491228070176);font-weight:bold\">the</div></td><td><div style=\"color:rgba(0, 0, 255, 0.7333333333333334);font-weight:bold\">the</div></td><td><div style=\"color:rgba(0, 0, 255, 0.7614035087719297);font-weight:bold\">the</div></td><td><div style=\"color:rgba(0, 0, 255, 0.8736842105263158);font-weight:bold\">,</div></td><td><div style=\"color:rgba(0, 0, 255, 0.5508771929824561);font-weight:bold\">:</div></td><td><div style=\"color:rgba(0, 0, 255, 0.6491228070175439);font-weight:bold\">the</div></td></tr><tr><td>2019-11-04 - 2019-11-10</td><td><div style=\"color:rgba(0, 0, 255, 0.8035087719298246);font-weight:bold\">.</div></td><td><div style=\"color:rgba(0, 0, 255, 0.8175438596491229);font-weight:bold\">,</div></td><td><div style=\"color:rgba(0, 0, 255, 0.5789473684210527);font-weight:bold\">,</div></td><td><div style=\"color:rgba(0, 0, 255, 0.5087719298245614);font-weight:bold\">,</div></td><td><div style=\"color:rgba(0, 0, 255, 0.17192982456140352);font-weight:bold\">:</div></td><td><div style=\"color:rgba(0, 0, 255, 0.6912280701754386);font-weight:bold\">the</div></td><td><div style=\"color:rgba(0, 0, 255, 0.7052631578947368);font-weight:bold\">:</div></td></tr><tr><td>2019-11-11 - 2019-11-17</td><td><div style=\"color:rgba(0, 0, 255, 0.8456140350877193);font-weight:bold\">the</div></td><td><div style=\"color:rgba(0, 0, 255, 0.4666666666666667);font-weight:bold\">,</div></td><td><div style=\"color:rgba(0, 0, 255, 0.8315789473684212);font-weight:bold\">.</div></td><td><div style=\"color:rgba(0, 0, 255, 0.6771929824561403);font-weight:bold\">the</div></td><td><div style=\"color:rgba(0, 0, 255, 1.0);font-weight:bold\">,</div></td><td><div style=\"color:rgba(0, 0, 255, 0.4666666666666667);font-weight:bold\">,</div></td><td><div style=\"color:rgba(0, 0, 255, 0.6631578947368422);font-weight:bold\">.</div></td></tr><tr><td>2019-11-18 - 2019-11-24</td><td><div style=\"color:rgba(0, 0, 255, 0.5087719298245614);font-weight:bold\">,</div></td><td><div style=\"color:rgba(0, 0, 255, 0.6491228070175439);font-weight:bold\">:</div></td><td><div style=\"color:rgba(0, 0, 255, 0.6912280701754386);font-weight:bold\">:</div></td><td><div style=\"color:rgba(0, 0, 255, 0.8175438596491229);font-weight:bold\">,</div></td><td><div style=\"color:rgba(0, 0, 255, 0.4385964912280702);font-weight:bold\">to</div></td><td><div style=\"color:rgba(0, 0, 255, 0.5929824561403509);font-weight:bold\">.</div></td><td><div style=\"color:rgba(0, 0, 255, 0.7052631578947368);font-weight:bold\">.</div></td></tr><tr><td>2019-11-25 - 2019-12-01</td><td><div style=\"color:rgba(0, 0, 255, 0.2280701754385965);font-weight:bold\">,</div></td><td><div style=\"color:rgba(0, 0, 255, 0.39649122807017545);font-weight:bold\">,</div></td><td><div style=\"color:rgba(0, 0, 255, 0.2);font-weight:bold\">!</div></td><td><div style=\"color:rgba(0, 0, 255, 0.21403508771929824);font-weight:bold\">,</div></td><td><div style=\"color:rgba(0, 0, 255, 0.17192982456140352);font-weight:bold\">the</div></td><td><div style=\"color:rgba(0, 0, 255, 0.312280701754386);font-weight:bold\">.</div></td><td><div style=\"color:rgba(0, 0, 255, 0.18596491228070178);font-weight:bold\">,</div></td></tr><tr><td>2019-12-02 - 2019-12-08</td><td><div style=\"color:rgba(0, 0, 255, 0.8877192982456141);font-weight:bold\">be</div></td><td><div style=\"color:rgba(0, 0, 255, 0.6070175438596492);font-weight:bold\">:</div></td><td><div style=\"color:rgba(0, 0, 255, 0.5789473684210527);font-weight:bold\">:</div></td><td><div style=\"color:rgba(0, 0, 255, 0.5228070175438597);font-weight:bold\">the</div></td><td><div style=\"color:rgba(0, 0, 255, 0.5929824561403509);font-weight:bold\">the</div></td><td><div style=\"color:rgba(0, 0, 255, 0.7333333333333334);font-weight:bold\">,</div></td><td><div style=\"color:rgba(0, 0, 255, 1.5333333333333334);font-weight:bold\">:</div></td></tr><tr><td>2019-12-09 - 2019-12-15</td><td><div style=\"color:rgba(0, 0, 255, 0.27017543859649124);font-weight:bold\">!</div></td><td><div style=\"color:rgba(0, 0, 255, 0.9578947368421054);font-weight:bold\">,</div></td><td><div style=\"color:rgba(0, 0, 255, 1.3087719298245615);font-weight:bold\">:</div></td><td><div style=\"color:rgba(0, 0, 255, 1.6596491228070176);font-weight:bold\">:</div></td><td><div style=\"color:rgba(0, 0, 255, 0.7052631578947368);font-weight:bold\">,</div></td><td><div style=\"color:rgba(0, 0, 255, 0.6631578947368422);font-weight:bold\">,</div></td><td><div style=\"color:rgba(0, 0, 255, 0.775438596491228);font-weight:bold\">be</div></td></tr><tr><td>2019-12-16 - 2019-12-22</td><td><div style=\"color:rgba(0, 0, 255, 1.3929824561403508);font-weight:bold\">,</div></td><td><div style=\"color:rgba(0, 0, 255, 0.5789473684210527);font-weight:bold\">.</div></td><td><div style=\"color:rgba(0, 0, 255, 0.8315789473684212);font-weight:bold\">.</div></td><td><div style=\"color:rgba(0, 0, 255, 1.1543859649122807);font-weight:bold\">:</div></td><td><div style=\"color:rgba(0, 0, 255, 0.9578947368421054);font-weight:bold\">,</div></td><td><div style=\"color:rgba(0, 0, 255, 0.4385964912280702);font-weight:bold\">.</div></td><td><div style=\"color:rgba(0, 0, 255, 0.29824561403508776);font-weight:bold\">,</div></td></tr><tr><td>2019-12-23 - 2019-12-29</td><td><div style=\"color:rgba(0, 0, 255, 0.6210526315789473);font-weight:bold\">the</div></td><td><div style=\"color:rgba(0, 0, 255, 0.4385964912280702);font-weight:bold\">be</div></td><td><div style=\"color:rgba(0, 0, 255, 0.2280701754385965);font-weight:bold\">!</div></td><td><div style=\"color:rgba(0, 0, 255, 0.9017543859649122);font-weight:bold\">,</div></td><td><div style=\"color:rgba(0, 0, 255, 0.39649122807017545);font-weight:bold\">the</div></td><td><div style=\"color:rgba(0, 0, 255, 1.0);font-weight:bold\">\n",
              "</div></td><td><div style=\"color:rgba(0, 0, 255, 0.18596491228070178);font-weight:bold\">and</div></td></tr><tr><td>2019-12-30 - 2020-01-05</td><td><div style=\"color:rgba(0, 0, 255, 0.17192982456140352);font-weight:bold\">,</div></td><td><div style=\"color:rgba(0, 0, 255, 0.6771929824561403);font-weight:bold\">be</div></td><td><div style=\"color:rgba(0, 0, 255, 0.4105263157894737);font-weight:bold\">:</div></td><td><div style=\"color:rgba(0, 0, 255, 0.39649122807017545);font-weight:bold\">,</div></td><td><div style=\"color:rgba(0, 0, 255, 0.6631578947368422);font-weight:bold\">.</div></td><td><div style=\"color:rgba(0, 0, 255, 0.29824561403508776);font-weight:bold\">,</div></td><td><div style=\"color:rgba(0, 0, 255, 0.2280701754385965);font-weight:bold\">,</div></td></tr><tr><td>2020-01-06 - 2020-01-12</td><td><div style=\"color:rgba(0, 0, 255, 0.3263157894736842);font-weight:bold\">the</div></td><td><div style=\"color:rgba(0, 0, 255, 0.5929824561403509);font-weight:bold\">:</div></td><td><div style=\"color:rgba(0, 0, 255, 0.15789473684210528);font-weight:bold\">the</div></td><td><div style=\"color:rgba(0, 0, 255, 0.39649122807017545);font-weight:bold\">!</div></td><td><div style=\"color:rgba(0, 0, 255, 0.6210526315789473);font-weight:bold\">the</div></td><td><div style=\"color:rgba(0, 0, 255, 0.5649122807017544);font-weight:bold\">the</div></td><td><div style=\"color:rgba(0, 0, 255, 0.8315789473684212);font-weight:bold\">.</div></td></tr><tr><td>2020-01-13 - 2020-01-19</td><td><div style=\"color:rgba(0, 0, 255, 0.7192982456140351);font-weight:bold\">the</div></td><td><div style=\"color:rgba(0, 0, 255, 0.24210526315789474);font-weight:bold\">the</div></td><td><div style=\"color:rgba(0, 0, 255, 0.6350877192982456);font-weight:bold\">:</div></td><td><div style=\"color:rgba(0, 0, 255, 0.45263157894736844);font-weight:bold\">be</div></td><td><div style=\"color:rgba(0, 0, 255, 0.6912280701754386);font-weight:bold\">.</div></td><td><div style=\"color:rgba(0, 0, 255, 0.45263157894736844);font-weight:bold\">,</div></td><td><div style=\"color:rgba(0, 0, 255, 0.45263157894736844);font-weight:bold\">,</div></td></tr><tr><td>2020-01-20 - 2020-01-26</td><td><div style=\"color:rgba(0, 0, 255, 0.5087719298245614);font-weight:bold\">,</div></td><td><div style=\"color:rgba(0, 0, 255, 0.34035087719298246);font-weight:bold\">,</div></td><td><div style=\"color:rgba(0, 0, 255, 2.249122807017544);font-weight:bold\">:</div></td><td><div style=\"color:rgba(0, 0, 255, 0.6631578947368422);font-weight:bold\">,</div></td><td><div style=\"color:rgba(0, 0, 255, 1.0280701754385966);font-weight:bold\">the</div></td><td><div style=\"color:rgba(0, 0, 255, 1.168421052631579);font-weight:bold\">,</div></td><td><div style=\"color:rgba(0, 0, 255, 0.8035087719298246);font-weight:bold\">,</div></td></tr><tr><td>2020-01-27 - 2020-02-02</td><td><div style=\"color:rgba(0, 0, 255, 0.4105263157894737);font-weight:bold\">the</div></td><td><div style=\"color:rgba(0, 0, 255, 0.7333333333333334);font-weight:bold\">the</div></td><td><div style=\"color:rgba(0, 0, 255, 0.9298245614035088);font-weight:bold\">,</div></td><td><div style=\"color:rgba(0, 0, 255, 0.5649122807017544);font-weight:bold\">.</div></td><td><div style=\"color:rgba(0, 0, 255, 0.4666666666666667);font-weight:bold\">,</div></td><td><div style=\"color:rgba(0, 0, 255, 0.4105263157894737);font-weight:bold\">,</div></td><td><div style=\"color:rgba(0, 0, 255, 0.8456140350877193);font-weight:bold\">the</div></td></tr><tr><td>2020-02-03 - 2020-02-09</td><td><div style=\"color:rgba(0, 0, 255, 0.5228070175438597);font-weight:bold\">,</div></td><td><div style=\"color:rgba(0, 0, 255, 0.8596491228070176);font-weight:bold\">the</div></td><td><div style=\"color:rgba(0, 0, 255, 0.5649122807017544);font-weight:bold\">be</div></td><td><div style=\"color:rgba(0, 0, 255, 0.24210526315789474);font-weight:bold\">the</div></td><td><div style=\"color:rgba(0, 0, 255, 0.9017543859649122);font-weight:bold\">:</div></td><td><div style=\"color:rgba(0, 0, 255, 0.9859649122807017);font-weight:bold\">,</div></td><td><div style=\"color:rgba(0, 0, 255, 0.8175438596491229);font-weight:bold\">,</div></td></tr><tr><td>2020-02-10 - 2020-02-16</td><td><div style=\"color:rgba(0, 0, 255, 0.4245614035087719);font-weight:bold\">.</div></td><td><div style=\"color:rgba(0, 0, 255, 0.5368421052631579);font-weight:bold\">:</div></td><td><div style=\"color:rgba(0, 0, 255, 0.8456140350877193);font-weight:bold\">,</div></td><td><div style=\"color:rgba(0, 0, 255, 0.4105263157894737);font-weight:bold\">,</div></td><td><div style=\"color:rgba(0, 0, 255, 0.6771929824561403);font-weight:bold\">,</div></td><td><div style=\"color:rgba(0, 0, 255, 0.7192982456140351);font-weight:bold\">:</div></td><td><div style=\"color:rgba(0, 0, 255, 0.17192982456140352);font-weight:bold\">the</div></td></tr><tr><td>2020-02-17 - 2020-02-23</td><td><div style=\"color:rgba(0, 0, 255, 0.312280701754386);font-weight:bold\">the</div></td><td><div style=\"color:rgba(0, 0, 255, 1.4070175438596493);font-weight:bold\">,</div></td><td><div style=\"color:rgba(0, 0, 255, 0.5368421052631579);font-weight:bold\">:</div></td><td><div style=\"color:rgba(0, 0, 255, 0.8175438596491229);font-weight:bold\">,</div></td><td><div style=\"color:rgba(0, 0, 255, 0.6491228070175439);font-weight:bold\">,</div></td><td><div style=\"color:rgba(0, 0, 255, 0.4807017543859649);font-weight:bold\">,</div></td><td></td></tr></table>"
            ],
            "text/plain": [
              "<IPython.core.display.HTML object>"
            ]
          },
          "metadata": {
            "tags": []
          }
        }
      ]
    },
    {
      "cell_type": "markdown",
      "metadata": {
        "id": "343B5HrUd1qo",
        "colab_type": "text"
      },
      "source": [
        "Ожидаемо, самыми частотными леммами оказались местоимения, артикли и знаки препинания.\n",
        "Но, несмотря на частотность, они не являются информативными.\n",
        "Вопрос: как найти информативные слова?"
      ]
    },
    {
      "cell_type": "markdown",
      "metadata": {
        "id": "jfOVd9sGpdOZ",
        "colab_type": "text"
      },
      "source": [
        "# TF-IDF\n",
        "\n",
        "Для начала, необходимо уточнить, какие слова являются информативными.\n",
        "Мы видели. что самые частые слова не являются самыми информативными.\n",
        "Нетрудно видеть, что самые редкие слова тоже не несут информации."
      ]
    },
    {
      "cell_type": "code",
      "metadata": {
        "id": "9nxAwFnnp060",
        "colab_type": "code",
        "outputId": "d3106f6f-6871-4442-dbae-08ec58aa74ca",
        "colab": {
          "base_uri": "https://localhost:8080/",
          "height": 1000
        }
      },
      "source": [
        "# visualize\n",
        "times = []\n",
        "values = []\n",
        "weights = []\n",
        "\n",
        "for d in sorted(date_word_count):\n",
        "  # Counter.most_common(n) returns a list of n (all if n == None) most frequent pairs (element, frequency)\n",
        "  times.append(d)\n",
        "  word, count = date_word_count[d].most_common()[-1]\n",
        "  values.append(word)\n",
        "  weights.append(count)\n",
        "\n",
        "html = calendar_table(times, values, weights)\n",
        "display(HTML(html))"
      ],
      "execution_count": 0,
      "outputs": [
        {
          "output_type": "display_data",
          "data": {
            "text/html": [
              "<style>\n",
              "    th, td {\n",
              "      padding: 8px;\n",
              "      text-align: center;\n",
              "      border-bottom: 1px solid #ddd;\n",
              "    }\n",
              "    </style><table><tr><th>week</th><th>Mon</th><th>Tue</th><th>Wed</th><th>Thu</th><th>Fri</th><th>Sat</th><th>Sun</th></tr><tr><td>2018-11-05 - 2018-11-11</td><td></td><td></td><td><div style=\"color:rgba(0, 0, 255, 1.0);font-weight:bold\">Country</div></td><td><div style=\"color:rgba(0, 0, 255, 1.0);font-weight:bold\">bar</div></td><td><div style=\"color:rgba(0, 0, 255, 1.0);font-weight:bold\">#</div></td><td><div style=\"color:rgba(0, 0, 255, 1.0);font-weight:bold\">...</div></td><td><div style=\"color:rgba(0, 0, 255, 1.0);font-weight:bold\">Smart</div></td></tr><tr><td>2018-11-12 - 2018-11-18</td><td><div style=\"color:rgba(0, 0, 255, 1.0);font-weight:bold\">https://t.co/JPUkOr4rW1</div></td><td><div style=\"color:rgba(0, 0, 255, 1.0);font-weight:bold\">affect</div></td><td><div style=\"color:rgba(0, 0, 255, 1.0);font-weight:bold\">worker</div></td><td><div style=\"color:rgba(0, 0, 255, 1.0);font-weight:bold\">dishonest</div></td><td><div style=\"color:rgba(0, 0, 255, 1.0);font-weight:bold\">Freedom...https://t.co/TuEy635mav</div></td><td><div style=\"color:rgba(0, 0, 255, 1.0);font-weight:bold\">give</div></td><td><div style=\"color:rgba(0, 0, 255, 1.0);font-weight:bold\">https://t.co/B1MCTF83Zf</div></td></tr><tr><td>2018-11-19 - 2018-11-25</td><td><div style=\"color:rgba(0, 0, 255, 1.0);font-weight:bold\">Enjoy</div></td><td><div style=\"color:rgba(0, 0, 255, 1.0);font-weight:bold\">Associat</div></td><td><div style=\"color:rgba(0, 0, 255, 1.0);font-weight:bold\">?</div></td><td><div style=\"color:rgba(0, 0, 255, 1.0);font-weight:bold\">?</div></td><td><div style=\"color:rgba(0, 0, 255, 1.0);font-weight:bold\">NOW</div></td><td><div style=\"color:rgba(0, 0, 255, 1.0);font-weight:bold\">…</div></td><td><div style=\"color:rgba(0, 0, 255, 1.0);font-weight:bold\">@marklevinshow</div></td></tr><tr><td>2018-11-26 - 2018-12-02</td><td><div style=\"color:rgba(0, 0, 255, 1.0);font-weight:bold\">separate</div></td><td><div style=\"color:rgba(0, 0, 255, 1.0);font-weight:bold\">-@realDonaldTrum</div></td><td><div style=\"color:rgba(0, 0, 255, 1.0);font-weight:bold\">Subpoena</div></td><td><div style=\"color:rgba(0, 0, 255, 1.0);font-weight:bold\">learn</div></td><td><div style=\"color:rgba(0, 0, 255, 1.0);font-weight:bold\">job</div></td><td><div style=\"color:rgba(0, 0, 255, 1.0);font-weight:bold\">https://t.co/4IHvUdOygc</div></td><td><div style=\"color:rgba(0, 0, 255, 1.0);font-weight:bold\">https://t.co/Kdjeyvkzmb</div></td></tr><tr><td>2018-12-03 - 2018-12-09</td><td><div style=\"color:rgba(0, 0, 255, 1.0);font-weight:bold\">%</div></td><td><div style=\"color:rgba(0, 0, 255, 1.0);font-weight:bold\">https://t.co/9xbFYlZzNs</div></td><td><div style=\"color:rgba(0, 0, 255, 1.0);font-weight:bold\">....</div></td><td><div style=\"color:rgba(0, 0, 255, 1.0);font-weight:bold\">@LouDobbs</div></td><td><div style=\"color:rgba(0, 0, 255, 1.0);font-weight:bold\">Win</div></td><td><div style=\"color:rgba(0, 0, 255, 1.0);font-weight:bold\">…</div></td><td><div style=\"color:rgba(0, 0, 255, 1.0);font-weight:bold\">Steele</div></td></tr><tr><td>2018-12-10 - 2018-12-16</td><td><div style=\"color:rgba(0, 0, 255, 1.0);font-weight:bold\">soon</div></td><td><div style=\"color:rgba(0, 0, 255, 1.0);font-weight:bold\">start</div></td><td><div style=\"color:rgba(0, 0, 255, 1.0);font-weight:bold\">Border</div></td><td><div style=\"color:rgba(0, 0, 255, 1.0);font-weight:bold\">WALL</div></td><td><div style=\"color:rgba(0, 0, 255, 1.0);font-weight:bold\">their</div></td><td><div style=\"color:rgba(0, 0, 255, 1.0);font-weight:bold\">job</div></td><td><div style=\"color:rgba(0, 0, 255, 1.0);font-weight:bold\">belittle</div></td></tr><tr><td>2018-12-17 - 2018-12-23</td><td><div style=\"color:rgba(0, 0, 255, 1.0);font-weight:bold\">American</div></td><td><div style=\"color:rgba(0, 0, 255, 1.0);font-weight:bold\">protest</div></td><td><div style=\"color:rgba(0, 0, 255, 1.0);font-weight:bold\">fantastic</div></td><td><div style=\"color:rgba(0, 0, 255, 1.0);font-weight:bold\">…</div></td><td><div style=\"color:rgba(0, 0, 255, 1.0);font-weight:bold\">Now</div></td><td><div style=\"color:rgba(0, 0, 255, 1.0);font-weight:bold\">recovery</div></td><td><div style=\"color:rgba(0, 0, 255, 1.0);font-weight:bold\">event</div></td></tr><tr><td>2018-12-24 - 2018-12-30</td><td><div style=\"color:rgba(0, 0, 255, 1.0);font-weight:bold\">…</div></td><td><div style=\"color:rgba(0, 0, 255, 1.0);font-weight:bold\">…</div></td><td><div style=\"color:rgba(0, 0, 255, 1.0);font-weight:bold\">https://t.co/rDlhITDvm1</div></td><td><div style=\"color:rgba(0, 0, 255, 1.0);font-weight:bold\">how</div></td><td><div style=\"color:rgba(0, 0, 255, 1.0);font-weight:bold\">approve</div></td><td><div style=\"color:rgba(0, 0, 255, 1.0);font-weight:bold\">Demanded</div></td><td><div style=\"color:rgba(0, 0, 255, 1.0);font-weight:bold\">with</div></td></tr><tr><td>2018-12-31 - 2019-01-06</td><td><div style=\"color:rgba(0, 0, 255, 1.0);font-weight:bold\">sense</div></td><td><div style=\"color:rgba(0, 0, 255, 1.0);font-weight:bold\">thrive</div></td><td><div style=\"color:rgba(0, 0, 255, 1.0);font-weight:bold\">Bad</div></td><td><div style=\"color:rgba(0, 0, 255, 1.0);font-weight:bold\">government</div></td><td><div style=\"color:rgba(0, 0, 255, 1.0);font-weight:bold\">overdue</div></td><td><div style=\"color:rgba(0, 0, 255, 1.0);font-weight:bold\">@LouDobbs</div></td><td><div style=\"color:rgba(0, 0, 255, 1.0);font-weight:bold\">@DRUDGE_REPORT</div></td></tr><tr><td>2019-01-07 - 2019-01-13</td><td><div style=\"color:rgba(0, 0, 255, 1.0);font-weight:bold\">TRUTH</div></td><td><div style=\"color:rgba(0, 0, 255, 1.0);font-weight:bold\">end</div></td><td><div style=\"color:rgba(0, 0, 255, 1.0);font-weight:bold\">https://t.co/Ft6FqQmYfI</div></td><td><div style=\"color:rgba(0, 0, 255, 1.0);font-weight:bold\">possible</div></td><td><div style=\"color:rgba(0, 0, 255, 1.0);font-weight:bold\">https://t.co/NAuMaQW6fl</div></td><td><div style=\"color:rgba(0, 0, 255, 1.0);font-weight:bold\">sleaze</div></td><td><div style=\"color:rgba(0, 0, 255, 1.0);font-weight:bold\">within</div></td></tr><tr><td>2019-01-14 - 2019-01-20</td><td><div style=\"color:rgba(0, 0, 255, 1.0);font-weight:bold\">hand</div></td><td><div style=\"color:rgba(0, 0, 255, 1.0);font-weight:bold\">Bad</div></td><td><div style=\"color:rgba(0, 0, 255, 1.0);font-weight:bold\">at</div></td><td><div style=\"color:rgba(0, 0, 255, 1.0);font-weight:bold\">Countrty</div></td><td><div style=\"color:rgba(0, 0, 255, 1.0);font-weight:bold\">Just</div></td><td><div style=\"color:rgba(0, 0, 255, 1.0);font-weight:bold\">memo</div></td><td><div style=\"color:rgba(0, 0, 255, 1.0);font-weight:bold\">mention</div></td></tr><tr><td>2019-01-21 - 2019-01-27</td><td><div style=\"color:rgba(0, 0, 255, 1.0);font-weight:bold\">secure</div></td><td><div style=\"color:rgba(0, 0, 255, 1.0);font-weight:bold\">@TuckerCarlson</div></td><td><div style=\"color:rgba(0, 0, 255, 1.0);font-weight:bold\">https://t.co/reU1gKWHSQ</div></td><td><div style=\"color:rgba(0, 0, 255, 1.0);font-weight:bold\">prerogative</div></td><td><div style=\"color:rgba(0, 0, 255, 1.0);font-weight:bold\">this</div></td><td><div style=\"color:rgba(0, 0, 255, 1.0);font-weight:bold\">race</div></td><td><div style=\"color:rgba(0, 0, 255, 1.0);font-weight:bold\">...</div></td></tr><tr><td>2019-01-28 - 2019-02-03</td><td><div style=\"color:rgba(0, 0, 255, 1.0);font-weight:bold\">@JillianTurner</div></td><td><div style=\"color:rgba(0, 0, 255, 1.0);font-weight:bold\">you</div></td><td><div style=\"color:rgba(0, 0, 255, 1.0);font-weight:bold\">even</div></td><td><div style=\"color:rgba(0, 0, 255, 1.0);font-weight:bold\">House</div></td><td><div style=\"color:rgba(0, 0, 255, 1.0);font-weight:bold\">do</div></td><td><div style=\"color:rgba(0, 0, 255, 1.0);font-weight:bold\">https://t.co/mdPN4yvS8e</div></td><td><div style=\"color:rgba(0, 0, 255, 1.0);font-weight:bold\">Unforgivable</div></td></tr><tr><td>2019-02-04 - 2019-02-10</td><td><div style=\"color:rgba(0, 0, 255, 1.0);font-weight:bold\">!</div></td><td><div style=\"color:rgba(0, 0, 255, 1.0);font-weight:bold\">event</div></td><td><div style=\"color:rgba(0, 0, 255, 1.0);font-weight:bold\">https://t.co/tUDYZrc6w0</div></td><td><div style=\"color:rgba(0, 0, 255, 1.0);font-weight:bold\">Harassment</div></td><td><div style=\"color:rgba(0, 0, 255, 1.0);font-weight:bold\">https://t.co/P9d1bpapsd</div></td><td><div style=\"color:rgba(0, 0, 255, 1.0);font-weight:bold\">peace</div></td><td><div style=\"color:rgba(0, 0, 255, 1.0);font-weight:bold\">surprise</div></td></tr><tr><td>2019-02-11 - 2019-02-17</td><td><div style=\"color:rgba(0, 0, 255, 1.0);font-weight:bold\">True</div></td><td><div style=\"color:rgba(0, 0, 255, 1.0);font-weight:bold\">…</div></td><td><div style=\"color:rgba(0, 0, 255, 1.0);font-weight:bold\">https://t.co/JcMpQUzIml</div></td><td><div style=\"color:rgba(0, 0, 255, 1.0);font-weight:bold\">https://t.co/ruL7Ctpdak</div></td><td><div style=\"color:rgba(0, 0, 255, 1.0);font-weight:bold\">out</div></td><td><div style=\"color:rgba(0, 0, 255, 1.0);font-weight:bold\">https://t.co/f6Jd2FzayZ</div></td><td><div style=\"color:rgba(0, 0, 255, 1.0);font-weight:bold\">WALL</div></td></tr><tr><td>2019-02-18 - 2019-02-24</td><td><div style=\"color:rgba(0, 0, 255, 1.0);font-weight:bold\">@WSJ</div></td><td><div style=\"color:rgba(0, 0, 255, 1.0);font-weight:bold\">https://t.co/C3DL5RFfiE</div></td><td><div style=\"color:rgba(0, 0, 255, 1.0);font-weight:bold\">…</div></td><td><div style=\"color:rgba(0, 0, 255, 1.0);font-weight:bold\">.........</div></td><td><div style=\"color:rgba(0, 0, 255, 1.0);font-weight:bold\">Country...https://t.co/VuFLkfd12j</div></td><td><div style=\"color:rgba(0, 0, 255, 1.0);font-weight:bold\">Fellow</div></td><td><div style=\"color:rgba(0, 0, 255, 1.0);font-weight:bold\">true</div></td></tr><tr><td>2019-02-25 - 2019-03-03</td><td><div style=\"color:rgba(0, 0, 255, 1.0);font-weight:bold\">stop</div></td><td><div style=\"color:rgba(0, 0, 255, 1.0);font-weight:bold\">before</div></td><td><div style=\"color:rgba(0, 0, 255, 1.0);font-weight:bold\">Interesting</div></td><td><div style=\"color:rgba(0, 0, 255, 1.0);font-weight:bold\">…</div></td><td><div style=\"color:rgba(0, 0, 255, 1.0);font-weight:bold\">@foxnews</div></td><td><div style=\"color:rgba(0, 0, 255, 1.0);font-weight:bold\">https://t.co/3xTzzJH6Iq</div></td><td><div style=\"color:rgba(0, 0, 255, 1.0);font-weight:bold\">reduction</div></td></tr><tr><td>2019-03-04 - 2019-03-10</td><td><div style=\"color:rgba(0, 0, 255, 1.0);font-weight:bold\">year</div></td><td><div style=\"color:rgba(0, 0, 255, 1.0);font-weight:bold\">https://t.co/2Cz5ckERcs</div></td><td><div style=\"color:rgba(0, 0, 255, 1.0);font-weight:bold\">https://t.co/tBsVzrtGYg</div></td><td><div style=\"color:rgba(0, 0, 255, 1.0);font-weight:bold\">Emergency</div></td><td><div style=\"color:rgba(0, 0, 255, 1.0);font-weight:bold\">News</div></td><td><div style=\"color:rgba(0, 0, 255, 1.0);font-weight:bold\">https://t.co/QUuEBfFo44</div></td><td><div style=\"color:rgba(0, 0, 255, 1.0);font-weight:bold\">https://t.co/LoTbT4RFJj</div></td></tr><tr><td>2019-03-11 - 2019-03-17</td><td><div style=\"color:rgba(0, 0, 255, 1.0);font-weight:bold\">which</div></td><td><div style=\"color:rgba(0, 0, 255, 1.0);font-weight:bold\">Jexodus</div></td><td><div style=\"color:rgba(0, 0, 255, 1.0);font-weight:bold\">along</div></td><td><div style=\"color:rgba(0, 0, 255, 1.0);font-weight:bold\">https://t.co/I6tLEQkbnX</div></td><td><div style=\"color:rgba(0, 0, 255, 1.0);font-weight:bold\">https://t.co/884dpZi52P</div></td><td><div style=\"color:rgba(0, 0, 255, 1.0);font-weight:bold\">https://t.co/B6NgsZuJdy</div></td><td><div style=\"color:rgba(0, 0, 255, 1.0);font-weight:bold\">......</div></td></tr><tr><td>2019-03-18 - 2019-03-24</td><td><div style=\"color:rgba(0, 0, 255, 1.0);font-weight:bold\">AGAIN</div></td><td><div style=\"color:rgba(0, 0, 255, 1.0);font-weight:bold\">@thedailybeast</div></td><td><div style=\"color:rgba(0, 0, 255, 1.0);font-weight:bold\">…</div></td><td><div style=\"color:rgba(0, 0, 255, 1.0);font-weight:bold\">day</div></td><td><div style=\"color:rgba(0, 0, 255, 1.0);font-weight:bold\">make</div></td><td></td><td><div style=\"color:rgba(0, 0, 255, 1.0);font-weight:bold\">Day</div></td></tr><tr><td>2019-03-25 - 2019-03-31</td><td><div style=\"color:rgba(0, 0, 255, 1.0);font-weight:bold\">@FoxNews</div></td><td><div style=\"color:rgba(0, 0, 255, 1.0);font-weight:bold\">@BreitbartNews</div></td><td><div style=\"color:rgba(0, 0, 255, 1.0);font-weight:bold\">@TuckerCarlson</div></td><td><div style=\"color:rgba(0, 0, 255, 1.0);font-weight:bold\">https://t.co/Tjz6ZjVV79</div></td><td><div style=\"color:rgba(0, 0, 255, 1.0);font-weight:bold\">https://t.co/3xlMOaaTR5</div></td><td><div style=\"color:rgba(0, 0, 255, 1.0);font-weight:bold\">https://t.co/oq0ZaA3MID</div></td><td><div style=\"color:rgba(0, 0, 255, 1.0);font-weight:bold\">again</div></td></tr><tr><td>2019-04-01 - 2019-04-07</td><td><div style=\"color:rgba(0, 0, 255, 1.0);font-weight:bold\">exist</div></td><td><div style=\"color:rgba(0, 0, 255, 1.0);font-weight:bold\">insurance</div></td><td><div style=\"color:rgba(0, 0, 255, 1.0);font-weight:bold\">ObamaCare</div></td><td><div style=\"color:rgba(0, 0, 255, 1.0);font-weight:bold\">DREAM</div></td><td><div style=\"color:rgba(0, 0, 255, 1.0);font-weight:bold\">Cabinet</div></td><td><div style=\"color:rgba(0, 0, 255, 1.0);font-weight:bold\">https://t.co/BzNwKoUJlg</div></td><td><div style=\"color:rgba(0, 0, 255, 1.0);font-weight:bold\">Joke</div></td></tr><tr><td>2019-04-08 - 2019-04-14</td><td><div style=\"color:rgba(0, 0, 255, 1.0);font-weight:bold\">...</div></td><td><div style=\"color:rgba(0, 0, 255, 1.0);font-weight:bold\">https://t.co/XF8o3jMDle</div></td><td><div style=\"color:rgba(0, 0, 255, 1.0);font-weight:bold\">H</div></td><td><div style=\"color:rgba(0, 0, 255, 1.0);font-weight:bold\">proud</div></td><td><div style=\"color:rgba(0, 0, 255, 1.0);font-weight:bold\">https://t.co/qMmzaPYrK4</div></td><td><div style=\"color:rgba(0, 0, 255, 1.0);font-weight:bold\">Merit</div></td><td><div style=\"color:rgba(0, 0, 255, 1.0);font-weight:bold\">?</div></td></tr><tr><td>2019-04-15 - 2019-04-21</td><td><div style=\"color:rgba(0, 0, 255, 1.0);font-weight:bold\">W.H.</div></td><td><div style=\"color:rgba(0, 0, 255, 1.0);font-weight:bold\">Someday</div></td><td><div style=\"color:rgba(0, 0, 255, 1.0);font-weight:bold\">?</div></td><td><div style=\"color:rgba(0, 0, 255, 1.0);font-weight:bold\">@BreitbartNews</div></td><td><div style=\"color:rgba(0, 0, 255, 1.0);font-weight:bold\">learn</div></td><td><div style=\"color:rgba(0, 0, 255, 1.0);font-weight:bold\">himself</div></td><td><div style=\"color:rgba(0, 0, 255, 1.0);font-weight:bold\">https://t.co/xiMQFztJlV</div></td></tr><tr><td>2019-04-22 - 2019-04-28</td><td><div style=\"color:rgba(0, 0, 255, 1.0);font-weight:bold\">https://t.co/2UK8RgzRQL</div></td><td><div style=\"color:rgba(0, 0, 255, 1.0);font-weight:bold\">https://t.co/kff84hFgKP</div></td><td><div style=\"color:rgba(0, 0, 255, 1.0);font-weight:bold\">https://t.co/x8XogwA8VX</div></td><td><div style=\"color:rgba(0, 0, 255, 1.0);font-weight:bold\">Nevertheless</div></td><td><div style=\"color:rgba(0, 0, 255, 1.0);font-weight:bold\">Enjoy</div></td><td><div style=\"color:rgba(0, 0, 255, 1.0);font-weight:bold\">AGAIN</div></td><td><div style=\"color:rgba(0, 0, 255, 1.0);font-weight:bold\">JRyhOXH7EE</div></td></tr><tr><td>2019-04-29 - 2019-05-05</td><td><div style=\"color:rgba(0, 0, 255, 1.0);font-weight:bold\">special</div></td><td><div style=\"color:rgba(0, 0, 255, 1.0);font-weight:bold\">MARCH</div></td><td><div style=\"color:rgba(0, 0, 255, 1.0);font-weight:bold\">https://t.co/Tw0qwTiUD6</div></td><td><div style=\"color:rgba(0, 0, 255, 1.0);font-weight:bold\">feder</div></td><td><div style=\"color:rgba(0, 0, 255, 1.0);font-weight:bold\">https://t.co/vGPOelEesM</div></td><td><div style=\"color:rgba(0, 0, 255, 1.0);font-weight:bold\">@seanhannity</div></td><td><div style=\"color:rgba(0, 0, 255, 1.0);font-weight:bold\">https://t.co/WKSAfbeARz</div></td></tr><tr><td>2019-05-06 - 2019-05-12</td><td><div style=\"color:rgba(0, 0, 255, 1.0);font-weight:bold\">MAGA</div></td><td><div style=\"color:rgba(0, 0, 255, 1.0);font-weight:bold\">have</div></td><td><div style=\"color:rgba(0, 0, 255, 1.0);font-weight:bold\">https://t.co/eboFUSJH1u</div></td><td><div style=\"color:rgba(0, 0, 255, 1.0);font-weight:bold\">https://t.co/lNBM9sED2f</div></td><td><div style=\"color:rgba(0, 0, 255, 1.0);font-weight:bold\">t</div></td><td><div style=\"color:rgba(0, 0, 255, 1.0);font-weight:bold\">Farmers</div></td><td><div style=\"color:rgba(0, 0, 255, 1.0);font-weight:bold\">mo</div></td></tr><tr><td>2019-05-13 - 2019-05-19</td><td><div style=\"color:rgba(0, 0, 255, 1.0);font-weight:bold\">next</div></td><td><div style=\"color:rgba(0, 0, 255, 1.0);font-weight:bold\">which</div></td><td><div style=\"color:rgba(0, 0, 255, 1.0);font-weight:bold\">https://t.co/gEmhoMlLoc</div></td><td><div style=\"color:rgba(0, 0, 255, 1.0);font-weight:bold\">@Curetivity</div></td><td><div style=\"color:rgba(0, 0, 255, 1.0);font-weight:bold\">vote</div></td><td><div style=\"color:rgba(0, 0, 255, 1.0);font-weight:bold\">https://t.co/BPXkmobseQ</div></td><td><div style=\"color:rgba(0, 0, 255, 1.0);font-weight:bold\">105</div></td></tr><tr><td>2019-05-20 - 2019-05-26</td><td><div style=\"color:rgba(0, 0, 255, 1.0);font-weight:bold\">https://t.co/74z0n2icuA</div></td><td><div style=\"color:rgba(0, 0, 255, 1.0);font-weight:bold\">https://t.co/6oqbA5Y5zU</div></td><td><div style=\"color:rgba(0, 0, 255, 1.0);font-weight:bold\">It</div></td><td><div style=\"color:rgba(0, 0, 255, 1.0);font-weight:bold\">lie</div></td><td><div style=\"color:rgba(0, 0, 255, 1.0);font-weight:bold\">approval</div></td><td><div style=\"color:rgba(0, 0, 255, 1.0);font-weight:bold\">https://t.co/9a72TMftpN</div></td><td><div style=\"color:rgba(0, 0, 255, 1.0);font-weight:bold\">too</div></td></tr><tr><td>2019-05-27 - 2019-06-02</td><td><div style=\"color:rgba(0, 0, 255, 1.0);font-weight:bold\">🇵</div></td><td><div style=\"color:rgba(0, 0, 255, 1.0);font-weight:bold\">https://t.co/KKAw4hqqx5</div></td><td><div style=\"color:rgba(0, 0, 255, 1.0);font-weight:bold\">Abe</div></td><td><div style=\"color:rgba(0, 0, 255, 1.0);font-weight:bold\">HUNT</div></td><td><div style=\"color:rgba(0, 0, 255, 1.0);font-weight:bold\">truth</div></td><td><div style=\"color:rgba(0, 0, 255, 1.0);font-weight:bold\">family</div></td><td><div style=\"color:rgba(0, 0, 255, 1.0);font-weight:bold\">https://t.co/3kNEpteYfW</div></td></tr><tr><td>2019-06-03 - 2019-06-09</td><td><div style=\"color:rgba(0, 0, 255, 1.0);font-weight:bold\">true</div></td><td><div style=\"color:rgba(0, 0, 255, 1.0);font-weight:bold\">https://t.co/8eN2bvtLLU</div></td><td><div style=\"color:rgba(0, 0, 255, 1.0);font-weight:bold\">advice</div></td><td><div style=\"color:rgba(0, 0, 255, 1.0);font-weight:bold\">https://t.co/BwfVEt7gTG</div></td><td><div style=\"color:rgba(0, 0, 255, 1.0);font-weight:bold\">Trump</div></td><td><div style=\"color:rgba(0, 0, 255, 1.0);font-weight:bold\">......</div></td><td><div style=\"color:rgba(0, 0, 255, 1.0);font-weight:bold\">Winners</div></td></tr><tr><td>2019-06-10 - 2019-06-16</td><td><div style=\"color:rgba(0, 0, 255, 1.0);font-weight:bold\">Crime</div></td><td><div style=\"color:rgba(0, 0, 255, 1.0);font-weight:bold\">https://t.co/V8TxJ3KVLZ</div></td><td><div style=\"color:rgba(0, 0, 255, 1.0);font-weight:bold\">https://t.co/VYA2bSzMWf</div></td><td><div style=\"color:rgba(0, 0, 255, 1.0);font-weight:bold\">https://t.co/tvhHIpsrFo</div></td><td><div style=\"color:rgba(0, 0, 255, 1.0);font-weight:bold\">https://t.co/sz6LiPXez6</div></td><td><div style=\"color:rgba(0, 0, 255, 1.0);font-weight:bold\">@realDonald</div></td><td><div style=\"color:rgba(0, 0, 255, 1.0);font-weight:bold\">@abcnews</div></td></tr><tr><td>2019-06-17 - 2019-06-23</td><td><div style=\"color:rgba(0, 0, 255, 1.0);font-weight:bold\">future</div></td><td><div style=\"color:rgba(0, 0, 255, 1.0);font-weight:bold\">quickly</div></td><td><div style=\"color:rgba(0, 0, 255, 1.0);font-weight:bold\">Va9FhByJi0</div></td><td><div style=\"color:rgba(0, 0, 255, 1.0);font-weight:bold\">@IngrahamAngle</div></td><td><div style=\"color:rgba(0, 0, 255, 1.0);font-weight:bold\">...</div></td><td><div style=\"color:rgba(0, 0, 255, 1.0);font-weight:bold\">https://t.co/pLNpaO4</div></td><td><div style=\"color:rgba(0, 0, 255, 1.0);font-weight:bold\">begin</div></td></tr><tr><td>2019-06-24 - 2019-06-30</td><td><div style=\"color:rgba(0, 0, 255, 1.0);font-weight:bold\">i</div></td><td><div style=\"color:rgba(0, 0, 255, 1.0);font-weight:bold\">migrant</div></td><td><div style=\"color:rgba(0, 0, 255, 1.0);font-weight:bold\">Harassment</div></td><td><div style=\"color:rgba(0, 0, 255, 1.0);font-weight:bold\">https://t.co/QgGU0gyjRS</div></td><td><div style=\"color:rgba(0, 0, 255, 1.0);font-weight:bold\">https://t.co/ZUwla1UMAQ</div></td><td><div style=\"color:rgba(0, 0, 255, 1.0);font-weight:bold\">https://t.co/9FCqSuR5Bp</div></td><td><div style=\"color:rgba(0, 0, 255, 1.0);font-weight:bold\">FAST</div></td></tr><tr><td>2019-07-01 - 2019-07-07</td><td><div style=\"color:rgba(0, 0, 255, 1.0);font-weight:bold\">https://t.co/ctb5YJL1Vb</div></td><td><div style=\"color:rgba(0, 0, 255, 1.0);font-weight:bold\">Keep</div></td><td><div style=\"color:rgba(0, 0, 255, 1.0);font-weight:bold\">https://t.co/AiZKkvBsh7</div></td><td><div style=\"color:rgba(0, 0, 255, 1.0);font-weight:bold\">USA</div></td><td><div style=\"color:rgba(0, 0, 255, 1.0);font-weight:bold\">https://t.co/nJghdfqIhX</div></td><td><div style=\"color:rgba(0, 0, 255, 1.0);font-weight:bold\">Congress</div></td><td><div style=\"color:rgba(0, 0, 255, 1.0);font-weight:bold\">Ridiculously</div></td></tr><tr><td>2019-07-08 - 2019-07-14</td><td><div style=\"color:rgba(0, 0, 255, 1.0);font-weight:bold\">audience</div></td><td><div style=\"color:rgba(0, 0, 255, 1.0);font-weight:bold\">change</div></td><td><div style=\"color:rgba(0, 0, 255, 1.0);font-weight:bold\">11th</div></td><td><div style=\"color:rgba(0, 0, 255, 1.0);font-weight:bold\">Endorsement</div></td><td><div style=\"color:rgba(0, 0, 255, 1.0);font-weight:bold\">illegal</div></td><td><div style=\"color:rgba(0, 0, 255, 1.0);font-weight:bold\">https://t.co/WTLC1fFzWl</div></td><td><div style=\"color:rgba(0, 0, 255, 1.0);font-weight:bold\">careful</div></td></tr><tr><td>2019-07-15 - 2019-07-21</td><td><div style=\"color:rgba(0, 0, 255, 1.0);font-weight:bold\">RACIST</div></td><td><div style=\"color:rgba(0, 0, 255, 1.0);font-weight:bold\">@IngrahamAngle</div></td><td><div style=\"color:rgba(0, 0, 255, 1.0);font-weight:bold\">…</div></td><td><div style=\"color:rgba(0, 0, 255, 1.0);font-weight:bold\">https://t.co/3ou3JzHsQX</div></td><td><div style=\"color:rgba(0, 0, 255, 1.0);font-weight:bold\">any</div></td><td><div style=\"color:rgba(0, 0, 255, 1.0);font-weight:bold\">co</div></td><td><div style=\"color:rgba(0, 0, 255, 1.0);font-weight:bold\">@foxandfriends</div></td></tr><tr><td>2019-07-22 - 2019-07-28</td><td><div style=\"color:rgba(0, 0, 255, 1.0);font-weight:bold\">ASAP</div></td><td><div style=\"color:rgba(0, 0, 255, 1.0);font-weight:bold\">@trishregan</div></td><td><div style=\"color:rgba(0, 0, 255, 1.0);font-weight:bold\">https://t.co/unURpLS8Lc</div></td><td><div style=\"color:rgba(0, 0, 255, 1.0);font-weight:bold\">https://t.co/0N4AeoRWK9</div></td><td><div style=\"color:rgba(0, 0, 255, 1.0);font-weight:bold\">thing</div></td><td><div style=\"color:rgba(0, 0, 255, 1.0);font-weight:bold\">https://t.co/9jgdUE5BF8</div></td><td><div style=\"color:rgba(0, 0, 255, 1.0);font-weight:bold\">https://t.co/F3Ej0Z21PZ</div></td></tr><tr><td>2019-07-29 - 2019-08-04</td><td><div style=\"color:rgba(0, 0, 255, 1.0);font-weight:bold\">happen</div></td><td><div style=\"color:rgba(0, 0, 255, 1.0);font-weight:bold\">zero</div></td><td><div style=\"color:rgba(0, 0, 255, 1.0);font-weight:bold\">AGAIN</div></td><td><div style=\"color:rgba(0, 0, 255, 1.0);font-weight:bold\">@LouDobbs</div></td><td><div style=\"color:rgba(0, 0, 255, 1.0);font-weight:bold\">https://t.co/sKPAW8e8qN</div></td><td><div style=\"color:rgba(0, 0, 255, 1.0);font-weight:bold\">https://t.co/h0o1laZ7e3</div></td><td><div style=\"color:rgba(0, 0, 255, 1.0);font-weight:bold\">day</div></td></tr><tr><td>2019-08-05 - 2019-08-11</td><td><div style=\"color:rgba(0, 0, 255, 1.0);font-weight:bold\">event</div></td><td><div style=\"color:rgba(0, 0, 255, 1.0);font-weight:bold\">https://t.co/VC1oNdcLEy</div></td><td><div style=\"color:rgba(0, 0, 255, 1.0);font-weight:bold\">wrong</div></td><td><div style=\"color:rgba(0, 0, 255, 1.0);font-weight:bold\">Sad</div></td><td><div style=\"color:rgba(0, 0, 255, 1.0);font-weight:bold\">au</div></td><td><div style=\"color:rgba(0, 0, 255, 1.0);font-weight:bold\">them</div></td><td><div style=\"color:rgba(0, 0, 255, 1.0);font-weight:bold\">Mooch</div></td></tr><tr><td>2019-08-12 - 2019-08-18</td><td><div style=\"color:rgba(0, 0, 255, 1.0);font-weight:bold\">@realD</div></td><td><div style=\"color:rgba(0, 0, 255, 1.0);font-weight:bold\">End</div></td><td><div style=\"color:rgba(0, 0, 255, 1.0);font-weight:bold\">million</div></td><td><div style=\"color:rgba(0, 0, 255, 1.0);font-weight:bold\">https://t.co/VWeai38VVl</div></td><td><div style=\"color:rgba(0, 0, 255, 1.0);font-weight:bold\">https://t.co/TCg6dLoIya</div></td><td><div style=\"color:rgba(0, 0, 255, 1.0);font-weight:bold\">win</div></td><td><div style=\"color:rgba(0, 0, 255, 1.0);font-weight:bold\">Hunt</div></td></tr><tr><td>2019-08-19 - 2019-08-25</td><td><div style=\"color:rgba(0, 0, 255, 1.0);font-weight:bold\">denunciation</div></td><td><div style=\"color:rgba(0, 0, 255, 1.0);font-weight:bold\">https://t.co/RzX3zjXzga</div></td><td><div style=\"color:rgba(0, 0, 255, 1.0);font-weight:bold\">@OANN</div></td><td><div style=\"color:rgba(0, 0, 255, 1.0);font-weight:bold\">https://t.co/MMMsX3RDQM</div></td><td><div style=\"color:rgba(0, 0, 255, 1.0);font-weight:bold\">@FoxBusi</div></td><td><div style=\"color:rgba(0, 0, 255, 1.0);font-weight:bold\">Have</div></td><td><div style=\"color:rgba(0, 0, 255, 1.0);font-weight:bold\">..</div></td></tr><tr><td>2019-08-26 - 2019-09-01</td><td><div style=\"color:rgba(0, 0, 255, 1.0);font-weight:bold\">afraid</div></td><td><div style=\"color:rgba(0, 0, 255, 1.0);font-weight:bold\">never</div></td><td><div style=\"color:rgba(0, 0, 255, 1.0);font-weight:bold\">https://t.co/KlzzMC40Vt</div></td><td><div style=\"color:rgba(0, 0, 255, 1.0);font-weight:bold\">impact</div></td><td><div style=\"color:rgba(0, 0, 255, 1.0);font-weight:bold\">start</div></td><td><div style=\"color:rgba(0, 0, 255, 1.0);font-weight:bold\">https://t.co/Fee9EB1wQk</div></td><td><div style=\"color:rgba(0, 0, 255, 1.0);font-weight:bold\">...</div></td></tr><tr><td>2019-09-02 - 2019-09-08</td><td><div style=\"color:rgba(0, 0, 255, 1.0);font-weight:bold\">live</div></td><td><div style=\"color:rgba(0, 0, 255, 1.0);font-weight:bold\">refinery</div></td><td><div style=\"color:rgba(0, 0, 255, 1.0);font-weight:bold\">Hope</div></td><td><div style=\"color:rgba(0, 0, 255, 1.0);font-weight:bold\">@LouDobbs</div></td><td><div style=\"color:rgba(0, 0, 255, 1.0);font-weight:bold\">@FoxNews</div></td><td><div style=\"color:rgba(0, 0, 255, 1.0);font-weight:bold\">https://t.co/sQ70fKcTjV</div></td><td><div style=\"color:rgba(0, 0, 255, 1.0);font-weight:bold\">https://t.co/QeUbwdsWfr</div></td></tr><tr><td>2019-09-09 - 2019-09-15</td><td><div style=\"color:rgba(0, 0, 255, 1.0);font-weight:bold\">https://t.co/NeTvaaeVTR</div></td><td><div style=\"color:rgba(0, 0, 255, 1.0);font-weight:bold\">https://t.co/4uwswuHB2u</div></td><td><div style=\"color:rgba(0, 0, 255, 1.0);font-weight:bold\">NC03</div></td><td><div style=\"color:rgba(0, 0, 255, 1.0);font-weight:bold\">Asylum</div></td><td><div style=\"color:rgba(0, 0, 255, 1.0);font-weight:bold\">surp</div></td><td><div style=\"color:rgba(0, 0, 255, 1.0);font-weight:bold\">Genius</div></td><td><div style=\"color:rgba(0, 0, 255, 1.0);font-weight:bold\">https://t.co/jLHKzhZ0Jn</div></td></tr><tr><td>2019-09-16 - 2019-09-22</td><td><div style=\"color:rgba(0, 0, 255, 1.0);font-weight:bold\">A</div></td><td><div style=\"color:rgba(0, 0, 255, 1.0);font-weight:bold\">https://t.co/AG0gAThYdT</div></td><td><div style=\"color:rgba(0, 0, 255, 1.0);font-weight:bold\">https://t.co/EU8AvfH7j9</div></td><td><div style=\"color:rgba(0, 0, 255, 1.0);font-weight:bold\">https://t.co/hScbURTzMJ</div></td><td><div style=\"color:rgba(0, 0, 255, 1.0);font-weight:bold\">https://t.co/jNt93F2BsG</div></td><td><div style=\"color:rgba(0, 0, 255, 1.0);font-weight:bold\">https://t.co/i61cHCZYlD</div></td><td><div style=\"color:rgba(0, 0, 255, 1.0);font-weight:bold\">People</div></td></tr><tr><td>2019-09-23 - 2019-09-29</td><td><div style=\"color:rgba(0, 0, 255, 1.0);font-weight:bold\">.....</div></td><td><div style=\"color:rgba(0, 0, 255, 1.0);font-weight:bold\">https://t.co/p5imhMJqS1</div></td><td><div style=\"color:rgba(0, 0, 255, 1.0);font-weight:bold\">K</div></td><td><div style=\"color:rgba(0, 0, 255, 1.0);font-weight:bold\">https://t.co/o88dILO9oU</div></td><td><div style=\"color:rgba(0, 0, 255, 1.0);font-weight:bold\">https://t.co/TAJLOrpFZe</div></td><td><div style=\"color:rgba(0, 0, 255, 1.0);font-weight:bold\">https://t.co/kVR6Q0Qu6a</div></td><td><div style=\"color:rgba(0, 0, 255, 1.0);font-weight:bold\">Infrastructure</div></td></tr><tr><td>2019-09-30 - 2019-10-06</td><td><div style=\"color:rgba(0, 0, 255, 1.0);font-weight:bold\">another</div></td><td><div style=\"color:rgba(0, 0, 255, 1.0);font-weight:bold\">https://t.co/syyaLR0sNq</div></td><td><div style=\"color:rgba(0, 0, 255, 1.0);font-weight:bold\">https://t.co/7moLU6UTcE</div></td><td><div style=\"color:rgba(0, 0, 255, 1.0);font-weight:bold\">https://t.co/ymvlDLSxci</div></td><td><div style=\"color:rgba(0, 0, 255, 1.0);font-weight:bold\">Countries</div></td><td><div style=\"color:rgba(0, 0, 255, 1.0);font-weight:bold\">https://t.co/PILyE1c220</div></td><td><div style=\"color:rgba(0, 0, 255, 1.0);font-weight:bold\">them</div></td></tr><tr><td>2019-10-07 - 2019-10-13</td><td><div style=\"color:rgba(0, 0, 255, 1.0);font-weight:bold\">lawyer</div></td><td><div style=\"color:rgba(0, 0, 255, 1.0);font-weight:bold\">https://t.co/JekyV</div></td><td><div style=\"color:rgba(0, 0, 255, 1.0);font-weight:bold\">Lincoln</div></td><td><div style=\"color:rgba(0, 0, 255, 1.0);font-weight:bold\">https://t.co/I6VsoDIQQp</div></td><td><div style=\"color:rgba(0, 0, 255, 1.0);font-weight:bold\">https://t.co/b3UQEo0wPq</div></td><td><div style=\"color:rgba(0, 0, 255, 1.0);font-weight:bold\">https://t.co/XBr7xVgarc</div></td><td><div style=\"color:rgba(0, 0, 255, 1.0);font-weight:bold\">explain</div></td></tr><tr><td>2019-10-14 - 2019-10-20</td><td><div style=\"color:rgba(0, 0, 255, 1.0);font-weight:bold\">bad</div></td><td><div style=\"color:rgba(0, 0, 255, 1.0);font-weight:bold\">Transcrpt</div></td><td><div style=\"color:rgba(0, 0, 255, 1.0);font-weight:bold\">@GMA</div></td><td><div style=\"color:rgba(0, 0, 255, 1.0);font-weight:bold\">sick</div></td><td><div style=\"color:rgba(0, 0, 255, 1.0);font-weight:bold\">https://t.co/TB2baAFoBK</div></td><td><div style=\"color:rgba(0, 0, 255, 1.0);font-weight:bold\">sleazebag</div></td><td><div style=\"color:rgba(0, 0, 255, 1.0);font-weight:bold\">g</div></td></tr><tr><td>2019-10-21 - 2019-10-27</td><td><div style=\"color:rgba(0, 0, 255, 1.0);font-weight:bold\">@SteveHiltonx</div></td><td><div style=\"color:rgba(0, 0, 255, 1.0);font-weight:bold\">https://t.co/MMJ5SanakG</div></td><td><div style=\"color:rgba(0, 0, 255, 1.0);font-weight:bold\">ot</div></td><td><div style=\"color:rgba(0, 0, 255, 1.0);font-weight:bold\">https://t.co/f</div></td><td><div style=\"color:rgba(0, 0, 255, 1.0);font-weight:bold\">giant</div></td><td><div style=\"color:rgba(0, 0, 255, 1.0);font-weight:bold\">@robertjeffress</div></td><td><div style=\"color:rgba(0, 0, 255, 1.0);font-weight:bold\">happen</div></td></tr><tr><td>2019-10-28 - 2019-11-03</td><td><div style=\"color:rgba(0, 0, 255, 1.0);font-weight:bold\">Enjoy</div></td><td><div style=\"color:rgba(0, 0, 255, 1.0);font-weight:bold\">hurt</div></td><td><div style=\"color:rgba(0, 0, 255, 1.0);font-weight:bold\">https://t.co/2LmEC</div></td><td><div style=\"color:rgba(0, 0, 255, 1.0);font-weight:bold\">https://t.co/z0I7wBsgTP</div></td><td><div style=\"color:rgba(0, 0, 255, 1.0);font-weight:bold\">@nypmetro</div></td><td><div style=\"color:rgba(0, 0, 255, 1.0);font-weight:bold\">P</div></td><td><div style=\"color:rgba(0, 0, 255, 1.0);font-weight:bold\">@danawh</div></td></tr><tr><td>2019-11-04 - 2019-11-10</td><td><div style=\"color:rgba(0, 0, 255, 1.0);font-weight:bold\">...</div></td><td><div style=\"color:rgba(0, 0, 255, 1.0);font-weight:bold\">https://t.co/wkPrPW8haY</div></td><td><div style=\"color:rgba(0, 0, 255, 1.0);font-weight:bold\">https://t.co/Z0VHUlAwMD</div></td><td><div style=\"color:rgba(0, 0, 255, 1.0);font-weight:bold\">https://t.co/uxVQ4b1iwS</div></td><td><div style=\"color:rgba(0, 0, 255, 1.0);font-weight:bold\">https://t.co/EktztHfLk6</div></td><td><div style=\"color:rgba(0, 0, 255, 1.0);font-weight:bold\">tes</div></td><td><div style=\"color:rgba(0, 0, 255, 1.0);font-weight:bold\">https://t.co/cztdiqqiiH</div></td></tr><tr><td>2019-11-11 - 2019-11-17</td><td><div style=\"color:rgba(0, 0, 255, 1.0);font-weight:bold\">fire</div></td><td><div style=\"color:rgba(0, 0, 255, 1.0);font-weight:bold\">Country</div></td><td><div style=\"color:rgba(0, 0, 255, 1.0);font-weight:bold\">religion</div></td><td><div style=\"color:rgba(0, 0, 255, 1.0);font-weight:bold\">https://t.co/O32ybh04vc</div></td><td><div style=\"color:rgba(0, 0, 255, 1.0);font-weight:bold\">SATURDAY</div></td><td><div style=\"color:rgba(0, 0, 255, 1.0);font-weight:bold\">https://t.co/Pcq7IbehVp</div></td><td><div style=\"color:rgba(0, 0, 255, 1.0);font-weight:bold\">https://t.co/GIg9R9Txe0</div></td></tr><tr><td>2019-11-18 - 2019-11-24</td><td><div style=\"color:rgba(0, 0, 255, 1.0);font-weight:bold\">@greggutfeld</div></td><td><div style=\"color:rgba(0, 0, 255, 1.0);font-weight:bold\">growth</div></td><td><div style=\"color:rgba(0, 0, 255, 1.0);font-weight:bold\">https://t.co/CPjdxq5hXT</div></td><td><div style=\"color:rgba(0, 0, 255, 1.0);font-weight:bold\">https://t.co/G6lGfyxSUs</div></td><td><div style=\"color:rgba(0, 0, 255, 1.0);font-weight:bold\">https://t.co/Go2HsiEyTT</div></td><td><div style=\"color:rgba(0, 0, 255, 1.0);font-weight:bold\">thi</div></td><td><div style=\"color:rgba(0, 0, 255, 1.0);font-weight:bold\">https://t.co/iSzJDM7CZw</div></td></tr><tr><td>2019-11-25 - 2019-12-01</td><td><div style=\"color:rgba(0, 0, 255, 1.0);font-weight:bold\">@SalenaZito</div></td><td><div style=\"color:rgba(0, 0, 255, 1.0);font-weight:bold\">Feder</div></td><td><div style=\"color:rgba(0, 0, 255, 1.0);font-weight:bold\">https://t.co/nYwMq3M5SB</div></td><td><div style=\"color:rgba(0, 0, 255, 1.0);font-weight:bold\">effectively</div></td><td><div style=\"color:rgba(0, 0, 255, 1.0);font-weight:bold\">https://t.co/3ro4eSJloo</div></td><td><div style=\"color:rgba(0, 0, 255, 1.0);font-weight:bold\">entrepreneur</div></td><td><div style=\"color:rgba(0, 0, 255, 1.0);font-weight:bold\">https://t.co/P6ONkI8n0P</div></td></tr><tr><td>2019-12-02 - 2019-12-08</td><td><div style=\"color:rgba(0, 0, 255, 1.0);font-weight:bold\">president</div></td><td><div style=\"color:rgba(0, 0, 255, 1.0);font-weight:bold\">https://t.co/0OB3JQfJND</div></td><td><div style=\"color:rgba(0, 0, 255, 1.0);font-weight:bold\">generation</div></td><td><div style=\"color:rgba(0, 0, 255, 1.0);font-weight:bold\">dan</div></td><td><div style=\"color:rgba(0, 0, 255, 1.0);font-weight:bold\">@realDonald</div></td><td><div style=\"color:rgba(0, 0, 255, 1.0);font-weight:bold\">Lamar</div></td><td><div style=\"color:rgba(0, 0, 255, 1.0);font-weight:bold\">https://t.co/m4tJpfzVte</div></td></tr><tr><td>2019-12-09 - 2019-12-15</td><td><div style=\"color:rgba(0, 0, 255, 1.0);font-weight:bold\">https://t.co/jEP6p</div></td><td><div style=\"color:rgba(0, 0, 255, 1.0);font-weight:bold\">program</div></td><td><div style=\"color:rgba(0, 0, 255, 1.0);font-weight:bold\">https://t.co/g64HD9yL9N</div></td><td><div style=\"color:rgba(0, 0, 255, 1.0);font-weight:bold\">https://t.co</div></td><td><div style=\"color:rgba(0, 0, 255, 1.0);font-weight:bold\">responsibi</div></td><td><div style=\"color:rgba(0, 0, 255, 1.0);font-weight:bold\">Country</div></td><td><div style=\"color:rgba(0, 0, 255, 1.0);font-weight:bold\">debate</div></td></tr><tr><td>2019-12-16 - 2019-12-22</td><td><div style=\"color:rgba(0, 0, 255, 1.0);font-weight:bold\">https://t.co/O8VmH3ipkw</div></td><td><div style=\"color:rgba(0, 0, 255, 1.0);font-weight:bold\">replaceable</div></td><td><div style=\"color:rgba(0, 0, 255, 1.0);font-weight:bold\">SPIED</div></td><td><div style=\"color:rgba(0, 0, 255, 1.0);font-weight:bold\">https://t.co/DutxclyZw9</div></td><td><div style=\"color:rgba(0, 0, 255, 1.0);font-weight:bold\">immediate</div></td><td><div style=\"color:rgba(0, 0, 255, 1.0);font-weight:bold\">http</div></td><td><div style=\"color:rgba(0, 0, 255, 1.0);font-weight:bold\">https://t.co/2TvXWgfbNR</div></td></tr><tr><td>2019-12-23 - 2019-12-29</td><td><div style=\"color:rgba(0, 0, 255, 1.0);font-weight:bold\">hello</div></td><td><div style=\"color:rgba(0, 0, 255, 1.0);font-weight:bold\">anything</div></td><td><div style=\"color:rgba(0, 0, 255, 1.0);font-weight:bold\">https://t.co/uUgIpbUxow</div></td><td><div style=\"color:rgba(0, 0, 255, 1.0);font-weight:bold\">alowed</div></td><td><div style=\"color:rgba(0, 0, 255, 1.0);font-weight:bold\">https://t.co/sndS7YvIGR</div></td><td><div style=\"color:rgba(0, 0, 255, 1.0);font-weight:bold\">https://t.co/XOm1m2HJ23</div></td><td><div style=\"color:rgba(0, 0, 255, 1.0);font-weight:bold\">https://t.co/XLqr9vX1xO</div></td></tr><tr><td>2019-12-30 - 2020-01-05</td><td><div style=\"color:rgba(0, 0, 255, 1.0);font-weight:bold\">@foxandfriends</div></td><td><div style=\"color:rgba(0, 0, 255, 1.0);font-weight:bold\">https://t.co/Mn4EJ7Jbh8</div></td><td><div style=\"color:rgba(0, 0, 255, 1.0);font-weight:bold\">https://t.co/cAxUke2xW6</div></td><td><div style=\"color:rgba(0, 0, 255, 1.0);font-weight:bold\">https://t.co/cDUtqFLLYB</div></td><td><div style=\"color:rgba(0, 0, 255, 1.0);font-weight:bold\">https://t.co/VXeKiVzpTf</div></td><td><div style=\"color:rgba(0, 0, 255, 1.0);font-weight:bold\">https://t.co/qOi7mpKcHY</div></td><td><div style=\"color:rgba(0, 0, 255, 1.0);font-weight:bold\">https://t.co/qI5RfWsSCH</div></td></tr><tr><td>2020-01-06 - 2020-01-12</td><td><div style=\"color:rgba(0, 0, 255, 1.0);font-weight:bold\">sad</div></td><td><div style=\"color:rgba(0, 0, 255, 1.0);font-weight:bold\">5-part</div></td><td><div style=\"color:rgba(0, 0, 255, 1.0);font-weight:bold\">morning</div></td><td><div style=\"color:rgba(0, 0, 255, 1.0);font-weight:bold\">https://t.co/zHEYAnMVLh</div></td><td><div style=\"color:rgba(0, 0, 255, 1.0);font-weight:bold\">https://t.co/PL96KjQWat</div></td><td><div style=\"color:rgba(0, 0, 255, 1.0);font-weight:bold\">Enjoy</div></td><td><div style=\"color:rgba(0, 0, 255, 1.0);font-weight:bold\">https://t.co/O8P9J0CArF</div></td></tr><tr><td>2020-01-13 - 2020-01-19</td><td><div style=\"color:rgba(0, 0, 255, 1.0);font-weight:bold\">https://t.co/DBGGs8QFcJ</div></td><td><div style=\"color:rgba(0, 0, 255, 1.0);font-weight:bold\">https://t.co/HYfBmtYMqF</div></td><td><div style=\"color:rgba(0, 0, 255, 1.0);font-weight:bold\">https://t.co/Oj2pOxsYlA</div></td><td><div style=\"color:rgba(0, 0, 255, 1.0);font-weight:bold\">https://t.co/1OIXKTv0hp</div></td><td><div style=\"color:rgba(0, 0, 255, 1.0);font-weight:bold\">https://</div></td><td><div style=\"color:rgba(0, 0, 255, 1.0);font-weight:bold\">https://t.co/Axc9ezAdar</div></td><td><div style=\"color:rgba(0, 0, 255, 1.0);font-weight:bold\">.....</div></td></tr><tr><td>2020-01-20 - 2020-01-26</td><td><div style=\"color:rgba(0, 0, 255, 1.0);font-weight:bold\">https://t.co/JKkiPxPL0X</div></td><td><div style=\"color:rgba(0, 0, 255, 1.0);font-weight:bold\">https://t.co/5OBYCFQCQo</div></td><td><div style=\"color:rgba(0, 0, 255, 1.0);font-weight:bold\">witne</div></td><td><div style=\"color:rgba(0, 0, 255, 1.0);font-weight:bold\">@foxandfriends</div></td><td><div style=\"color:rgba(0, 0, 255, 1.0);font-weight:bold\">https://t.co/Acyh0HStm8</div></td><td><div style=\"color:rgba(0, 0, 255, 1.0);font-weight:bold\">https://t.co/c1KBtLnbQn</div></td><td><div style=\"color:rgba(0, 0, 255, 1.0);font-weight:bold\">Thanks</div></td></tr><tr><td>2020-01-27 - 2020-02-02</td><td><div style=\"color:rgba(0, 0, 255, 1.0);font-weight:bold\">https://t.co/gAxo3sijpn</div></td><td><div style=\"color:rgba(0, 0, 255, 1.0);font-weight:bold\">P</div></td><td><div style=\"color:rgba(0, 0, 255, 1.0);font-weight:bold\">Lbt8IKeNYu</div></td><td><div style=\"color:rgba(0, 0, 255, 1.0);font-weight:bold\">https://t.co/rrtF1Stk78</div></td><td><div style=\"color:rgba(0, 0, 255, 1.0);font-weight:bold\">https://t.co/4YCo01XYCn</div></td><td><div style=\"color:rgba(0, 0, 255, 1.0);font-weight:bold\">NOTHING</div></td><td><div style=\"color:rgba(0, 0, 255, 1.0);font-weight:bold\">block</div></td></tr><tr><td>2020-02-03 - 2020-02-09</td><td><div style=\"color:rgba(0, 0, 255, 1.0);font-weight:bold\">ov</div></td><td><div style=\"color:rgba(0, 0, 255, 1.0);font-weight:bold\">https://t.co/GRTt56BjEu</div></td><td><div style=\"color:rgba(0, 0, 255, 1.0);font-weight:bold\">https://t.co/W03gQLkdpo</div></td><td><div style=\"color:rgba(0, 0, 255, 1.0);font-weight:bold\">Happened</div></td><td><div style=\"color:rgba(0, 0, 255, 1.0);font-weight:bold\">https://t.co/1tmnaRqll7</div></td><td><div style=\"color:rgba(0, 0, 255, 1.0);font-weight:bold\">https://t.co/gsZyUFlTPJ</div></td><td><div style=\"color:rgba(0, 0, 255, 1.0);font-weight:bold\">rig</div></td></tr><tr><td>2020-02-10 - 2020-02-16</td><td><div style=\"color:rgba(0, 0, 255, 1.0);font-weight:bold\">she</div></td><td><div style=\"color:rgba(0, 0, 255, 1.0);font-weight:bold\">Study</div></td><td><div style=\"color:rgba(0, 0, 255, 1.0);font-weight:bold\">unravel</div></td><td><div style=\"color:rgba(0, 0, 255, 1.0);font-weight:bold\">@foxandfriends</div></td><td><div style=\"color:rgba(0, 0, 255, 1.0);font-weight:bold\">https://t.co/0t9bdLQKDn</div></td><td><div style=\"color:rgba(0, 0, 255, 1.0);font-weight:bold\">https://t.co/eV9fZxzxgi</div></td><td><div style=\"color:rgba(0, 0, 255, 1.0);font-weight:bold\">!</div></td></tr><tr><td>2020-02-17 - 2020-02-23</td><td><div style=\"color:rgba(0, 0, 255, 1.0);font-weight:bold\">https://t.co/aBXvvm1jvF</div></td><td><div style=\"color:rgba(0, 0, 255, 1.0);font-weight:bold\">PrayingForRyan</div></td><td><div style=\"color:rgba(0, 0, 255, 1.0);font-weight:bold\">https://t.co/IJu93xjiQS</div></td><td><div style=\"color:rgba(0, 0, 255, 1.0);font-weight:bold\">KAG2</div></td><td><div style=\"color:rgba(0, 0, 255, 1.0);font-weight:bold\">https://t.co/pmHmSTUftl</div></td><td><div style=\"color:rgba(0, 0, 255, 1.0);font-weight:bold\">against</div></td><td></td></tr></table>"
            ],
            "text/plain": [
              "<IPython.core.display.HTML object>"
            ]
          },
          "metadata": {
            "tags": []
          }
        }
      ]
    },
    {
      "cell_type": "markdown",
      "metadata": {
        "id": "DKcHHLh4p0ER",
        "colab_type": "text"
      },
      "source": [
        "Попробуем такую идею: слово считаем информативным, если оно \"в среднем\" встречается относительно редко, но в конкретный день встречается относительно часто.\n",
        "\n",
        "Формализуем эту идею на языке вероятностей.\n",
        "\n",
        "Пусть имеется коллекция документов $D$, и для каждого документа $d \\in D$ мы хотим узнать, какие слова лучше всего характеризуют этот документ.\n",
        "Пусть словарь конечен и содержит $N$ слов.\n",
        "Пусть $p_i$ -- вероятность встретить слово $i$ в случайном документе из коллекции $D$, а $t_i$ -- сколько раз слово $i$ встретилось в конкретном документе $d $ ($t_i$ может быть равно 0 -- это означает, что $i$-е слово ни разу не встретилось в документе $d$).\n",
        "Тогда произведение $\\prod_{i=1}^{N} p_i^{t_i}$ даёт вероятность того, что этот документ получится \"случайно\".\n",
        "Обратная величина $L_d = \\prod_{i=1}^{N} p_i^{-t_i}$ как бы характеризует, насколько документ \"не случаен\". Возьмём логарифм:\n",
        "$$\n",
        "\\log L_d = \\sum_{i=1}^{N}t_i\\log\\left(\\frac{1}{p_i}\\right)\n",
        "$$\n",
        "Чем больше $i$-е слагаемое, тем сильнее $i$ слово делает документ \"неслучайным\".\n",
        "\n",
        "Каждое слагаемое состоит из двух множителей:\n",
        "- **Term frequency** $t_i$ -- сколько раз слово встретилось в документе. Чем чаще, тем \"характернее\" слово для данного документа\n",
        "- **Inversed document frequency** $\\log\\left(\\frac{1}{p_i}\\right)$. Чем больше эта величина, тем реже слово $i$ встречается в _других_ документах.\n",
        "\n"
      ]
    },
    {
      "cell_type": "code",
      "metadata": {
        "id": "CtMbh-KMpmvM",
        "colab_type": "code",
        "outputId": "7d781e3f-361a-4bd5-a1c9-db385b2b3d38",
        "colab": {
          "base_uri": "https://localhost:8080/",
          "height": 1000
        }
      },
      "source": [
        "from math import log\n",
        "\n",
        "# visualize\n",
        "times = []\n",
        "values = []\n",
        "weights = []\n",
        "\n",
        "# IDF\n",
        "word_counter = Counter()\n",
        "num_documents = len(date_word_count)\n",
        "for words in date_word_count.values():\n",
        "  for word in words:\n",
        "    word_counter[word] += 1\n",
        "\n",
        "for d in sorted(date_word_count):\n",
        "  times.append(d)\n",
        "  word_tfidf = {}\n",
        "  for word, count in date_word_count[d].items():\n",
        "    tf = count\n",
        "    idf = log(num_documents / word_counter[word])\n",
        "    word_tfidf[word] = tf * idf\n",
        "\n",
        "  word, tfidf = list(sorted(word_tfidf.items(), key=lambda x: x[1]))[-1]  # get the highest TF-IDF value\n",
        "  values.append(word)\n",
        "  weights.append(tfidf)\n",
        "\n",
        "html = calendar_table(times, values, weights)\n",
        "display(HTML(html))"
      ],
      "execution_count": 0,
      "outputs": [
        {
          "output_type": "display_data",
          "data": {
            "text/html": [
              "<style>\n",
              "    th, td {\n",
              "      padding: 8px;\n",
              "      text-align: center;\n",
              "      border-bottom: 1px solid #ddd;\n",
              "    }\n",
              "    </style><table><tr><th>week</th><th>Mon</th><th>Tue</th><th>Wed</th><th>Thu</th><th>Fri</th><th>Sat</th><th>Sun</th></tr><tr><td>2018-11-05 - 2018-11-11</td><td></td><td></td><td><div style=\"color:rgba(0, 0, 255, 0.28827767907169316);font-weight:bold\">Sessions</div></td><td><div style=\"color:rgba(0, 0, 255, 0.25295663026673476);font-weight:bold\">scene</div></td><td><div style=\"color:rgba(0, 0, 255, 1.018382070726249);font-weight:bold\">Broward</div></td><td><div style=\"color:rgba(0, 0, 255, 0.6229394288339409);font-weight:bold\">Whitaker</div></td><td><div style=\"color:rgba(0, 0, 255, 0.3849913992836031);font-weight:bold\">Suresnes</div></td></tr><tr><td>2018-11-12 - 2018-11-18</td><td><div style=\"color:rgba(0, 0, 255, 0.3825473039401829);font-weight:bold\">ballot</div></td><td><div style=\"color:rgba(0, 0, 255, 0.7118026896214156);font-weight:bold\">France</div></td><td><div style=\"color:rgba(0, 0, 255, 0.2604520532616268);font-weight:bold\">w/</div></td><td><div style=\"color:rgba(0, 0, 255, 0.30945214683289585);font-weight:bold\">Veterans</div></td><td><div style=\"color:rgba(0, 0, 255, 0.3849913992836031);font-weight:bold\">Midterm</div></td><td><div style=\"color:rgba(0, 0, 255, 0.32487617463685947);font-weight:bold\">Governor</div></td><td><div style=\"color:rgba(0, 0, 255, 0.3825473039401829);font-weight:bold\">Wallace</div></td></tr><tr><td>2018-11-19 - 2018-11-25</td><td><div style=\"color:rgba(0, 0, 255, 0.3849913992836031);font-weight:bold\">Bin</div></td><td><div style=\"color:rgba(0, 0, 255, 0.21473903941263964);font-weight:bold\">Christmas</div></td><td><div style=\"color:rgba(0, 0, 255, 0.40847822359554714);font-weight:bold\">9th</div></td><td><div style=\"color:rgba(0, 0, 255, 0.3719306450419037);font-weight:bold\">Thanksgiving</div></td><td><div style=\"color:rgba(0, 0, 255, 0.33794780962261195);font-weight:bold\">major</div></td><td><div style=\"color:rgba(0, 0, 255, 0.3849913992836031);font-weight:bold\">Small</div></td><td><div style=\"color:rgba(0, 0, 255, 0.3719306450419037);font-weight:bold\">Foundation</div></td></tr><tr><td>2018-11-26 - 2018-12-02</td><td><div style=\"color:rgba(0, 0, 255, 0.2604520532616268);font-weight:bold\">child</div></td><td><div style=\"color:rgba(0, 0, 255, 0.3624337200403335);font-weight:bold\">Motors</div></td><td><div style=\"color:rgba(0, 0, 255, 0.7549741978508093);font-weight:bold\">@The_Trump_Train</div></td><td><div style=\"color:rgba(0, 0, 255, 0.46038693902957967);font-weight:bold\">book</div></td><td><div style=\"color:rgba(0, 0, 255, 0.24662534693235463);font-weight:bold\">Argentina</div></td><td><div style=\"color:rgba(0, 0, 255, 0.6229394288339409);font-weight:bold\">H.W.</div></td><td><div style=\"color:rgba(0, 0, 255, 0.3016867350049261);font-weight:bold\">Hanukkah</div></td></tr><tr><td>2018-12-03 - 2018-12-09</td><td><div style=\"color:rgba(0, 0, 255, 0.3343751524423022);font-weight:bold\">China</div></td><td><div style=\"color:rgba(0, 0, 255, 0.2763063840557789);font-weight:bold\">clean</div></td><td><div style=\"color:rgba(0, 0, 255, 0.31897401477516896);font-weight:bold\">deadly</div></td><td><div style=\"color:rgba(0, 0, 255, 0.2773216826358304);font-weight:bold\">Doug</div></td><td><div style=\"color:rgba(0, 0, 255, 0.597531533650479);font-weight:bold\">Report</div></td><td><div style=\"color:rgba(0, 0, 255, 0.4667874082651889);font-weight:bold\">Paris</div></td><td><div style=\"color:rgba(0, 0, 255, 0.2);font-weight:bold\">Opened</div></td></tr><tr><td>2018-12-10 - 2018-12-16</td><td><div style=\"color:rgba(0, 0, 255, 0.3849913992836031);font-weight:bold\">Smocking</div></td><td><div style=\"color:rgba(0, 0, 255, 0.3463740759336872);font-weight:bold\">Comey</div></td><td><div style=\"color:rgba(0, 0, 255, 0.2);font-weight:bold\">9:00pmE</div></td><td><div style=\"color:rgba(0, 0, 255, 0.4249122182493413);font-weight:bold\">liability</div></td><td><div style=\"color:rgba(0, 0, 255, 0.3849913992836031);font-weight:bold\">Hikes</div></td><td><div style=\"color:rgba(0, 0, 255, 0.3433390671442646);font-weight:bold\">Interior</div></td><td><div style=\"color:rgba(0, 0, 255, 0.3849913992836031);font-weight:bold\">Required</div></td></tr><tr><td>2018-12-17 - 2018-12-23</td><td><div style=\"color:rgba(0, 0, 255, 0.3849913992836031);font-weight:bold\">Anytime</div></td><td><div style=\"color:rgba(0, 0, 255, 0.3849913992836031);font-weight:bold\">Isikoff</div></td><td><div style=\"color:rgba(0, 0, 255, 0.3719306450419037);font-weight:bold\">Foundation</div></td><td><div style=\"color:rgba(0, 0, 255, 0.4739993508692997);font-weight:bold\">ISIS</div></td><td><div style=\"color:rgba(0, 0, 255, 0.5699827985672061);font-weight:bold\">217</div></td><td><div style=\"color:rgba(0, 0, 255, 0.3849913992836031);font-weight:bold\">https://t.co/ZGcYygMf3a</div></td><td><div style=\"color:rgba(0, 0, 255, 0.3433390671442646);font-weight:bold\">Corker</div></td></tr><tr><td>2018-12-24 - 2018-12-30</td><td><div style=\"color:rgba(0, 0, 255, 0.3482272578311051);font-weight:bold\">Wall</div></td><td><div style=\"color:rgba(0, 0, 255, 0.21473903941263964);font-weight:bold\">Christmas</div></td><td><div style=\"color:rgba(0, 0, 255, 0.2);font-weight:bold\">https://t.co/rDlhITDvm1</div></td><td><div style=\"color:rgba(0, 0, 255, 0.521108438557709);font-weight:bold\">DACA</div></td><td><div style=\"color:rgba(0, 0, 255, 0.26805851963705296);font-weight:bold\">Honduras</div></td><td><div style=\"color:rgba(0, 0, 255, 0.31897401477516896);font-weight:bold\">Texts</div></td><td><div style=\"color:rgba(0, 0, 255, 0.2);font-weight:bold\">compound</div></td></tr><tr><td>2018-12-31 - 2019-01-06</td><td><div style=\"color:rgba(0, 0, 255, 0.5050602050147781);font-weight:bold\">yes</div></td><td><div style=\"color:rgba(0, 0, 255, 0.3433390671442646);font-weight:bold\">ALWAYS</div></td><td><div style=\"color:rgba(0, 0, 255, 0.28827767907169316);font-weight:bold\">Mitt</div></td><td><div style=\"color:rgba(0, 0, 255, 0.2);font-weight:bold\">https://t.co/vtqnUwdhjB</div></td><td><div style=\"color:rgba(0, 0, 255, 0.222260294563259);font-weight:bold\">Defense</div></td><td><div style=\"color:rgba(0, 0, 255, 0.3849913992836031);font-weight:bold\">Abramson</div></td><td><div style=\"color:rgba(0, 0, 255, 0.21473903941263964);font-weight:bold\">plus</div></td></tr><tr><td>2019-01-07 - 2019-01-13</td><td><div style=\"color:rgba(0, 0, 255, 0.2308594550819901);font-weight:bold\">knowingly</div></td><td><div style=\"color:rgba(0, 0, 255, 0.26805851963705296);font-weight:bold\">Industry</div></td><td><div style=\"color:rgba(0, 0, 255, 0.3433390671442646);font-weight:bold\">unlikely</div></td><td><div style=\"color:rgba(0, 0, 255, 0.40759999553839554);font-weight:bold\">@charliekirk11</div></td><td><div style=\"color:rgba(0, 0, 255, 0.3433390671442646);font-weight:bold\">station</div></td><td><div style=\"color:rgba(0, 0, 255, 0.40759999553839554);font-weight:bold\">Shutdown</div></td><td><div style=\"color:rgba(0, 0, 255, 0.3433390671442646);font-weight:bold\">SPECIAL</div></td></tr><tr><td>2019-01-14 - 2019-01-20</td><td><div style=\"color:rgba(0, 0, 255, 0.3849913992836031);font-weight:bold\">garb</div></td><td><div style=\"color:rgba(0, 0, 255, 0.40759999553839554);font-weight:bold\">Shutdown</div></td><td><div style=\"color:rgba(0, 0, 255, 0.33878488226478665);font-weight:bold\">Walls</div></td><td><div style=\"color:rgba(0, 0, 255, 0.2);font-weight:bold\">Countrty</div></td><td><div style=\"color:rgba(0, 0, 255, 0.3016867350049261);font-weight:bold\">smuggle</div></td><td><div style=\"color:rgba(0, 0, 255, 0.7549741978508093);font-weight:bold\">Buzzfeed</div></td><td><div style=\"color:rgba(0, 0, 255, 0.8348158357822857);font-weight:bold\">proposal</div></td></tr><tr><td>2019-01-21 - 2019-01-27</td><td><div style=\"color:rgba(0, 0, 255, 0.3849913992836031);font-weight:bold\">@BudgetGOP</div></td><td><div style=\"color:rgba(0, 0, 255, 0.3433390671442646);font-weight:bold\">Covington</div></td><td><div style=\"color:rgba(0, 0, 255, 0.44502580214919063);font-weight:bold\">BUILD</div></td><td><div style=\"color:rgba(0, 0, 255, 0.6716695335721323);font-weight:bold\">Address</div></td><td><div style=\"color:rgba(0, 0, 255, 0.2);font-weight:bold\">D’Antonio</div></td><td><div style=\"color:rgba(0, 0, 255, 0.3065749256917666);font-weight:bold\">Wall</div></td><td><div style=\"color:rgba(0, 0, 255, 0.3849913992836031);font-weight:bold\">95,000</div></td></tr><tr><td>2019-01-28 - 2019-02-03</td><td><div style=\"color:rgba(0, 0, 255, 0.3849913992836031);font-weight:bold\">@johnrobertsFox</div></td><td><div style=\"color:rgba(0, 0, 255, 0.2356693504964919);font-weight:bold\">Vietnam</div></td><td><div style=\"color:rgba(0, 0, 255, 0.43780377427903194);font-weight:bold\">Venezuela</div></td><td><div style=\"color:rgba(0, 0, 255, 0.44502580214919063);font-weight:bold\">33</div></td><td><div style=\"color:rgba(0, 0, 255, 0.3849913992836031);font-weight:bold\">shocker</div></td><td><div style=\"color:rgba(0, 0, 255, 0.2);font-weight:bold\">https://t.co/mdPN4yvS8e</div></td><td><div style=\"color:rgba(0, 0, 255, 0.44502580214919063);font-weight:bold\">Tiger</div></td></tr><tr><td>2019-02-04 - 2019-02-10</td><td><div style=\"color:rgba(0, 0, 255, 0.3433390671442646);font-weight:bold\">Interior</div></td><td><div style=\"color:rgba(0, 0, 255, 0.3849913992836031);font-weight:bold\">Lunar</div></td><td><div style=\"color:rgba(0, 0, 255, 0.5699827985672061);font-weight:bold\">https://t.co/kL6SoClx4</div></td><td><div style=\"color:rgba(0, 0, 255, 0.22640618749771443);font-weight:bold\">committee</div></td><td><div style=\"color:rgba(0, 0, 255, 0.3016867350049261);font-weight:bold\">Dingell</div></td><td><div style=\"color:rgba(0, 0, 255, 0.44502580214919063);font-weight:bold\">Podesta</div></td><td><div style=\"color:rgba(0, 0, 255, 0.3433390671442646);font-weight:bold\">@club4growth</div></td></tr><tr><td>2019-02-11 - 2019-02-17</td><td><div style=\"color:rgba(0, 0, 255, 0.5699827985672061);font-weight:bold\">سال</div></td><td><div style=\"color:rgba(0, 0, 255, 0.33878488226478665);font-weight:bold\">Paso</div></td><td><div style=\"color:rgba(0, 0, 255, 0.5050602050147781);font-weight:bold\">❤</div></td><td><div style=\"color:rgba(0, 0, 255, 0.37302543599790977);font-weight:bold\">McCabe</div></td><td><div style=\"color:rgba(0, 0, 255, 0.2);font-weight:bold\">Lose</div></td><td><div style=\"color:rgba(0, 0, 255, 0.2);font-weight:bold\">https://t.co/f6Jd2FzayZ</div></td><td><div style=\"color:rgba(0, 0, 255, 0.2913642081689831);font-weight:bold\">meeting</div></td></tr><tr><td>2019-02-18 - 2019-02-24</td><td><div style=\"color:rgba(0, 0, 255, 0.33210498088837315);font-weight:bold\">Venezuela</div></td><td><div style=\"color:rgba(0, 0, 255, 0.6716695335721323);font-weight:bold\">Train</div></td><td><div style=\"color:rgba(0, 0, 255, 0.2049730147930161);font-weight:bold\">agent</div></td><td><div style=\"color:rgba(0, 0, 255, 0.34599972538653934);font-weight:bold\">technology</div></td><td><div style=\"color:rgba(0, 0, 255, 0.4249122182493413);font-weight:bold\">Kelly</div></td><td><div style=\"color:rgba(0, 0, 255, 0.22640618749771443);font-weight:bold\">Venezuela</div></td><td><div style=\"color:rgba(0, 0, 255, 0.36811931700316947);font-weight:bold\">Kim</div></td></tr><tr><td>2019-02-25 - 2019-03-03</td><td><div style=\"color:rgba(0, 0, 255, 0.6229394288339409);font-weight:bold\">Danny</div></td><td><div style=\"color:rgba(0, 0, 255, 0.31897401477516896);font-weight:bold\">baby</div></td><td><div style=\"color:rgba(0, 0, 255, 0.5666604751666343);font-weight:bold\">Vietnam</div></td><td><div style=\"color:rgba(0, 0, 255, 0.28827767907169316);font-weight:bold\">Hanoi</div></td><td><div style=\"color:rgba(0, 0, 255, 1.0);font-weight:bold\">Otto</div></td><td><div style=\"color:rgba(0, 0, 255, 0.2);font-weight:bold\">https://t.co/3xTzzJH6Iq</div></td><td><div style=\"color:rgba(0, 0, 255, 0.5075043003581985);font-weight:bold\">manuscript</div></td></tr><tr><td>2019-03-04 - 2019-03-10</td><td><div style=\"color:rgba(0, 0, 255, 0.5699827985672061);font-weight:bold\">Tornadoes</div></td><td><div style=\"color:rgba(0, 0, 255, 0.4249122182493413);font-weight:bold\">expedition</div></td><td><div style=\"color:rgba(0, 0, 255, 0.3016867350049261);font-weight:bold\">Semitism</div></td><td><div style=\"color:rgba(0, 0, 255, 0.222260294563259);font-weight:bold\">Cohen</div></td><td><div style=\"color:rgba(0, 0, 255, 0.6476333980180371);font-weight:bold\">@paulsperry</div></td><td><div style=\"color:rgba(0, 0, 255, 0.22640618749771443);font-weight:bold\">capture</div></td><td><div style=\"color:rgba(0, 0, 255, 0.222260294563259);font-weight:bold\">Cohen</div></td></tr><tr><td>2019-03-11 - 2019-03-17</td><td><div style=\"color:rgba(0, 0, 255, 0.3849913992836031);font-weight:bold\">tunnel</div></td><td><div style=\"color:rgba(0, 0, 255, 0.47095672180455495);font-weight:bold\">climate</div></td><td><div style=\"color:rgba(0, 0, 255, 0.5699827985672061);font-weight:bold\">@AdamSchiff</div></td><td><div style=\"color:rgba(0, 0, 255, 0.2897207717192327);font-weight:bold\">Crime</div></td><td><div style=\"color:rgba(0, 0, 255, 0.8358347667860662);font-weight:bold\">Zealand</div></td><td><div style=\"color:rgba(0, 0, 255, 0.3433390671442646);font-weight:bold\">stain</div></td><td><div style=\"color:rgba(0, 0, 255, 0.7549741978508093);font-weight:bold\">@ChuckCallesto</div></td></tr><tr><td>2019-03-18 - 2019-03-24</td><td><div style=\"color:rgba(0, 0, 255, 0.25295663026673476);font-weight:bold\">contact</div></td><td><div style=\"color:rgba(0, 0, 255, 0.2999552218313257);font-weight:bold\">Twitter</div></td><td><div style=\"color:rgba(0, 0, 255, 0.6716695335721323);font-weight:bold\">Electoral</div></td><td><div style=\"color:rgba(0, 0, 255, 0.2);font-weight:bold\">https://t.co/UhTjBuWY2h</div></td><td><div style=\"color:rgba(0, 0, 255, 0.3538427063779909);font-weight:bold\">Sanctions</div></td><td></td><td><div style=\"color:rgba(0, 0, 255, 0.16699130774578294);font-weight:bold\">EXONERATION</div></td></tr><tr><td>2019-03-25 - 2019-03-31</td><td><div style=\"color:rgba(0, 0, 255, 0.3016867350049261);font-weight:bold\">conspire</div></td><td><div style=\"color:rgba(0, 0, 255, 0.3849913992836031);font-weight:bold\">Caps</div></td><td><div style=\"color:rgba(0, 0, 255, 0.3433390671442646);font-weight:bold\">@Google</div></td><td><div style=\"color:rgba(0, 0, 255, 0.3433390671442646);font-weight:bold\">Rapids</div></td><td><div style=\"color:rgba(0, 0, 255, 0.3433390671442646);font-weight:bold\">Rapids</div></td><td><div style=\"color:rgba(0, 0, 255, 0.2);font-weight:bold\">https://t.co/oq0ZaA3MID</div></td><td><div style=\"color:rgba(0, 0, 255, 0.2);font-weight:bold\">Outrageous</div></td></tr><tr><td>2019-04-01 - 2019-04-07</td><td><div style=\"color:rgba(0, 0, 255, 0.2408980044907929);font-weight:bold\">relief</div></td><td><div style=\"color:rgba(0, 0, 255, 0.805621513926783);font-weight:bold\">Rico</div></td><td><div style=\"color:rgba(0, 0, 255, 0.22983985893752812);font-weight:bold\">Election</div></td><td><div style=\"color:rgba(0, 0, 255, 0.25295663026673476);font-weight:bold\">PARTY</div></td><td><div style=\"color:rgba(0, 0, 255, 0.3433390671442646);font-weight:bold\">Jovita</div></td><td><div style=\"color:rgba(0, 0, 255, 0.5699827985672061);font-weight:bold\">@RJC</div></td><td><div style=\"color:rgba(0, 0, 255, 0.222260294563259);font-weight:bold\">@mike_pence</div></td></tr><tr><td>2019-04-08 - 2019-04-14</td><td><div style=\"color:rgba(0, 0, 255, 0.28827767907169316);font-weight:bold\">Close</div></td><td><div style=\"color:rgba(0, 0, 255, 0.40847822359554714);font-weight:bold\">development</div></td><td><div style=\"color:rgba(0, 0, 255, 0.31897401477516896);font-weight:bold\">Bibi</div></td><td><div style=\"color:rgba(0, 0, 255, 0.3538427063779909);font-weight:bold\">Win</div></td><td><div style=\"color:rgba(0, 0, 255, 0.2763063840557789);font-weight:bold\">page</div></td><td><div style=\"color:rgba(0, 0, 255, 0.3849913992836031);font-weight:bold\">https://t.co/nofzYa2Qs7</div></td><td><div style=\"color:rgba(0, 0, 255, 0.3825473039401829);font-weight:bold\">@TigerWoods</div></td></tr><tr><td>2019-04-15 - 2019-04-21</td><td><div style=\"color:rgba(0, 0, 255, 0.3433390671442646);font-weight:bold\">FIX</div></td><td><div style=\"color:rgba(0, 0, 255, 0.2);font-weight:bold\">devil</div></td><td><div style=\"color:rgba(0, 0, 255, 0.3849913992836031);font-weight:bold\">Francis</div></td><td><div style=\"color:rgba(0, 0, 255, 0.524244364642334);font-weight:bold\">@JudicialWatch</div></td><td><div style=\"color:rgba(0, 0, 255, 0.33274838231680537);font-weight:bold\">Report</div></td><td><div style=\"color:rgba(0, 0, 255, 0.2121109307054403);font-weight:bold\">possible</div></td><td><div style=\"color:rgba(0, 0, 255, 0.5075043003581985);font-weight:bold\">Lanka</div></td></tr><tr><td>2019-04-22 - 2019-04-28</td><td><div style=\"color:rgba(0, 0, 255, 0.5699827985672061);font-weight:bold\">Egg</div></td><td><div style=\"color:rgba(0, 0, 255, 0.4249122182493413);font-weight:bold\">Services</div></td><td><div style=\"color:rgba(0, 0, 255, 0.40847822359554714);font-weight:bold\">Crimes</div></td><td><div style=\"color:rgba(0, 0, 255, 0.3849913992836031);font-weight:bold\">delusion</div></td><td><div style=\"color:rgba(0, 0, 255, 0.521108438557709);font-weight:bold\">hostage</div></td><td><div style=\"color:rgba(0, 0, 255, 0.5075043003581985);font-weight:bold\">TakeBackDay</div></td><td><div style=\"color:rgba(0, 0, 255, 0.3016867350049261);font-weight:bold\">Bay</div></td></tr><tr><td>2019-04-29 - 2019-05-05</td><td><div style=\"color:rgba(0, 0, 255, 0.31897401477516896);font-weight:bold\">Dues</div></td><td><div style=\"color:rgba(0, 0, 255, 0.3849913992836031);font-weight:bold\">@JoeyLogano</div></td><td><div style=\"color:rgba(0, 0, 255, 5.461985406335706);font-weight:bold\">@dbongino</div></td><td><div style=\"color:rgba(0, 0, 255, 0.524244364642334);font-weight:bold\">@JudicialWatch</div></td><td><div style=\"color:rgba(0, 0, 255, 0.3849913992836031);font-weight:bold\">1969</div></td><td><div style=\"color:rgba(0, 0, 255, 0.3849913992836031);font-weight:bold\">https://t.co/pYoiLjM0pz</div></td><td><div style=\"color:rgba(0, 0, 255, 0.7549741978508093);font-weight:bold\">Derby</div></td></tr><tr><td>2019-05-06 - 2019-05-12</td><td><div style=\"color:rgba(0, 0, 255, 0.44502580214919063);font-weight:bold\">Relief</div></td><td><div style=\"color:rgba(0, 0, 255, 0.2);font-weight:bold\">harsh</div></td><td><div style=\"color:rgba(0, 0, 255, 0.5075043003581985);font-weight:bold\">developer</div></td><td><div style=\"color:rgba(0, 0, 255, 0.3433390671442646);font-weight:bold\">Panama</div></td><td><div style=\"color:rgba(0, 0, 255, 1.1678449032401612);font-weight:bold\">Billion</div></td><td><div style=\"color:rgba(0, 0, 255, 1.1183123496168716);font-weight:bold\">subpoena</div></td><td><div style=\"color:rgba(0, 0, 255, 0.3433390671442646);font-weight:bold\">fearful</div></td></tr><tr><td>2019-05-13 - 2019-05-19</td><td><div style=\"color:rgba(0, 0, 255, 1.013029074859851);font-weight:bold\">China</div></td><td><div style=\"color:rgba(0, 0, 255, 0.533979247270993);font-weight:bold\">China</div></td><td><div style=\"color:rgba(0, 0, 255, 0.3433390671442646);font-weight:bold\">infighting</div></td><td><div style=\"color:rgba(0, 0, 255, 0.26340764327768224);font-weight:bold\">system</div></td><td><div style=\"color:rgba(0, 0, 255, 0.3433390671442646);font-weight:bold\">TREASON</div></td><td><div style=\"color:rgba(0, 0, 255, 0.3210024341516654);font-weight:bold\">@TomFitton</div></td><td><div style=\"color:rgba(0, 0, 255, 0.5666604751666343);font-weight:bold\">Life</div></td></tr><tr><td>2019-05-20 - 2019-05-26</td><td><div style=\"color:rgba(0, 0, 255, 0.6476333980180371);font-weight:bold\">bank</div></td><td><div style=\"color:rgba(0, 0, 255, 0.6415380624590443);font-weight:bold\">Pennsylvania</div></td><td><div style=\"color:rgba(0, 0, 255, 0.49090465981707254);font-weight:bold\">WAS</div></td><td><div style=\"color:rgba(0, 0, 255, 0.28827767907169316);font-weight:bold\">ill</div></td><td><div style=\"color:rgba(0, 0, 255, 0.35449911000035494);font-weight:bold\">Japan</div></td><td><div style=\"color:rgba(0, 0, 255, 0.35449911000035494);font-weight:bold\">Japan</div></td><td><div style=\"color:rgba(0, 0, 255, 0.7288526893674105);font-weight:bold\">@AbeShinzo</div></td></tr><tr><td>2019-05-27 - 2019-06-02</td><td><div style=\"color:rgba(0, 0, 255, 0.9399655971344123);font-weight:bold\">1994</div></td><td><div style=\"color:rgba(0, 0, 255, 0.31897401477516896);font-weight:bold\">IQ</div></td><td><div style=\"color:rgba(0, 0, 255, 0.3433390671442646);font-weight:bold\">Roy</div></td><td><div style=\"color:rgba(0, 0, 255, 0.46375470664984886);font-weight:bold\">Russia</div></td><td><div style=\"color:rgba(0, 0, 255, 0.5699827985672061);font-weight:bold\">LGBT</div></td><td><div style=\"color:rgba(0, 0, 255, 0.9269048428927131);font-weight:bold\">@Franklin_Graham</div></td><td><div style=\"color:rgba(0, 0, 255, 0.3849913992836031);font-weight:bold\">https://t.co/myKaSEnbs7</div></td></tr><tr><td>2019-06-03 - 2019-06-09</td><td><div style=\"color:rgba(0, 0, 255, 0.6229394288339409);font-weight:bold\">@RoyalFamily</div></td><td><div style=\"color:rgba(0, 0, 255, 0.47095672180455495);font-weight:bold\">🇧</div></td><td><div style=\"color:rgba(0, 0, 255, 0.5699827985672061);font-weight:bold\">Rivlin</div></td><td><div style=\"color:rgba(0, 0, 255, 1.0);font-weight:bold\">DDay75thAnniversary</div></td><td><div style=\"color:rgba(0, 0, 255, 0.40759999553839554);font-weight:bold\">Nervous</div></td><td><div style=\"color:rgba(0, 0, 255, 0.8906507078332253);font-weight:bold\">Mexico</div></td><td><div style=\"color:rgba(0, 0, 255, 0.7317039364377198);font-weight:bold\">@SecAzar</div></td></tr><tr><td>2019-06-10 - 2019-06-16</td><td><div style=\"color:rgba(0, 0, 255, 0.32405875616939517);font-weight:bold\">Mexico</div></td><td><div style=\"color:rgba(0, 0, 255, 0.40847822359554714);font-weight:bold\">devalue</div></td><td><div style=\"color:rgba(0, 0, 255, 0.401102022463236);font-weight:bold\">WE</div></td><td><div style=\"color:rgba(0, 0, 255, 0.5075043003581985);font-weight:bold\">Duda</div></td><td><div style=\"color:rgba(0, 0, 255, 0.3849913992836031);font-weight:bold\">Natalie</div></td><td><div style=\"color:rgba(0, 0, 255, 0.5075043003581985);font-weight:bold\">IRGC</div></td><td><div style=\"color:rgba(0, 0, 255, 0.4667874082651889);font-weight:bold\">enjoy</div></td></tr><tr><td>2019-06-17 - 2019-06-23</td><td><div style=\"color:rgba(0, 0, 255, 0.31897401477516896);font-weight:bold\">Gary</div></td><td><div style=\"color:rgba(0, 0, 255, 0.521108438557709);font-weight:bold\">Orlando</div></td><td><div style=\"color:rgba(0, 0, 255, 0.7749221358633271);font-weight:bold\">Trump2020</div></td><td><div style=\"color:rgba(0, 0, 255, 0.3016867350049261);font-weight:bold\">Stocks</div></td><td><div style=\"color:rgba(0, 0, 255, 0.3849913992836031);font-weight:bold\">unman</div></td><td><div style=\"color:rgba(0, 0, 255, 0.4563301002765868);font-weight:bold\">June</div></td><td><div style=\"color:rgba(0, 0, 255, 0.2);font-weight:bold\">Highways</div></td></tr><tr><td>2019-06-24 - 2019-06-30</td><td><div style=\"color:rgba(0, 0, 255, 0.5050602050147781);font-weight:bold\">ease</div></td><td><div style=\"color:rgba(0, 0, 255, 0.44502580214919063);font-weight:bold\">Thom</div></td><td><div style=\"color:rgba(0, 0, 255, 1.0);font-weight:bold\">Megan</div></td><td><div style=\"color:rgba(0, 0, 255, 0.25295663026673476);font-weight:bold\">Census</div></td><td><div style=\"color:rgba(0, 0, 255, 0.26962648267936545);font-weight:bold\">Japan</div></td><td><div style=\"color:rgba(0, 0, 255, 0.5396347645552639);font-weight:bold\">Moon</div></td><td><div style=\"color:rgba(0, 0, 255, 0.3849913992836031);font-weight:bold\">오울렛</div></td></tr><tr><td>2019-07-01 - 2019-07-07</td><td><div style=\"color:rgba(0, 0, 255, 0.5699827985672061);font-weight:bold\">Half</div></td><td><div style=\"color:rgba(0, 0, 255, 0.7549741978508093);font-weight:bold\">director</div></td><td><div style=\"color:rgba(0, 0, 255, 0.31897401477516896);font-weight:bold\">Salute</div></td><td><div style=\"color:rgba(0, 0, 255, 0.5699827985672061);font-weight:bold\">SALUTE</div></td><td><div style=\"color:rgba(0, 0, 255, 0.8358347667860662);font-weight:bold\">SaluteToAmerica</div></td><td><div style=\"color:rgba(0, 0, 255, 0.3849913992836031);font-weight:bold\">Cline</div></td><td><div style=\"color:rgba(0, 0, 255, 0.33878488226478665);font-weight:bold\">substantially</div></td></tr><tr><td>2019-07-08 - 2019-07-14</td><td><div style=\"color:rgba(0, 0, 255, 0.7549741978508093);font-weight:bold\">@ReaganBattalion</div></td><td><div style=\"color:rgba(0, 0, 255, 0.3849913992836031);font-weight:bold\">strain</div></td><td><div style=\"color:rgba(0, 0, 255, 0.3849913992836031);font-weight:bold\">https://t.co/4c8wlQzrlF</div></td><td><div style=\"color:rgba(0, 0, 255, 1.0572839586882066);font-weight:bold\">Social</div></td><td><div style=\"color:rgba(0, 0, 255, 1.0);font-weight:bold\">SocialMediaSummit</div></td><td><div style=\"color:rgba(0, 0, 255, 0.9486075012472814);font-weight:bold\">@JudicialWatch</div></td><td><div style=\"color:rgba(0, 0, 255, 3.899827985672062);font-weight:bold\">@usminority</div></td></tr><tr><td>2019-07-15 - 2019-07-21</td><td><div style=\"color:rgba(0, 0, 255, 0.6269962675869338);font-weight:bold\">Israel</div></td><td><div style=\"color:rgba(0, 0, 255, 0.39458347909738106);font-weight:bold\">Racist</div></td><td><div style=\"color:rgba(0, 0, 255, 0.4249122182493413);font-weight:bold\">entitle</div></td><td><div style=\"color:rgba(0, 0, 255, 0.521108438557709);font-weight:bold\">MS-13</div></td><td><div style=\"color:rgba(0, 0, 255, 0.42951198841012106);font-weight:bold\">Minnesota</div></td><td><div style=\"color:rgba(0, 0, 255, 0.6716695335721323);font-weight:bold\">@danielledsouzag</div></td><td><div style=\"color:rgba(0, 0, 255, 0.3433390671442646);font-weight:bold\">Ann</div></td></tr><tr><td>2019-07-22 - 2019-07-28</td><td><div style=\"color:rgba(0, 0, 255, 0.3849913992836031);font-weight:bold\">ream</div></td><td><div style=\"color:rgba(0, 0, 255, 0.6716695335721323);font-weight:bold\">Volume</div></td><td><div style=\"color:rgba(0, 0, 255, 0.7778769808032651);font-weight:bold\">Mueller</div></td><td><div style=\"color:rgba(0, 0, 255, 0.47095672180455495);font-weight:bold\">Sweden</div></td><td><div style=\"color:rgba(0, 0, 255, 0.3849913992836031);font-weight:bold\">Liberalism</div></td><td><div style=\"color:rgba(0, 0, 255, 0.4467103094475833);font-weight:bold\">district</div></td><td><div style=\"color:rgba(0, 0, 255, 1.0272082763990211);font-weight:bold\">Baltimore</div></td></tr><tr><td>2019-07-29 - 2019-08-04</td><td><div style=\"color:rgba(0, 0, 255, 0.6476333980180371);font-weight:bold\">Baltimore</div></td><td><div style=\"color:rgba(0, 0, 255, 0.521108438557709);font-weight:bold\">Baltimore</div></td><td><div style=\"color:rgba(0, 0, 255, 0.5883648692934552);font-weight:bold\">Gallagher</div></td><td><div style=\"color:rgba(0, 0, 255, 0.294454333476564);font-weight:bold\">China</div></td><td><div style=\"color:rgba(0, 0, 255, 0.36811931700316947);font-weight:bold\">Kim</div></td><td><div style=\"color:rgba(0, 0, 255, 0.2773216826358304);font-weight:bold\">@KTHopkins</div></td><td><div style=\"color:rgba(0, 0, 255, 0.7704865909959733);font-weight:bold\">Paso</div></td></tr><tr><td>2019-08-05 - 2019-08-11</td><td><div style=\"color:rgba(0, 0, 255, 0.6716695335721323);font-weight:bold\">manipulation</div></td><td><div style=\"color:rgba(0, 0, 255, 0.9414755855802277);font-weight:bold\">Google</div></td><td><div style=\"color:rgba(0, 0, 255, 0.6476333980180371);font-weight:bold\">Dayton</div></td><td><div style=\"color:rgba(0, 0, 255, 0.7288526893674105);font-weight:bold\">brother</div></td><td><div style=\"color:rgba(0, 0, 255, 0.5075043003581985);font-weight:bold\">Elite</div></td><td><div style=\"color:rgba(0, 0, 255, 0.4249122182493413);font-weight:bold\">exercise</div></td><td><div style=\"color:rgba(0, 0, 255, 0.5699827985672061);font-weight:bold\">Donny</div></td></tr><tr><td>2019-08-12 - 2019-08-18</td><td><div style=\"color:rgba(0, 0, 255, 0.3849913992836031);font-weight:bold\">explosion</div></td><td><div style=\"color:rgba(0, 0, 255, 0.5699827985672061);font-weight:bold\">@ChrisCuomo</div></td><td><div style=\"color:rgba(0, 0, 255, 0.44502580214919063);font-weight:bold\">Kong</div></td><td><div style=\"color:rgba(0, 0, 255, 0.44502580214919063);font-weight:bold\">Philadelphia</div></td><td><div style=\"color:rgba(0, 0, 255, 0.6981812966046377);font-weight:bold\">Tlaib</div></td><td><div style=\"color:rgba(0, 0, 255, 0.787195444210075);font-weight:bold\">@CLewandowski</div></td><td><div style=\"color:rgba(0, 0, 255, 0.26003440286558754);font-weight:bold\">evil</div></td></tr><tr><td>2019-08-19 - 2019-08-25</td><td><div style=\"color:rgba(0, 0, 255, 0.47095672180455495);font-weight:bold\">@OliverMcGee</div></td><td><div style=\"color:rgba(0, 0, 255, 0.5699827985672061);font-weight:bold\">Greenland</div></td><td><div style=\"color:rgba(0, 0, 255, 0.5883648692934552);font-weight:bold\">Jew</div></td><td><div style=\"color:rgba(0, 0, 255, 0.3433390671442646);font-weight:bold\">Cousy</div></td><td><div style=\"color:rgba(0, 0, 255, 0.6716695335721323);font-weight:bold\">Cousy</div></td><td><div style=\"color:rgba(0, 0, 255, 0.45050490628203355);font-weight:bold\">France</div></td><td><div style=\"color:rgba(0, 0, 255, 0.6939896192843129);font-weight:bold\">@JudicialWatch</div></td></tr><tr><td>2019-08-26 - 2019-09-01</td><td><div style=\"color:rgba(0, 0, 255, 0.5699827985672061);font-weight:bold\">G7Summit</div></td><td><div style=\"color:rgba(0, 0, 255, 0.7741583574783653);font-weight:bold\">G-7</div></td><td><div style=\"color:rgba(0, 0, 255, 0.5075043003581985);font-weight:bold\">bedbug</div></td><td><div style=\"color:rgba(0, 0, 255, 0.34599972538653934);font-weight:bold\">Dorian</div></td><td><div style=\"color:rgba(0, 0, 255, 0.47892026602060334);font-weight:bold\">Comey</div></td><td><div style=\"color:rgba(0, 0, 255, 0.7549741978508093);font-weight:bold\">@RedCross</div></td><td><div style=\"color:rgba(0, 0, 255, 1.2286427245069194);font-weight:bold\">Dorian</div></td></tr><tr><td>2019-09-02 - 2019-09-08</td><td><div style=\"color:rgba(0, 0, 255, 0.7500860071639688);font-weight:bold\">@NHC_Atlantic</div></td><td><div style=\"color:rgba(0, 0, 255, 0.9951118093131595);font-weight:bold\">@NHC_Atlantic</div></td><td><div style=\"color:rgba(0, 0, 255, 0.5050602050147781);font-weight:bold\">@NHC_Atlantic</div></td><td><div style=\"color:rgba(0, 0, 255, 1.1183123496168716);font-weight:bold\">Dorian</div></td><td><div style=\"color:rgba(0, 0, 255, 0.7741583574783653);font-weight:bold\">DACA</div></td><td><div style=\"color:rgba(0, 0, 255, 0.39458347909738106);font-weight:bold\">Bahamas</div></td><td><div style=\"color:rgba(0, 0, 255, 0.24662534693235463);font-weight:bold\">Bishop</div></td></tr><tr><td>2019-09-09 - 2019-09-15</td><td><div style=\"color:rgba(0, 0, 255, 0.5140551889514131);font-weight:bold\">Carolina</div></td><td><div style=\"color:rgba(0, 0, 255, 0.799224667942851);font-weight:bold\">Carolina</div></td><td><div style=\"color:rgba(0, 0, 255, 0.8256672124722488);font-weight:bold\">Greg</div></td><td><div style=\"color:rgba(0, 0, 255, 0.3949374288696353);font-weight:bold\">✅</div></td><td><div style=\"color:rgba(0, 0, 255, 0.3433390671442646);font-weight:bold\">Vaping</div></td><td><div style=\"color:rgba(0, 0, 255, 0.3849913992836031);font-weight:bold\">bin</div></td><td><div style=\"color:rgba(0, 0, 255, 0.5615467574269895);font-weight:bold\">Brett</div></td></tr><tr><td>2019-09-16 - 2019-09-22</td><td><div style=\"color:rgba(0, 0, 255, 0.6492013610603494);font-weight:bold\">Kavanaugh</div></td><td><div style=\"color:rgba(0, 0, 255, 0.31897401477516896);font-weight:bold\">editor</div></td><td><div style=\"color:rgba(0, 0, 255, 0.5941487333366555);font-weight:bold\">car</div></td><td><div style=\"color:rgba(0, 0, 255, 0.21557818199810974);font-weight:bold\">price</div></td><td><div style=\"color:rgba(0, 0, 255, 0.3849913992836031);font-weight:bold\">unemployed</div></td><td><div style=\"color:rgba(0, 0, 255, 0.5057478442438952);font-weight:bold\">scandal</div></td><td><div style=\"color:rgba(0, 0, 255, 0.3624337200403335);font-weight:bold\">India</div></td></tr><tr><td>2019-09-23 - 2019-09-29</td><td><div style=\"color:rgba(0, 0, 255, 0.3849913992836031);font-weight:bold\">UNGA</div></td><td><div style=\"color:rgba(0, 0, 255, 0.33878488226478665);font-weight:bold\">Nations</div></td><td><div style=\"color:rgba(0, 0, 255, 0.3433390671442646);font-weight:bold\">qui</div></td><td><div style=\"color:rgba(0, 0, 255, 0.6618931521984512);font-weight:bold\">@DonaldJTrumpJr</div></td><td><div style=\"color:rgba(0, 0, 255, 0.5396347645552639);font-weight:bold\">HE</div></td><td><div style=\"color:rgba(0, 0, 255, 0.3849913992836031);font-weight:bold\">https://t.co/SzT60K4sW3</div></td><td><div style=\"color:rgba(0, 0, 255, 3.5106108623922756);font-weight:bold\">Henry</div></td></tr><tr><td>2019-09-30 - 2019-10-06</td><td><div style=\"color:rgba(0, 0, 255, 0.3719306450419037);font-weight:bold\">Bidens</div></td><td><div style=\"color:rgba(0, 0, 255, 0.6229394288339409);font-weight:bold\">Autism</div></td><td><div style=\"color:rgba(0, 0, 255, 0.3849913992836031);font-weight:bold\">electrify</div></td><td><div style=\"color:rgba(0, 0, 255, 0.3849913992836031);font-weight:bold\">⭐</div></td><td><div style=\"color:rgba(0, 0, 255, 0.44502580214919063);font-weight:bold\">hole</div></td><td><div style=\"color:rgba(0, 0, 255, 0.7741583574783653);font-weight:bold\">@paulsperry</div></td><td><div style=\"color:rgba(0, 0, 255, 0.40161701389554894);font-weight:bold\">@LindseyGrahamSC</div></td></tr><tr><td>2019-10-07 - 2019-10-13</td><td><div style=\"color:rgba(0, 0, 255, 0.7412721747989715);font-weight:bold\">Turkey</div></td><td><div style=\"color:rgba(0, 0, 255, 1.2447194533152302);font-weight:bold\">Minneapolis</div></td><td><div style=\"color:rgba(0, 0, 255, 0.521108438557709);font-weight:bold\">DACA</div></td><td><div style=\"color:rgba(0, 0, 255, 0.7412721747989715);font-weight:bold\">Turkey</div></td><td><div style=\"color:rgba(0, 0, 255, 0.5699827985672061);font-weight:bold\">TrumpMinneapolis</div></td><td><div style=\"color:rgba(0, 0, 255, 0.530800535842108);font-weight:bold\">Louisiana</div></td><td><div style=\"color:rgba(0, 0, 255, 0.5666604751666343);font-weight:bold\">Kurds</div></td></tr><tr><td>2019-10-14 - 2019-10-20</td><td><div style=\"color:rgba(0, 0, 255, 0.5745606681472633);font-weight:bold\">Syria</div></td><td><div style=\"color:rgba(0, 0, 255, 0.42707685722065064);font-weight:bold\">Whistleblower</div></td><td><div style=\"color:rgba(0, 0, 255, 0.3433390671442646);font-weight:bold\">Seats</div></td><td><div style=\"color:rgba(0, 0, 255, 0.40847822359554714);font-weight:bold\">Dallas</div></td><td><div style=\"color:rgba(0, 0, 255, 0.5699827985672061);font-weight:bold\">TrumpRallyDallas</div></td><td><div style=\"color:rgba(0, 0, 255, 0.7549741978508093);font-weight:bold\">@ZTPetrizzo</div></td><td><div style=\"color:rgba(0, 0, 255, 0.5883648692934552);font-weight:bold\">ceasefire</div></td></tr><tr><td>2019-10-21 - 2019-10-27</td><td><div style=\"color:rgba(0, 0, 255, 0.3016867350049261);font-weight:bold\">@SecretaryRoss</div></td><td><div style=\"color:rgba(0, 0, 255, 1.1641652332139338);font-weight:bold\">censure</div></td><td><div style=\"color:rgba(0, 0, 255, 0.5699827985672061);font-weight:bold\">@mustefabali</div></td><td><div style=\"color:rgba(0, 0, 255, 0.4563301002765868);font-weight:bold\">Kurds</div></td><td><div style=\"color:rgba(0, 0, 255, 0.6716695335721323);font-weight:bold\">Bipartisan</div></td><td><div style=\"color:rgba(0, 0, 255, 0.6275731060893734);font-weight:bold\">Flynn</div></td><td><div style=\"color:rgba(0, 0, 255, 0.2);font-weight:bold\">https://t.co/LGXkUzMJiI</div></td></tr><tr><td>2019-10-28 - 2019-11-03</td><td><div style=\"color:rgba(0, 0, 255, 0.3849913992836031);font-weight:bold\">@scottadamsshow</div></td><td><div style=\"color:rgba(0, 0, 255, 0.6020808930184243);font-weight:bold\">Schiff</div></td><td><div style=\"color:rgba(0, 0, 255, 0.43780377427903194);font-weight:bold\">resolution</div></td><td><div style=\"color:rgba(0, 0, 255, 0.39458347909738106);font-weight:bold\">@AriFleischer</div></td><td><div style=\"color:rgba(0, 0, 255, 0.8929449734743367);font-weight:bold\">York</div></td><td><div style=\"color:rgba(0, 0, 255, 0.5699827985672061);font-weight:bold\">Howie</div></td><td><div style=\"color:rgba(0, 0, 255, 0.521108438557709);font-weight:bold\">burn</div></td></tr><tr><td>2019-11-04 - 2019-11-10</td><td><div style=\"color:rgba(0, 0, 255, 0.6618931521984512);font-weight:bold\">@marklevinshow</div></td><td><div style=\"color:rgba(0, 0, 255, 0.9301892157607312);font-weight:bold\">VOTE</div></td><td><div style=\"color:rgba(0, 0, 255, 0.6504892280386496);font-weight:bold\">Kentucky</div></td><td><div style=\"color:rgba(0, 0, 255, 0.5699827985672061);font-weight:bold\">Monroe</div></td><td><div style=\"color:rgba(0, 0, 255, 0.28827767907169316);font-weight:bold\">zone</div></td><td><div style=\"color:rgba(0, 0, 255, 0.7317039364377198);font-weight:bold\">STU</div></td><td><div style=\"color:rgba(0, 0, 255, 0.7748662570228737);font-weight:bold\">@GreggJarrett</div></td></tr><tr><td>2019-11-11 - 2019-11-17</td><td><div style=\"color:rgba(0, 0, 255, 0.521108438557709);font-weight:bold\">veteran</div></td><td><div style=\"color:rgba(0, 0, 255, 0.3849913992836031);font-weight:bold\">winger</div></td><td><div style=\"color:rgba(0, 0, 255, 0.614199916805125);font-weight:bold\">@GOPoversight</div></td><td><div style=\"color:rgba(0, 0, 255, 0.8320551215592933);font-weight:bold\">@Scavino45</div></td><td><div style=\"color:rgba(0, 0, 255, 0.6981812966046377);font-weight:bold\">Yovanovitch</div></td><td><div style=\"color:rgba(0, 0, 255, 0.7704865909959733);font-weight:bold\">@EddieRispone</div></td><td><div style=\"color:rgba(0, 0, 255, 0.4217555407361011);font-weight:bold\">Paul</div></td></tr><tr><td>2019-11-18 - 2019-11-24</td><td><div style=\"color:rgba(0, 0, 255, 0.3849913992836031);font-weight:bold\">cordial</div></td><td><div style=\"color:rgba(0, 0, 255, 0.8750430035819843);font-weight:bold\">Vindman</div></td><td><div style=\"color:rgba(0, 0, 255, 1.0272082763990211);font-weight:bold\">Sondland</div></td><td><div style=\"color:rgba(0, 0, 255, 0.4249122182493413);font-weight:bold\">WANT</div></td><td><div style=\"color:rgba(0, 0, 255, 0.6981812966046377);font-weight:bold\">SCHIFF</div></td><td><div style=\"color:rgba(0, 0, 255, 0.6229394288339409);font-weight:bold\">Cameron</div></td><td><div style=\"color:rgba(0, 0, 255, 0.5883648692934552);font-weight:bold\">@BuckSexton</div></td></tr><tr><td>2019-11-25 - 2019-12-01</td><td><div style=\"color:rgba(0, 0, 255, 0.2);font-weight:bold\">@SalenaZito</div></td><td><div style=\"color:rgba(0, 0, 255, 0.4782420931483123);font-weight:bold\">@DailyCaller</div></td><td><div style=\"color:rgba(0, 0, 255, 0.28827767907169316);font-weight:bold\">🤣</div></td><td><div style=\"color:rgba(0, 0, 255, 0.3433390671442646);font-weight:bold\">THANKSGIVING</div></td><td><div style=\"color:rgba(0, 0, 255, 0.2);font-weight:bold\">https://t.co/3ro4eSJloo</div></td><td><div style=\"color:rgba(0, 0, 255, 0.2);font-weight:bold\">😮</div></td><td><div style=\"color:rgba(0, 0, 255, 0.7549741978508093);font-weight:bold\">AIDS</div></td></tr><tr><td>2019-12-02 - 2019-12-08</td><td><div style=\"color:rgba(0, 0, 255, 0.5597062812783278);font-weight:bold\">NATO</div></td><td><div style=\"color:rgba(0, 0, 255, 0.3849913992836031);font-weight:bold\">@jensstoltenberg</div></td><td><div style=\"color:rgba(0, 0, 255, 0.6716695335721323);font-weight:bold\">Turley</div></td><td><div style=\"color:rgba(0, 0, 255, 0.40847822359554714);font-weight:bold\">@RepMikeJohnson</div></td><td><div style=\"color:rgba(0, 0, 255, 0.5615467574269895);font-weight:bold\">Pensacola</div></td><td><div style=\"color:rgba(0, 0, 255, 0.6229394288339409);font-weight:bold\">@DanHenninger</div></td><td><div style=\"color:rgba(0, 0, 255, 1.6799311942688246);font-weight:bold\">@WarRoom2020</div></td></tr><tr><td>2019-12-09 - 2019-12-15</td><td><div style=\"color:rgba(0, 0, 255, 0.3433390671442646);font-weight:bold\">https://t.co/jUXHPU85PQ</div></td><td><div style=\"color:rgba(0, 0, 255, 0.9908216905095815);font-weight:bold\">USMCA</div></td><td><div style=\"color:rgba(0, 0, 255, 0.9714503749599337);font-weight:bold\">@JennaEllisEsq</div></td><td><div style=\"color:rgba(0, 0, 255, 0.9802421550834945);font-weight:bold\">@RepMattGaetz</div></td><td><div style=\"color:rgba(0, 0, 255, 0.40847822359554714);font-weight:bold\">Boris</div></td><td><div style=\"color:rgba(0, 0, 255, 0.6229394288339409);font-weight:bold\">@WSJopinion</div></td><td><div style=\"color:rgba(0, 0, 255, 0.40847822359554714);font-weight:bold\">I.G.</div></td></tr><tr><td>2019-12-16 - 2019-12-22</td><td><div style=\"color:rgba(0, 0, 255, 0.70985883936427);font-weight:bold\">@RudyGiuliani</div></td><td><div style=\"color:rgba(0, 0, 255, 0.4290070049852057);font-weight:bold\">Endorsement</div></td><td><div style=\"color:rgba(0, 0, 255, 0.9185662158139809);font-weight:bold\">👇</div></td><td><div style=\"color:rgba(0, 0, 255, 0.8278779285192039);font-weight:bold\">impeachment</div></td><td><div style=\"color:rgba(0, 0, 255, 0.8440153761038451);font-weight:bold\">Jeff</div></td><td><div style=\"color:rgba(0, 0, 255, 0.4249122182493413);font-weight:bold\">Mac</div></td><td><div style=\"color:rgba(0, 0, 255, 0.2773216826358304);font-weight:bold\">Watergate</div></td></tr><tr><td>2019-12-23 - 2019-12-29</td><td><div style=\"color:rgba(0, 0, 255, 0.5841185758040512);font-weight:bold\">Senate</div></td><td><div style=\"color:rgba(0, 0, 255, 0.31897401477516896);font-weight:bold\">Keeping</div></td><td><div style=\"color:rgba(0, 0, 255, 0.2);font-weight:bold\">https://t.co/uUgIpbUxow</div></td><td><div style=\"color:rgba(0, 0, 255, 0.7741583574783653);font-weight:bold\">homeless</div></td><td><div style=\"color:rgba(0, 0, 255, 0.8784120181787698);font-weight:bold\">@TrumpWarRoom</div></td><td><div style=\"color:rgba(0, 0, 255, 1.993057609625208);font-weight:bold\">\n",
              "</div></td><td><div style=\"color:rgba(0, 0, 255, 0.2);font-weight:bold\">https://t.co/XLqr9vX1xO</div></td></tr><tr><td>2019-12-30 - 2020-01-05</td><td><div style=\"color:rgba(0, 0, 255, 0.2);font-weight:bold\">Hikind</div></td><td><div style=\"color:rgba(0, 0, 255, 0.8976515998367767);font-weight:bold\">Iraq</div></td><td><div style=\"color:rgba(0, 0, 255, 0.9399655971344123);font-weight:bold\">@heatherjones333</div></td><td><div style=\"color:rgba(0, 0, 255, 0.3016867350049261);font-weight:bold\">Asian</div></td><td><div style=\"color:rgba(0, 0, 255, 1.1183123496168716);font-weight:bold\">Iraq</div></td><td><div style=\"color:rgba(0, 0, 255, 0.375215017909922);font-weight:bold\">Iran</div></td><td><div style=\"color:rgba(0, 0, 255, 0.2020411351286188);font-weight:bold\">strike</div></td></tr><tr><td>2020-01-06 - 2020-01-12</td><td><div style=\"color:rgba(0, 0, 255, 0.2356693504964919);font-weight:bold\">continuation</div></td><td><div style=\"color:rgba(0, 0, 255, 0.8655471097105314);font-weight:bold\">@LindseyGrahamSC</div></td><td><div style=\"color:rgba(0, 0, 255, 0.2);font-weight:bold\">Assessment</div></td><td><div style=\"color:rgba(0, 0, 255, 0.3433390671442646);font-weight:bold\">DOING</div></td><td><div style=\"color:rgba(0, 0, 255, 0.47095672180455495);font-weight:bold\">@SenTomCotton</div></td><td><div style=\"color:rgba(0, 0, 255, 0.6716695335721323);font-weight:bold\">شما</div></td><td><div style=\"color:rgba(0, 0, 255, 0.6716695335721323);font-weight:bold\">ICIG</div></td></tr><tr><td>2020-01-13 - 2020-01-19</td><td><div style=\"color:rgba(0, 0, 255, 0.5699827985672061);font-weight:bold\">NancyPelosiFakeNews</div></td><td><div style=\"color:rgba(0, 0, 255, 0.2);font-weight:bold\">https://t.co/HYfBmtYMqF</div></td><td><div style=\"color:rgba(0, 0, 255, 0.5699827985672061);font-weight:bold\">DemocraticDebate</div></td><td><div style=\"color:rgba(0, 0, 255, 0.5666604751666343);font-weight:bold\">@MarshaBlackburn</div></td><td><div style=\"color:rgba(0, 0, 255, 0.7317039364377198);font-weight:bold\">به</div></td><td><div style=\"color:rgba(0, 0, 255, 0.3849913992836031);font-weight:bold\">@ashleyhayek</div></td><td><div style=\"color:rgba(0, 0, 255, 0.5075043003581985);font-weight:bold\">@paulkrugman</div></td></tr><tr><td>2020-01-20 - 2020-01-26</td><td><div style=\"color:rgba(0, 0, 255, 0.31897401477516896);font-weight:bold\">@OliverMcGee</div></td><td><div style=\"color:rgba(0, 0, 255, 0.3538427063779909);font-weight:bold\">Roger</div></td><td><div style=\"color:rgba(0, 0, 255, 2.0499139928360304);font-weight:bold\">@NRSC</div></td><td><div style=\"color:rgba(0, 0, 255, 0.31897401477516896);font-weight:bold\">clown</div></td><td><div style=\"color:rgba(0, 0, 255, 0.8698484640611832);font-weight:bold\">@GreggJarrett</div></td><td><div style=\"color:rgba(0, 0, 255, 0.7500860071639688);font-weight:bold\">@SenJohnBarrasso</div></td><td><div style=\"color:rgba(0, 0, 255, 0.5075043003581985);font-weight:bold\">Bryant</div></td></tr><tr><td>2020-01-27 - 2020-02-02</td><td><div style=\"color:rgba(0, 0, 255, 0.8256672124722488);font-weight:bold\">Bolton</div></td><td><div style=\"color:rgba(0, 0, 255, 0.5075043003581985);font-weight:bold\">Wildwood</div></td><td><div style=\"color:rgba(0, 0, 255, 0.4563301002765868);font-weight:bold\">argument</div></td><td><div style=\"color:rgba(0, 0, 255, 0.5699827985672061);font-weight:bold\">https://t.co/66006PDuKf</div></td><td><div style=\"color:rgba(0, 0, 255, 0.44502580214919063);font-weight:bold\">Witnesses</div></td><td><div style=\"color:rgba(0, 0, 255, 0.8358347667860662);font-weight:bold\">Rimi</div></td><td><div style=\"color:rgba(0, 0, 255, 0.8143686970462058);font-weight:bold\">@GOP</div></td></tr><tr><td>2020-02-03 - 2020-02-09</td><td><div style=\"color:rgba(0, 0, 255, 0.6098786745922414);font-weight:bold\">ad</div></td><td><div style=\"color:rgba(0, 0, 255, 1.4085967785264342);font-weight:bold\">Iowa</div></td><td><div style=\"color:rgba(0, 0, 255, 1.6799311942688246);font-weight:bold\">PelosiTantrum</div></td><td><div style=\"color:rgba(0, 0, 255, 0.3016867350049261);font-weight:bold\">female</div></td><td><div style=\"color:rgba(0, 0, 255, 0.5597062812783278);font-weight:bold\">@dbongino</div></td><td><div style=\"color:rgba(0, 0, 255, 0.6981812966046377);font-weight:bold\">DemDebate</div></td><td><div style=\"color:rgba(0, 0, 255, 0.9006833169386932);font-weight:bold\">Romney</div></td></tr><tr><td>2020-02-10 - 2020-02-16</td><td><div style=\"color:rgba(0, 0, 255, 0.5699827985672061);font-weight:bold\">@mirandadevine</div></td><td><div style=\"color:rgba(0, 0, 255, 0.7741583574783653);font-weight:bold\">@paulsperry</div></td><td><div style=\"color:rgba(0, 0, 255, 0.5946063666927293);font-weight:bold\">Endorsement</div></td><td><div style=\"color:rgba(0, 0, 255, 0.3849913992836031);font-weight:bold\">Jeb</div></td><td><div style=\"color:rgba(0, 0, 255, 0.6716695335721323);font-weight:bold\">Parkland</div></td><td><div style=\"color:rgba(0, 0, 255, 0.787195444210075);font-weight:bold\">@SenateGOP</div></td><td><div style=\"color:rgba(0, 0, 255, 0.2);font-weight:bold\">Quickly</div></td></tr><tr><td>2020-02-17 - 2020-02-23</td><td><div style=\"color:rgba(0, 0, 255, 0.6981812966046377);font-weight:bold\">Daytona</div></td><td><div style=\"color:rgba(0, 0, 255, 1.1249569964180155);font-weight:bold\">foreperson</div></td><td><div style=\"color:rgba(0, 0, 255, 0.7034947259457509);font-weight:bold\">@TomFitton</div></td><td><div style=\"color:rgba(0, 0, 255, 0.7549001544510081);font-weight:bold\">Mini</div></td><td><div style=\"color:rgba(0, 0, 255, 0.5396347645552639);font-weight:bold\">reduction</div></td><td><div style=\"color:rgba(0, 0, 255, 0.5179182826110716);font-weight:bold\">Bernie</div></td><td></td></tr></table>"
            ],
            "text/plain": [
              "<IPython.core.display.HTML object>"
            ]
          },
          "metadata": {
            "tags": []
          }
        }
      ]
    },
    {
      "cell_type": "markdown",
      "metadata": {
        "id": "TZUPEl_hQFCG",
        "colab_type": "text"
      },
      "source": [
        "# TF-IDF in sklearn"
      ]
    },
    {
      "cell_type": "code",
      "metadata": {
        "id": "lhbclaG0XJWB",
        "colab_type": "code",
        "outputId": "3de498ad-73ce-4bde-de7d-cb070a0f4813",
        "colab": {
          "base_uri": "https://localhost:8080/",
          "height": 102
        }
      },
      "source": [
        "from sklearn.feature_extraction.text import TfidfVectorizer\n",
        "data = [\n",
        "  \"One, two, three.\",\n",
        "  \"Two, three.\",\n",
        "  \"Three.\"\n",
        "]\n",
        "\n",
        "# idf = log(n_documents / count) + 1\n",
        "# smooth_idf = log((n_documents + 1) / (count + 1)) + 1\n",
        "vectorizer = TfidfVectorizer(smooth_idf=False)\n",
        "vectorizer.fit(data)\n",
        "\n",
        "vectorizer_internals = []\n",
        "\n",
        "# vectorizer.vocabulary_ contains word -> index mapping\n",
        "# vectorizer.idf_ contains the idf value for each index\n",
        "for word, idx in vectorizer.vocabulary_.items():\n",
        "  idf = vectorizer.idf_[idx]\n",
        "  count = len(data) / exp(idf - 1)  # here we restore word count from idf\n",
        "  vectorizer_internals.append([word, idf, count])\n",
        "\n",
        "print(tabulate(vectorizer_internals, headers=[\"word\", \"idf\", \"count\"]))"
      ],
      "execution_count": 0,
      "outputs": [
        {
          "output_type": "stream",
          "text": [
            "word        idf    count\n",
            "------  -------  -------\n",
            "one     2.09861        1\n",
            "two     1.40547        2\n",
            "three   1              3\n"
          ],
          "name": "stdout"
        }
      ]
    },
    {
      "cell_type": "markdown",
      "metadata": {
        "id": "Zr-ISjpjgDov",
        "colab_type": "text"
      },
      "source": [
        "Обученный векторизатор можно применять на новых текстах."
      ]
    },
    {
      "cell_type": "code",
      "metadata": {
        "id": "E9WHwrv4gHjG",
        "colab_type": "code",
        "outputId": "203d7584-dc27-429b-a2d6-5c89781f6287",
        "colab": {
          "base_uri": "https://localhost:8080/",
          "height": 51
        }
      },
      "source": [
        "pprint(vectorizer.transform([\"Two, three, four\", \"Five\"]).todense())"
      ],
      "execution_count": 0,
      "outputs": [
        {
          "output_type": "stream",
          "text": [
            "matrix([[0.        , 0.57973867, 0.81480247],\n",
            "        [0.        , 0.        , 0.        ]])\n"
          ],
          "name": "stdout"
        }
      ]
    },
    {
      "cell_type": "markdown",
      "metadata": {
        "id": "cTRD2Kl1ggUS",
        "colab_type": "text"
      },
      "source": [
        "Метод `transform()` преобразует массив входных текстов в матрицу, где строка соответствует тексту, а $i$-й столбец соответствует слову из обучающего множества, и это соответствие хранится в атрибуте `vocabulary_`.\n",
        "\n",
        "Заметим, что:\n",
        "1. Новые слова (\"four\", \"five\") игнорируются.\n",
        "1. Ненулевые векторы нормализованы (имеют длину 1)."
      ]
    },
    {
      "cell_type": "markdown",
      "metadata": {
        "id": "MNPriLQveCv6",
        "colab_type": "text"
      },
      "source": [
        "По умолчанию `TfidfVectorizer` делает минимальную предобработку текста, в частности приведение к нижнему регистру и разбиение на токены по знакам препинания."
      ]
    },
    {
      "cell_type": "code",
      "metadata": {
        "id": "Qy9sKjaieW36",
        "colab_type": "code",
        "outputId": "4606d1da-673c-4f5c-9c14-34bc7f4a715d",
        "colab": {
          "base_uri": "https://localhost:8080/",
          "height": 153
        }
      },
      "source": [
        "text = tweets[0][\"text\"]\n",
        "print(text)\n",
        "vectorizer = TfidfVectorizer().fit([text])\n",
        "pprint(vectorizer.vocabulary_)"
      ],
      "execution_count": 0,
      "outputs": [
        {
          "output_type": "stream",
          "text": [
            "Incredible people, great Rally! https://t.co/3i6tgfqrRl\n",
            "{'3i6tgfqrrl': 0,\n",
            " 'co': 1,\n",
            " 'great': 2,\n",
            " 'https': 3,\n",
            " 'incredible': 4,\n",
            " 'people': 5,\n",
            " 'rally': 6}\n"
          ],
          "name": "stdout"
        }
      ]
    },
    {
      "cell_type": "markdown",
      "metadata": {
        "id": "CgFIQE5MeXft",
        "colab_type": "text"
      },
      "source": [
        "## sklearn + spaCy\n",
        "Но метод обработки текста можно переопределить."
      ]
    },
    {
      "cell_type": "code",
      "metadata": {
        "id": "uzw1I1LLQvuS",
        "colab_type": "code",
        "outputId": "66bd96cb-9ce3-44fb-822e-d98d0132ffb5",
        "colab": {
          "base_uri": "https://localhost:8080/",
          "height": 207
        }
      },
      "source": [
        "nlp = spacy.load(\"en\", disable=[\"parser\", \"ner\", \"tagger\"])\n",
        "\n",
        "def spacy_tokenizer(text):\n",
        "  return [t.lemma_ for t in nlp(text)]\n",
        "\n",
        "text = tweets[0][\"text\"]\n",
        "print(text)\n",
        "vectorizer_spacy = TfidfVectorizer(tokenizer=spacy_tokenizer).fit([text])\n",
        "pprint(vectorizer_spacy.vocabulary_)"
      ],
      "execution_count": 0,
      "outputs": [
        {
          "output_type": "stream",
          "text": [
            "Incredible people, great Rally! https://t.co/3i6tgfqrRl\n",
            "{'!': 0,\n",
            " ',': 1,\n",
            " 'great': 2,\n",
            " 'https://t.co/3i6tgfqrrl': 3,\n",
            " 'incredible': 4,\n",
            " 'people': 5,\n",
            " 'rally': 6}\n"
          ],
          "name": "stdout"
        },
        {
          "output_type": "stream",
          "text": [
            "/usr/local/lib/python3.6/dist-packages/sklearn/feature_extraction/text.py:507: UserWarning: The parameter 'token_pattern' will not be used since 'tokenizer' is not None'\n",
            "  warnings.warn(\"The parameter 'token_pattern' will not be used\"\n"
          ],
          "name": "stderr"
        }
      ]
    },
    {
      "cell_type": "markdown",
      "metadata": {
        "id": "lePxdd8FaE6p",
        "colab_type": "text"
      },
      "source": [
        "# Text similarity via TF-IDF: Quora Question Pairs"
      ]
    },
    {
      "cell_type": "code",
      "metadata": {
        "id": "lWXCqNOCacNW",
        "colab_type": "code",
        "outputId": "12ba44bc-0a4a-42ac-c3b6-b7cf56baf4c6",
        "colab": {
          "base_uri": "https://localhost:8080/",
          "height": 359
        }
      },
      "source": [
        "import pandas as pd\n",
        "\n",
        "df = pd.read_csv(\"harbour-space-text-mining-course/datasets/quora_question_pairs/train.csv\")\n",
        "df = df.head(20000)  # select a subset of rows to speed up the demonstration\n",
        "df.head(10)"
      ],
      "execution_count": 0,
      "outputs": [
        {
          "output_type": "execute_result",
          "data": {
            "text/html": [
              "<div>\n",
              "<style scoped>\n",
              "    .dataframe tbody tr th:only-of-type {\n",
              "        vertical-align: middle;\n",
              "    }\n",
              "\n",
              "    .dataframe tbody tr th {\n",
              "        vertical-align: top;\n",
              "    }\n",
              "\n",
              "    .dataframe thead th {\n",
              "        text-align: right;\n",
              "    }\n",
              "</style>\n",
              "<table border=\"1\" class=\"dataframe\">\n",
              "  <thead>\n",
              "    <tr style=\"text-align: right;\">\n",
              "      <th></th>\n",
              "      <th>id</th>\n",
              "      <th>qid1</th>\n",
              "      <th>qid2</th>\n",
              "      <th>question1</th>\n",
              "      <th>question2</th>\n",
              "      <th>is_duplicate</th>\n",
              "    </tr>\n",
              "  </thead>\n",
              "  <tbody>\n",
              "    <tr>\n",
              "      <th>0</th>\n",
              "      <td>0</td>\n",
              "      <td>1</td>\n",
              "      <td>2</td>\n",
              "      <td>What is the step by step guide to invest in sh...</td>\n",
              "      <td>What is the step by step guide to invest in sh...</td>\n",
              "      <td>0</td>\n",
              "    </tr>\n",
              "    <tr>\n",
              "      <th>1</th>\n",
              "      <td>1</td>\n",
              "      <td>3</td>\n",
              "      <td>4</td>\n",
              "      <td>What is the story of Kohinoor (Koh-i-Noor) Dia...</td>\n",
              "      <td>What would happen if the Indian government sto...</td>\n",
              "      <td>0</td>\n",
              "    </tr>\n",
              "    <tr>\n",
              "      <th>2</th>\n",
              "      <td>2</td>\n",
              "      <td>5</td>\n",
              "      <td>6</td>\n",
              "      <td>How can I increase the speed of my internet co...</td>\n",
              "      <td>How can Internet speed be increased by hacking...</td>\n",
              "      <td>0</td>\n",
              "    </tr>\n",
              "    <tr>\n",
              "      <th>3</th>\n",
              "      <td>3</td>\n",
              "      <td>7</td>\n",
              "      <td>8</td>\n",
              "      <td>Why am I mentally very lonely? How can I solve...</td>\n",
              "      <td>Find the remainder when [math]23^{24}[/math] i...</td>\n",
              "      <td>0</td>\n",
              "    </tr>\n",
              "    <tr>\n",
              "      <th>4</th>\n",
              "      <td>4</td>\n",
              "      <td>9</td>\n",
              "      <td>10</td>\n",
              "      <td>Which one dissolve in water quikly sugar, salt...</td>\n",
              "      <td>Which fish would survive in salt water?</td>\n",
              "      <td>0</td>\n",
              "    </tr>\n",
              "    <tr>\n",
              "      <th>5</th>\n",
              "      <td>5</td>\n",
              "      <td>11</td>\n",
              "      <td>12</td>\n",
              "      <td>Astrology: I am a Capricorn Sun Cap moon and c...</td>\n",
              "      <td>I'm a triple Capricorn (Sun, Moon and ascendan...</td>\n",
              "      <td>1</td>\n",
              "    </tr>\n",
              "    <tr>\n",
              "      <th>6</th>\n",
              "      <td>6</td>\n",
              "      <td>13</td>\n",
              "      <td>14</td>\n",
              "      <td>Should I buy tiago?</td>\n",
              "      <td>What keeps childern active and far from phone ...</td>\n",
              "      <td>0</td>\n",
              "    </tr>\n",
              "    <tr>\n",
              "      <th>7</th>\n",
              "      <td>7</td>\n",
              "      <td>15</td>\n",
              "      <td>16</td>\n",
              "      <td>How can I be a good geologist?</td>\n",
              "      <td>What should I do to be a great geologist?</td>\n",
              "      <td>1</td>\n",
              "    </tr>\n",
              "    <tr>\n",
              "      <th>8</th>\n",
              "      <td>8</td>\n",
              "      <td>17</td>\n",
              "      <td>18</td>\n",
              "      <td>When do you use シ instead of し?</td>\n",
              "      <td>When do you use \"&amp;\" instead of \"and\"?</td>\n",
              "      <td>0</td>\n",
              "    </tr>\n",
              "    <tr>\n",
              "      <th>9</th>\n",
              "      <td>9</td>\n",
              "      <td>19</td>\n",
              "      <td>20</td>\n",
              "      <td>Motorola (company): Can I hack my Charter Moto...</td>\n",
              "      <td>How do I hack Motorola DCX3400 for free internet?</td>\n",
              "      <td>0</td>\n",
              "    </tr>\n",
              "  </tbody>\n",
              "</table>\n",
              "</div>"
            ],
            "text/plain": [
              "   id  qid1  ...                                          question2 is_duplicate\n",
              "0   0     1  ...  What is the step by step guide to invest in sh...            0\n",
              "1   1     3  ...  What would happen if the Indian government sto...            0\n",
              "2   2     5  ...  How can Internet speed be increased by hacking...            0\n",
              "3   3     7  ...  Find the remainder when [math]23^{24}[/math] i...            0\n",
              "4   4     9  ...            Which fish would survive in salt water?            0\n",
              "5   5    11  ...  I'm a triple Capricorn (Sun, Moon and ascendan...            1\n",
              "6   6    13  ...  What keeps childern active and far from phone ...            0\n",
              "7   7    15  ...          What should I do to be a great geologist?            1\n",
              "8   8    17  ...              When do you use \"&\" instead of \"and\"?            0\n",
              "9   9    19  ...  How do I hack Motorola DCX3400 for free internet?            0\n",
              "\n",
              "[10 rows x 6 columns]"
            ]
          },
          "metadata": {
            "tags": []
          },
          "execution_count": 28
        }
      ]
    },
    {
      "cell_type": "code",
      "metadata": {
        "id": "pOUD76sHt9st",
        "colab_type": "code",
        "colab": {}
      },
      "source": [
        "import numpy as np\n",
        "from sklearn.model_selection import train_test_split\n",
        "\n",
        "df_train, df_test = train_test_split(df.fillna(\".\"), test_size=0.5, shuffle=True, random_state=0)\n",
        "quora_vectorizer = TfidfVectorizer(tokenizer=spacy_tokenizer)\n",
        "questions = np.hstack([df_train.question1.values, df_train.question2.values])"
      ],
      "execution_count": 0,
      "outputs": []
    },
    {
      "cell_type": "code",
      "metadata": {
        "id": "i1Dhzb_a62lW",
        "colab_type": "code",
        "outputId": "66661d71-afb1-42ae-f30c-8db733c86133",
        "colab": {
          "base_uri": "https://localhost:8080/",
          "height": 207
        }
      },
      "source": [
        "quora_vectorizer.fit(questions)"
      ],
      "execution_count": 0,
      "outputs": [
        {
          "output_type": "stream",
          "text": [
            "/usr/local/lib/python3.6/dist-packages/sklearn/feature_extraction/text.py:507: UserWarning: The parameter 'token_pattern' will not be used since 'tokenizer' is not None'\n",
            "  warnings.warn(\"The parameter 'token_pattern' will not be used\"\n"
          ],
          "name": "stderr"
        },
        {
          "output_type": "execute_result",
          "data": {
            "text/plain": [
              "TfidfVectorizer(analyzer='word', binary=False, decode_error='strict',\n",
              "                dtype=<class 'numpy.float64'>, encoding='utf-8',\n",
              "                input='content', lowercase=True, max_df=1.0, max_features=None,\n",
              "                min_df=1, ngram_range=(1, 1), norm='l2', preprocessor=None,\n",
              "                smooth_idf=True, stop_words=None, strip_accents=None,\n",
              "                sublinear_tf=False, token_pattern='(?u)\\\\b\\\\w\\\\w+\\\\b',\n",
              "                tokenizer=<function spacy_tokenizer at 0x7f4e689a87b8>,\n",
              "                use_idf=True, vocabulary=None)"
            ]
          },
          "metadata": {
            "tags": []
          },
          "execution_count": 30
        }
      ]
    },
    {
      "cell_type": "code",
      "metadata": {
        "id": "VWU_7cZqy4lJ",
        "colab_type": "code",
        "colab": {}
      },
      "source": [
        "# extract TF-IDF vectors\n",
        "question_1_vectors = quora_vectorizer.transform(df_test.question1)\n",
        "question_2_vectors = quora_vectorizer.transform(df_test.question2)"
      ],
      "execution_count": 0,
      "outputs": []
    },
    {
      "cell_type": "code",
      "metadata": {
        "id": "n7A9Tq-47gcN",
        "colab_type": "code",
        "outputId": "b7e89a73-993f-4967-ba7e-cbe9e18468c4",
        "colab": {
          "base_uri": "https://localhost:8080/",
          "height": 83,
          "referenced_widgets": [
            "87b51ef8b07f41fe8080609ebfacfda0",
            "214d54ac085a4270b297679a542e2906",
            "5bca5f94b94f4d0e9191a503793db0b1",
            "581089a20c704a64aa24906aa5744361",
            "4450035a2b6a4519a0f8728f15f37f21",
            "0fd5e8b91b5e4c2a9885f65375337c84",
            "30743647cf5640e798c250f7af69317a",
            "b4b3ca8c6bce4dde9e05939a847cc84f"
          ]
        }
      },
      "source": [
        "from sklearn.metrics import roc_auc_score\n",
        "\n",
        "# compute distances between TF-IDF vectors\n",
        "# iterate over pairs using `zip()` generator\n",
        "tf_idf_similarity = [\n",
        "  # v1, v2 are sparse matrices: convert their dot product into a dense matrix and then to a scalar\n",
        "  np.dot(v1, v2.T).todense().item()  \n",
        "  for v1, v2 in tqdm_notebook(zip(question_1_vectors, question_2_vectors), total=question_1_vectors.shape[0])\n",
        "]\n",
        "# evaluate ROC AUC score\n",
        "print(\"ROC AUC:\", roc_auc_score(df_test.is_duplicate, tf_idf_similarity))"
      ],
      "execution_count": 0,
      "outputs": [
        {
          "output_type": "display_data",
          "data": {
            "application/vnd.jupyter.widget-view+json": {
              "model_id": "87b51ef8b07f41fe8080609ebfacfda0",
              "version_minor": 0,
              "version_major": 2
            },
            "text/plain": [
              "HBox(children=(IntProgress(value=0, max=10000), HTML(value='')))"
            ]
          },
          "metadata": {
            "tags": []
          }
        },
        {
          "output_type": "stream",
          "text": [
            "\n",
            "ROC AUC: 0.7190145081862447\n"
          ],
          "name": "stdout"
        }
      ]
    },
    {
      "cell_type": "markdown",
      "metadata": {
        "id": "MQH56yZkgXaO",
        "colab_type": "text"
      },
      "source": [
        "# [OPTIONAL] sklearn vectorizers"
      ]
    },
    {
      "cell_type": "markdown",
      "metadata": {
        "id": "Qpu0kmiKgcwm",
        "colab_type": "text"
      },
      "source": [
        "# [OPTIONAL] sklearn pipelines"
      ]
    },
    {
      "cell_type": "markdown",
      "metadata": {
        "id": "pNfTlPdbmq8E",
        "colab_type": "text"
      },
      "source": [
        "# Ссылки\n",
        "- [Natural Language Processing with Python, chapter 3\n",
        "](http://www.nltk.org/book/ch03.html)\n",
        "- [Advanced NLP with spaCy, chapter 1](https://course.spacy.io/)\n",
        "- https://en.wikipedia.org/wiki/Lemma_(morphology)"
      ]
    }
  ]
}